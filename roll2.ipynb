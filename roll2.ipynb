{
 "cells": [
  {
   "cell_type": "code",
   "execution_count": 1,
   "metadata": {},
   "outputs": [],
   "source": [
    "import pandas as pd \n",
    "import matplotlib.pyplot as plt\n",
    "import numpy as np\n",
    "import networkx as nx\n",
    "from collections import Counter\n",
    "import time\n",
    "import pickle\n",
    "import itertools\n",
    "import random\n",
    "import copy \n",
    "from scipy import stats"
   ]
  },
  {
   "cell_type": "code",
   "execution_count": 2,
   "metadata": {},
   "outputs": [
    {
     "name": "stdout",
     "output_type": "stream",
     "text": [
      "importing data...\n",
      "Took 18.304155111312866\n",
      "done.\n"
     ]
    }
   ],
   "source": [
    "print('importing data...')\n",
    "start = time.time()\n",
    "if 1: # linux\n",
    "    allMem = pd.read_csv('/home/wade/Documents/Datasets/congressional-voting-records/HSall_members.csv')\n",
    "    allPty = pd.read_csv('/home/wade/Documents/Datasets/congressional-voting-records/HSall_parties.csv')\n",
    "    allRol = pd.read_csv('/home/wade/Documents/Datasets/congressional-voting-records/HSall_rollcalls.csv',low_memory=False)\n",
    "    allVte = pd.read_csv('/home/wade/Documents/Datasets/congressional-voting-records/HSall_votes.csv')\n",
    "    cast_codes = pd.read_csv('/home/wade/codingCoop/congress/data/cast_codes.csv')\n",
    "    \n",
    "if 0: # unix\n",
    "    allMem = pd.read_csv('/Volumes/NO NAME/congressional-voting-records/HSall_members.csv')\n",
    "    allPty = pd.read_csv('/Volumes/NO NAME/congressional-voting-records/HSall_parties.csv')\n",
    "    allRol = pd.read_csv('/Volumes/NO NAME/congressional-voting-records/HSall_rollcalls.csv',low_memory=False)\n",
    "    allVte = pd.read_csv('/Volumes/NO NAME/congressional-voting-records/HSall_votes.csv')\n",
    "\n",
    "\n",
    "\n",
    "#print(allMem.head())\n",
    "#print(allPty.head())\n",
    "print('Took', (time.time() - start))\n",
    "print('done.')"
   ]
  },
  {
   "cell_type": "code",
   "execution_count": 45,
   "metadata": {},
   "outputs": [
    {
     "name": "stdout",
     "output_type": "stream",
     "text": [
      "number of members: 48804\n",
      "number of parties: 819\n",
      "number of Rolls: 105254\n",
      "number of Votes: 24023858\n",
      "          congress chamber  rollnumber  icpsr  cast_code\n",
      "24023853       115  Senate         187  49300          1\n",
      "24023854       115  Senate         187  49308          1\n",
      "24023855       115  Senate         187  49703          1\n",
      "24023856       115  Senate         187  49706          1\n",
      "24023857       115  Senate         187  94659          1\n",
      "NXT:\n",
      "   congress    chamber  icpsr  state_icpsr  district_code state_abbrev  \\\n",
      "0         1  President  99869           99              0          USA   \n",
      "1         1      House   4766            1             98           CT   \n",
      "2         1      House   8457            1             98           CT   \n",
      "3         1      House   9062            1             98           CT   \n",
      "4         1      House   9489            1             98           CT   \n",
      "\n",
      "   party_code  occupancy  last_means                  bioname bioguide_id  \\\n",
      "0        5000        NaN         NaN       WASHINGTON, George         NaN   \n",
      "1        5000        0.0         1.0     HUNTINGTON, Benjamin     H000995   \n",
      "2        5000        0.0         1.0           SHERMAN, Roger     S000349   \n",
      "3        5000        0.0         1.0        STURGES, Jonathan     S001047   \n",
      "4        5000        0.0         1.0  TRUMBULL, Jonathan, Jr.     T000389   \n",
      "\n",
      "     born    died   dim1   dim2  log_likelihood  geo_mean_probability  \\\n",
      "0     NaN     NaN    NaN    NaN             NaN                   NaN   \n",
      "1  1736.0  1800.0  0.639  0.304       -29.04670                 0.708   \n",
      "2  1721.0  1793.0  0.589  0.307       -40.59580                 0.684   \n",
      "3  1740.0  1819.0  0.531  0.448       -25.87361                 0.724   \n",
      "4  1740.0  1809.0  0.692  0.246       -30.47113                 0.750   \n",
      "\n",
      "   number_of_votes  number_of_errors  conditional  \n",
      "0              NaN               NaN          NaN  \n",
      "1             84.0              12.0          NaN  \n",
      "2            107.0              18.0          NaN  \n",
      "3             80.0              13.0          NaN  \n",
      "4            106.0              11.0          NaN  \n",
      "NXT:\n",
      "   congress chamber  rollnumber        date  session  clerk_rollnumber  mid_1  \\\n",
      "0         1   House           1  1789-05-16      NaN               NaN  0.229   \n",
      "1         1   House           2  1789-05-22      NaN               NaN -0.090   \n",
      "2         1   House           3  1789-06-22      NaN               NaN -0.176   \n",
      "3         1   House           4  1789-06-22      NaN               NaN  0.081   \n",
      "4         1   House           5  1789-06-24      NaN               NaN -0.168   \n",
      "\n",
      "   mid_2  spread_1  spread_2  log_likelihood bill_number vote_result  \\\n",
      "0 -0.378     0.229    -0.378         -13.144         HR2         NaN   \n",
      "1  1.791    -0.090     1.791          -1.900         NaN         NaN   \n",
      "2  0.922    -0.176     0.922         -22.048         HR8         NaN   \n",
      "3 -0.327     0.081    -0.327         -30.355         HR8         NaN   \n",
      "4  0.984    -0.168     0.984         -22.221         HR8         NaN   \n",
      "\n",
      "  vote_desc vote_question                                           dtl_desc  \n",
      "0       NaN           NaN  TO AMEND H.R. 2, (1 STAT. 24, APP. 7-4-1789), ...  \n",
      "1       NaN           NaN  TO PASS THE RESOLUTION THAT IT APPEARS TO THIS...  \n",
      "2       NaN           NaN  TO AMEND H.R. 8, (1 STAT. 28, APP. 7-27-1789),...  \n",
      "3       NaN           NaN  TO AMEND H.R. 8, SO AS TO ELIMINATE THE PRESID...  \n",
      "4       NaN           NaN                                    TO PASS H.R. 8.  \n",
      "NXT:\n",
      "   cast_code                                              title\n",
      "0          0  Not a member of the chamber when this vote was...\n",
      "1          1                                                Yea\n",
      "2          2                                         Paired Yea\n",
      "3          3                                      Announced Yea\n",
      "4          4                                      Announced Nay\n"
     ]
    }
   ],
   "source": [
    "print('number of members:',len(allMem['congress']))\n",
    "print('number of parties:',len(allPty['congress']))\n",
    "print('number of Rolls:', len(allRol['congress']))\n",
    "print('number of Votes:', len(allVte['congress']))\n",
    "\n",
    "# Drop data\n",
    "allMem.drop(columns=['dim1','dim2','log_likelihood','geo_mean_probability', 'last_means', 'number_of_errors', 'conditional'])\n",
    "\n",
    "print(allVte.tail())\n",
    "print('NXT:')\n",
    "print(allMem.head())\n",
    "print('NXT:')\n",
    "print(allRol.head())\n",
    "print('NXT:')\n",
    "print(cast_codes.head())"
   ]
  },
  {
   "cell_type": "code",
   "execution_count": null,
   "metadata": {},
   "outputs": [],
   "source": []
  },
  {
   "cell_type": "code",
   "execution_count": 4,
   "metadata": {},
   "outputs": [
    {
     "name": "stdout",
     "output_type": "stream",
     "text": [
      "4181474 24023858\n",
      "Number of senate members: 9583\n",
      "Number of ISPSR: 1972\n",
      "Number of ISPSR: 1969\n"
     ]
    },
    {
     "data": {
      "text/plain": [
       "'\\nSince the U.S. Congress convened on March 4, 1789, 12,343 individuals \\nhave served as Representatives, Senators, or in both capacities. There \\nhave been 10,360 Members who served only as Representatives, 1,305 \\nMembers who served only in the Senate, and 677 Members with service \\nin both chambers.\\n'"
      ]
     },
     "execution_count": 4,
     "metadata": {},
     "output_type": "execute_result"
    }
   ],
   "source": [
    "# just grab the senate\n",
    "vteSen = allVte[allVte['chamber']=='Senate']\n",
    "#print(vteSen.head())\n",
    "print(len(vteSen), len(allVte))\n",
    "\n",
    "memSen = allMem[allMem['chamber']=='Senate']\n",
    "print('Number of senate members:', len(memSen))\n",
    "#memSen = [print(m) for m in memSen]\n",
    "#print(len(np.unique(memSen)))\n",
    "#print(memSen.head())\n",
    "\n",
    "# grab their icpsr\n",
    "allIsp = set(vteSen['icpsr'])\n",
    "print('Number of ISPSR:',len(allIsp))\n",
    "\n",
    "\n",
    "# grab senate members\n",
    "memIsp = set(memSen['icpsr'])\n",
    "print('Number of ISPSR:', len(memIsp))\n",
    "\n",
    "# These seem about right...\n",
    "'''\n",
    "Since the U.S. Congress convened on March 4, 1789, 12,343 individuals \n",
    "have served as Representatives, Senators, or in both capacities. There \n",
    "have been 10,360 Members who served only as Representatives, 1,305 \n",
    "Members who served only in the Senate, and 677 Members with service \n",
    "in both chambers.\n",
    "'''\n"
   ]
  },
  {
   "cell_type": "code",
   "execution_count": null,
   "metadata": {},
   "outputs": [],
   "source": [
    "# Which people am I missing?\n",
    "missIsp = [i for i in allIsp if i not in memIsp]\n",
    "print(missIsp)\n",
    "a = 2307\n",
    "\n",
    "#df.loc[df['column_name'] == some_value]"
   ]
  },
  {
   "cell_type": "markdown",
   "metadata": {},
   "source": [
    "# Useful Functions"
   ]
  },
  {
   "cell_type": "code",
   "execution_count": 81,
   "metadata": {},
   "outputs": [
    {
     "name": "stdout",
     "output_type": "stream",
     "text": [
      "101\n",
      "        congress chamber  rollnumber        date  session  clerk_rollnumber  \\\n",
      "104130       114  Senate           3  2015-01-12      1.0               3.0   \n",
      "\n",
      "        mid_1  mid_2  spread_1  spread_2  log_likelihood bill_number  \\\n",
      "104130 -0.336 -0.459    -0.336    -0.459         -12.217          S1   \n",
      "\n",
      "                                       vote_result vote_desc vote_question  \\\n",
      "104130  Cloture on the Motion to Proceed Agreed to       NaN           NaN   \n",
      "\n",
      "       dtl_desc  \n",
      "104130      NaN  \n",
      "4    Announced Nay\n",
      "Name: title, dtype: object\n",
      "{'COCHRAN, William Thad'}\n",
      "Took: 3.0773441791534424\n",
      "{96, 97, 98, 99, 100, 101, 102, 103, 104, 105, 106, 107, 108, 109, 110, 111, 112, 113, 114, 115}\n",
      "\n",
      "502\n"
     ]
    }
   ],
   "source": [
    "\n",
    "# grab the members of a congress session (Senate)\n",
    "def getMembers(chamb, cong):\n",
    "    \n",
    "    #filtMem = allMem[(allMem['congress']==cong) & (allMem['chamber']==chamb)]\n",
    "    #members = filtMem['icpsr']\n",
    "    \n",
    "    # updated to account for the president voteing sometimes....\n",
    "    vteSenThresh = vteSen[vteSen['congress'] == cong]\n",
    "    members = set(vteSenThresh['icpsr'])\n",
    "    \n",
    "    return list(members)\n",
    "\n",
    "print(len(getMembers('Senate', 105)))\n",
    "\n",
    "\n",
    "\n",
    "\n",
    "\n",
    "# grab info for a vote\n",
    "# congress chamber  rollnumber\n",
    "# TODO: fix the output of this guy\n",
    "def getVoteInfo(cong, cham, rollNum):\n",
    "    q = \"congress == %s and chamber == %s and rollnumber == %s\" % (cong, cham, rollNum)\n",
    "    out = allRol.query(q)\n",
    "    return out\n",
    "\n",
    "print(getVoteInfo(114,\"'Senate'\",3))\n",
    "\n",
    "\n",
    "\n",
    "\n",
    "\n",
    "# get the text of the cast code\n",
    "def castTxt(cast):\n",
    "    q = \"cast_code == %s\" % (cast)\n",
    "    out = cast_codes.query(q)\n",
    "    return out['title']\n",
    "\n",
    "print(castTxt(4))\n",
    "\n",
    "\n",
    "\n",
    "\n",
    "\n",
    "# grab the name of a member\n",
    "def getName(icpsr):\n",
    "    names = list(memSen.loc[memSen['icpsr']==icpsr]['bioname'])\n",
    "    \n",
    "    if len(names) == 0:\n",
    "        return 'NaN'\n",
    "    return set(names)\n",
    "\n",
    "\n",
    "print(getName(14009)) # COCHRAN, William Thad | 14009\n",
    "\n",
    "\n",
    "\n",
    "\n",
    "# Grab the parties of a member\n",
    "def getParty(icpsr):\n",
    "    ptys = list(memSen.loc[memSen['icpsr']==icpsr]['party_code'])\n",
    "    \n",
    "    if len(ptys) == 0:\n",
    "        return 'NaN'\n",
    "    return ptys\n",
    "\n",
    "\n",
    "def getNumRolls(chamber, congress):\n",
    "    allVteFilt = allVte[(allVte['chamber'] == chamber) & (allVte['congress'] == congress)]\n",
    "    return max(allVteFilt['rollnumber'])\n",
    "\n",
    "\n",
    "# Grab the terms that a congressman has served #SLOW!\n",
    "def getTerms(icpsr,chamber):\n",
    "    \n",
    "    terms = []\n",
    "    start = time.time()\n",
    "    # filter for member\n",
    "    rollRows = allVte[(allVte['icpsr'] == icpsr) & (allVte['chamber'] == chamber)]\n",
    "    terms = set(rollRows['congress'])\n",
    "    \n",
    "    '''\n",
    "    Testing\n",
    "    https://www.congress.gov/member/thad-cochran/C000567\n",
    "    Senate: 96th-115th (1979-2019); Senator Thad Cochran\n",
    "    \n",
    "    Function works!\n",
    "    \n",
    "    '''\n",
    "    print('Took: %s'%(time.time()-start))\n",
    "    return terms\n",
    "\n",
    "print(getTerms(14009, 'Senate'))\n",
    "print()\n",
    "print(getNumRolls('Senate', 114))"
   ]
  },
  {
   "cell_type": "code",
   "execution_count": 6,
   "metadata": {},
   "outputs": [
    {
     "name": "stdout",
     "output_type": "stream",
     "text": [
      "{96, 97, 98, 99, 100, 101, 102, 103, 104, 105, 106, 107, 108, 109, 110, 111, 112, 113, 114, 115}\n",
      "Took: 3.0986340045928955\n",
      "{96, 97, 98, 99, 100, 101, 102, 103, 104, 105, 106, 107, 108, 109, 110, 111, 112, 113, 114, 115}\n"
     ]
    }
   ],
   "source": [
    "# Grab the terms that a congressman has served #SLOW!\n",
    "def getTerms(icpsr,chamber):\n",
    "    \n",
    "    terms = []\n",
    "    start = time.time()\n",
    "    # filter for member\n",
    "    rollRows = allVte[(allVte['icpsr'] == icpsr) & (allVte['chamber'] == chamber)]\n",
    "    terms = set(rollRows['congress'])\n",
    "    \n",
    "    '''\n",
    "    Testing\n",
    "    https://www.congress.gov/member/thad-cochran/C000567\n",
    "    Senate: 96th-115th (1979-2019); Senator Thad Cochran\n",
    "    \n",
    "    Function works!\n",
    "    \n",
    "    '''\n",
    "    #print('Took: %s'%(time.time()-start))\n",
    "    return terms\n",
    "\n",
    "print(getTerms(14009, 'Senate'))\n",
    "\n",
    "# Grab the terms that a congressman has served #SLOW!\n",
    "def getTermsFaster(icpsr,chamber):\n",
    "    \n",
    "    terms = []\n",
    "    start = time.time()\n",
    "    # filter for member\n",
    "    rollRows = allVte[(allVte.icpsr == icpsr) & (allVte.chamber == chamber)]\n",
    "    terms = set(rollRows['congress'])\n",
    "    \n",
    "    '''\n",
    "    Testing\n",
    "    https://www.congress.gov/member/thad-cochran/C000567\n",
    "    Senate: 96th-115th (1979-2019); Senator Thad Cochran\n",
    "    \n",
    "    Function works!\n",
    "    \n",
    "    '''\n",
    "    print('Took: %s'%(time.time()-start))\n",
    "    return terms\n",
    "\n",
    "print(getTermsFaster(14009, 'Senate'))\n"
   ]
  },
  {
   "cell_type": "code",
   "execution_count": null,
   "metadata": {},
   "outputs": [],
   "source": []
  },
  {
   "cell_type": "code",
   "execution_count": 82,
   "metadata": {
    "scrolled": false
   },
   "outputs": [
    {
     "name": "stdout",
     "output_type": "stream",
     "text": [
      "Number of rolls: 61812\n",
      "Number of votes: 612\n",
      "101.0\n",
      "101\n",
      "101\n",
      "[14852, 14871, 49700, 49701, 49702, 49703, 49704, 49705, 49706, 14900, 10808, 14904, 14907, 14908, 14910, 14400, 14912, 14914, 15424, 15425, 15429, 99909, 14920, 14921, 14922, 14440, 29306, 15501, 15502, 15503, 49300, 49301, 49302, 49303, 49304, 9369, 49306, 49307, 49308, 49309, 15011, 14500, 14503, 14506, 14508, 15020, 15021, 95407, 29367, 14009, 15037, 15039, 4812, 15054, 14031, 15071, 13039, 13056, 15116, 15633, 14101, 14103, 14105, 14617, 11044, 14628, 14661, 12109, 29523, 15700, 15701, 1366, 15702, 15703, 15704, 15705, 49500, 49501, 49502, 49503, 14709, 14712, 14203, 14213, 14226, 14230, 14240, 29108, 94659, 11204, 49101, 29141, 29142, 14806, 14809, 14300, 14812, 14302, 14304, 14307, 14826]\n",
      "[]\n"
     ]
    },
    {
     "ename": "IndexError",
     "evalue": "list index out of range",
     "output_type": "error",
     "traceback": [
      "\u001b[0;31m---------------------------------------------------------------------------\u001b[0m",
      "\u001b[0;31mIndexError\u001b[0m                                Traceback (most recent call last)",
      "\u001b[0;32m<ipython-input-82-9f26c8a36d56>\u001b[0m in \u001b[0;36m<module>\u001b[0;34m()\u001b[0m\n\u001b[1;32m     20\u001b[0m \u001b[0mprint\u001b[0m\u001b[0;34m(\u001b[0m\u001b[0mno\u001b[0m\u001b[0;34m)\u001b[0m\u001b[0;34m\u001b[0m\u001b[0m\n\u001b[1;32m     21\u001b[0m \u001b[0mvteSenThresh\u001b[0m\u001b[0;34m.\u001b[0m\u001b[0mtail\u001b[0m\u001b[0;34m(\u001b[0m\u001b[0;34m)\u001b[0m \u001b[0;31m# 6\u001b[0m\u001b[0;34m\u001b[0m\u001b[0m\n\u001b[0;32m---> 22\u001b[0;31m \u001b[0mprint\u001b[0m\u001b[0;34m(\u001b[0m\u001b[0mgetTerms\u001b[0m\u001b[0;34m(\u001b[0m\u001b[0mno\u001b[0m\u001b[0;34m[\u001b[0m\u001b[0;36m0\u001b[0m\u001b[0;34m]\u001b[0m\u001b[0;34m,\u001b[0m\u001b[0;34m'Senate'\u001b[0m\u001b[0;34m)\u001b[0m\u001b[0;34m)\u001b[0m\u001b[0;34m\u001b[0m\u001b[0m\n\u001b[0m\u001b[1;32m     23\u001b[0m \u001b[0mprint\u001b[0m\u001b[0;34m(\u001b[0m\u001b[0mgetName\u001b[0m\u001b[0;34m(\u001b[0m\u001b[0mno\u001b[0m\u001b[0;34m[\u001b[0m\u001b[0;36m0\u001b[0m\u001b[0;34m]\u001b[0m\u001b[0;34m)\u001b[0m\u001b[0;34m)\u001b[0m\u001b[0;34m\u001b[0m\u001b[0m\n",
      "\u001b[0;31mIndexError\u001b[0m: list index out of range"
     ]
    }
   ],
   "source": [
    "thresh = 105 # select only a particular range of congress from 1 to 155. ie. 100 = 1988\n",
    "vteSenThresh = vteSen[vteSen['congress']==thresh]\n",
    "\n",
    "# some basic stats of the votes we're looking at\n",
    "print('Number of rolls:', len(vteSenThresh))\n",
    "print('Number of votes:', len(set(vteSenThresh['rollnumber'])))\n",
    "print(len(vteSenThresh) / len(set(vteSenThresh['rollnumber'])))\n",
    "\n",
    "if 0: # Testing\n",
    "    print(len(vteSenThresh[vteSenThresh['rollnumber'] == 4]))\n",
    "    print(set(vteSenThresh['rollnumber']))\n",
    "    #vteSenThresh.tail()\n",
    "\n",
    "allMems = getMembers('Senate', 105) \n",
    "print(len(allMems))\n",
    "\n",
    "if 0: # to determine why the lists were not the same\n",
    "    print(len(set(vteSenThresh['icpsr'])))\n",
    "    print(allMems)\n",
    "    no = [mem for mem in list(set(vteSenThresh['icpsr'])) if not mem in allMems]\n",
    "    print(no)\n",
    "    vteSenThresh.tail() # 6\n",
    "    print(getTerms(no[0],'Senate'))\n",
    "    print(getName(no[0]))"
   ]
  },
  {
   "cell_type": "code",
   "execution_count": 99,
   "metadata": {},
   "outputs": [
    {
     "name": "stdout",
     "output_type": "stream",
     "text": [
      "False False False False False False False False False False False False False False False False False False False False False False False False False False False False False False False False False False False False False False False False False False False False False False False False False False False False False False False False False False False False False False False False False False False False False False False False False False False False False False False False False False False False False False False False False False False False False False False False False False "
     ]
    }
   ],
   "source": [
    "# determine how parties voted for each roll\n",
    "\n",
    "def get_party_votes(congress,roll):\n",
    "    \n",
    "    # select congress (from 1 to 155. ie. 100 = 1988)\n",
    "    vteSenThresh = vteSen[vteSen['congress'] == congress]\n",
    "    vteSenThresh_roll = vteSenThresh[vteSenThresh['rollnumber'] == roll] # filter for the current roll\n",
    "    allMems = getMembers('Senate', congress) # grab members\n",
    "    \n",
    "    # iterate through all senters, not just roll senators\n",
    "    # make sure weird shenanigans didn't happen with the number of members\n",
    "    #if len(allMems) != numsen: \n",
    "    allCasts = []\n",
    "    for sen in allMems:\n",
    "        dta = vteSenThresh[(vteSenThresh['icpsr'] == sen) & (vteSenThresh['rollnumber'] == roll)]\n",
    "        # if the member didn't exist, then NaN that bish\n",
    "        if dta.empty:\n",
    "            allCasts.append('NaN')\n",
    "        else:\n",
    "            allCasts.append(int(dta['cast_code']))\n",
    "    \n",
    "    #allCasts = vteSenThresh_roll['cast_code'] # grab the votes\n",
    "    allParties = [getParty(memnum)[0] for memnum in allMems]\n",
    "    \n",
    "    \n",
    "    return allCasts, allParties, allMems\n",
    "\n",
    "# test it\n",
    "if 0:\n",
    "    for i in range(1,100):\n",
    "        cst, pty, mem = get_party_votes(103,i)\n",
    "        print(len(cst),len(pty), len(mem), end = \" | \")\n",
    "\n",
    "if 0:\n",
    "    cst, pty, mem = get_party_votes(108,1)\n",
    "    for i in range(2,100):\n",
    "        \n",
    "        cst2, pty, mem2 = get_party_votes(108,i)\n",
    "        #print(mem == mem2)\n",
    "        print(cst == cst2, end=\" \")"
   ]
  },
  {
   "cell_type": "code",
   "execution_count": 9,
   "metadata": {},
   "outputs": [
    {
     "name": "stdout",
     "output_type": "stream",
     "text": [
      "100 100\n",
      "<class 'list'> <class 'list'>\n",
      "{1, 6, 9}\n",
      "{200, 328, 100}\n"
     ]
    }
   ],
   "source": [
    "# grab some basic info about the range of votes and parties returned\n",
    "print(len(cst),len(pty))\n",
    "print(type(list(cst)),type(pty))\n",
    "print(set(cst))\n",
    "print(set(pty))\n",
    "\n",
    "if 0: # some more exploration of the data\n",
    "    cst.hist() # lot's of 1's 6's and 9's\n",
    "\n",
    "    pty = [_ for _ in pty if _ != 'N']\n",
    "    print(len(pty))\n",
    "    ptyS = pd.Series(pty)\n",
    "    ptyS.hist(bins=len(set(ptyS))) # 100 D, 200 R, 328 I\n",
    "\n",
    "    \n",
    "    Counter(ptyS) # how many of each party?\n",
    "    Counter(pty)"
   ]
  },
  {
   "cell_type": "code",
   "execution_count": 10,
   "metadata": {},
   "outputs": [
    {
     "data": {
      "text/plain": [
       "Counter({1: 31, 9: 3, 6: 66})"
      ]
     },
     "execution_count": 10,
     "metadata": {},
     "output_type": "execute_result"
    }
   ],
   "source": [
    "# now let's grab the parties votes (Just R and D and I for now)\n",
    "# this should be used on one roll only\n",
    "# 100 D, 200 R, 328 I\n",
    "\n",
    "def tabulateRollVotes(cst,pty,congress,roll, verbose=False):\n",
    "    \n",
    "    D_vtes = []\n",
    "    R_vtes = []\n",
    "    I_vtes = []\n",
    "    for c,p in zip(list(cst), pty):\n",
    "        if p == 100:\n",
    "            D_vtes.append(c)\n",
    "        elif p == 200:\n",
    "            R_vtes.append(c)\n",
    "        elif p == 328:\n",
    "            I_vtes.append(c)\n",
    "    \n",
    "    totals = Counter(D_vtes) + Counter(R_vtes) + Counter(I_vtes)\n",
    "    \n",
    "    if verbose:\n",
    "        print('For Congress:',congress, ' and Roll:', roll)\n",
    "        print('lengths:',(len(R_vtes)+len(D_vtes)+len(I_vtes)),len(cst),'(should be equal)')\n",
    "        print('D', Counter(D_vtes))\n",
    "        print('R', Counter(R_vtes))\n",
    "        print('I', Counter(I_vtes))\n",
    "        print('Totals:', totals)\n",
    "        \n",
    "    \n",
    "    # package it up\n",
    "    tabedVotes = {}\n",
    "    tabedVotes['congress'] = congress\n",
    "    tabedVotes['roll'] = roll\n",
    "    tabedVotes['totals'] = totals\n",
    "    tabedVotes['100'] = Counter(D_vtes)\n",
    "    tabedVotes['200'] = Counter(R_vtes)\n",
    "    tabedVotes['328'] = Counter(I_vtes)\n",
    "    \n",
    "    \n",
    "    return tabedVotes \n",
    "\n",
    "        \n",
    "\n",
    "\"\"\"\n",
    "testing: for roll 1 of the 114 congress:\n",
    "https://www.govtrack.us/congress/votes/114-2015/s1\n",
    "They got 31 - 66 rejected\n",
    "I got 31 - 66 with 3 abstains\n",
    "\n",
    "D Counter({1: 30, 6: 12, 9: 2})\n",
    "R Counter({6: 53, 9: 1})\n",
    "I Counter({1: 1, 6: 1})\n",
    "\n",
    "Hey it works (and the data seems correct)\n",
    "\"\"\"\n",
    "rollVotes = tabulateRollVotes(cst,pty,114,1)\n",
    "rollVotes['totals']"
   ]
  },
  {
   "cell_type": "code",
   "execution_count": null,
   "metadata": {},
   "outputs": [],
   "source": [
    "# does a member vote with their party or against their party for a roll?\n",
    "# is this easier for yes votes vs no votes? \n",
    "# what about new members? Does this change anything? \n",
    "# -> I need to calculate how many 'new' members there are\n",
    "\n",
    "# what is the break down of votes for each member? \n",
    "# -> ie. is one member more likley to vote yes or no in general? \n",
    "\n",
    "# probability each member votes with party? \n",
    "\n",
    "# Science and politics are mixed... Very mixed...\n",
    "\n",
    "# if you vote with another party, are you more likley to vote with your party? \n",
    "\n",
    "vteSenThresh.tail()"
   ]
  },
  {
   "cell_type": "code",
   "execution_count": null,
   "metadata": {},
   "outputs": [],
   "source": [
    "# Grab all of the votes for one member\n",
    "def grabAllMemVotes(ICPSR, data):\n",
    "    vteSenMem = vteSen[vteSen['icpsr']==ICPSR]\n",
    "    \n",
    "    # finish this \n",
    "    \n",
    "    \n",
    "    return list(vteSenMem.cast_code)\n",
    "\n",
    "memVotes = grabAllMemVotes(49308, ' ')\n",
    "len(memVotes)"
   ]
  },
  {
   "cell_type": "code",
   "execution_count": null,
   "metadata": {},
   "outputs": [],
   "source": [
    "allMemVotes = {}\n",
    "\n",
    "numSen = len(memSen.icpsr)\n",
    "c = 0\n",
    "for mem in list(memSen.icpsr):\n",
    "    allMemVotes[mem] = grabAllMemVotes(mem, ' ')\n",
    "    c += 1\n",
    "    if c % 1000 == 0:\n",
    "        print(c, 'of', numSen)\n",
    "\n"
   ]
  },
  {
   "cell_type": "code",
   "execution_count": null,
   "metadata": {},
   "outputs": [],
   "source": [
    "len(allMemVotes)\n",
    "# save it\n",
    "fName = \"senate_member_votes.p\"\n",
    "pthName = \"/home/wade/Documents/Datasets/congressDicts/\" + fName\n",
    "pickle.dump( allMemVotes, open( pthName, \"wb\" ) )\n",
    "print('Saved', str(fName))"
   ]
  },
  {
   "cell_type": "code",
   "execution_count": 103,
   "metadata": {},
   "outputs": [],
   "source": [
    "# lode in the data\n",
    "fName = \"senate_member_votes.p\"\n",
    "pthName = \"/home/wade/Documents/Datasets/congressDicts/\" + fName\n",
    "allMemVotes = pickle.load( open( pthName, \"rb\" ) )\n",
    "vte = allMemVotes[list(allMemVotes.keys())[0]]"
   ]
  },
  {
   "cell_type": "markdown",
   "metadata": {},
   "source": [
    "# Voteing Hot Hand? "
   ]
  },
  {
   "cell_type": "code",
   "execution_count": null,
   "metadata": {},
   "outputs": [],
   "source": [
    "# probability of a 1 following a 6 or vice versa\n",
    "# scramble votes"
   ]
  },
  {
   "cell_type": "code",
   "execution_count": 104,
   "metadata": {},
   "outputs": [
    {
     "data": {
      "text/plain": [
       "[<matplotlib.lines.Line2D at 0x7fdd02b06c88>]"
      ]
     },
     "execution_count": 104,
     "metadata": {},
     "output_type": "execute_result"
    },
    {
     "data": {
      "image/png": "[encoded data removed]",
      "text/plain": [
       "<Figure size 432x288 with 1 Axes>"
      ]
     },
     "metadata": {},
     "output_type": "display_data"
    }
   ],
   "source": [
    "plt.plot(vte)"
   ]
  },
  {
   "cell_type": "code",
   "execution_count": null,
   "metadata": {},
   "outputs": [],
   "source": [
    "# permute the list\n",
    "randomLists = []\n",
    "for i in range(1000):\n",
    "    a = copy.deepcopy(vte) \n",
    "    random.shuffle(a)\n",
    "    randomLists.append(a)"
   ]
  },
  {
   "cell_type": "code",
   "execution_count": null,
   "metadata": {},
   "outputs": [],
   "source": [
    "print(len(randomLists))\n"
   ]
  },
  {
   "cell_type": "code",
   "execution_count": 105,
   "metadata": {},
   "outputs": [],
   "source": [
    "\n",
    "l = [1,1,1,0,1,1,1,0,0,1,1,0,0,1,1,1,0,1,1,0,0,0,1,0,1,0,0,1,0,0,1,1,1,0,0,0,1]\n",
    "\n",
    "# probability of a a following two b? \n",
    "def countAafter2b(a,b,l):\n",
    "    c = 0\n",
    "    for i in range(2,len(l)-1):\n",
    "        if l[i-2] == b and l[i-1] == b and l[i] == a:\n",
    "            c += 1\n",
    "        return c\n",
    "    \n",
    "    \n",
    "def getPermutationCounts(a,b,l,n):\n",
    "    counts = []\n",
    "    for i in range(n):\n",
    "        random.shuffle(l)\n",
    "        counts.append(countAafter2b(a,b,l))\n",
    "    return counts\n",
    "\n",
    "def getStreaks(l):\n",
    "    streakList = []\n",
    "    tmpList = []\n",
    "    for i in l:\n",
    "        #print('ltl:', len(tmpList), tmpList)\n",
    "        if len(tmpList) == 0:\n",
    "            tmpList.append(i)\n",
    "        elif i == tmpList[len(tmpList)-1]:\n",
    "            tmpList.append(i)\n",
    "        elif i != tmpList[len(tmpList)-1]:\n",
    "            streakList.append(tmpList)\n",
    "            tmpList = [i]\n",
    "    streakList.append(tmpList)\n",
    "    \n",
    "    return len(streakList), streakList\n",
    "\n",
    "\n",
    "def getPermutationStreaks(l,n):\n",
    "    lengths = []\n",
    "    for i in range(n):\n",
    "        random.shuffle(l)\n",
    "        lens, sL = getStreaks(l)\n",
    "        lengths.append(lens)\n",
    "    return lengths\n"
   ]
  },
  {
   "cell_type": "code",
   "execution_count": 106,
   "metadata": {},
   "outputs": [
    {
     "name": "stdout",
     "output_type": "stream",
     "text": [
      "19\n",
      "[[1, 1, 1], [0], [1, 1, 1], [0, 0], [1, 1], [0, 0], [1, 1, 1], [0], [1, 1], [0, 0, 0], [1], [0], [1], [0, 0], [1], [0, 0], [1, 1, 1], [0, 0, 0], [1]]\n",
      "[1, 1, 1, 0, 1, 1, 1, 0, 0, 1, 1, 0, 0, 1, 1, 1, 0, 1, 1, 0, 0, 0, 1, 0, 1, 0, 0, 1, 0, 0, 1, 1, 1, 0, 0, 0, 1]\n",
      "0\n"
     ]
    },
    {
     "data": {
      "image/png": "[encoded data removed]",
      "text/plain": [
       "<Figure size 432x288 with 1 Axes>"
      ]
     },
     "metadata": {},
     "output_type": "display_data"
    },
    {
     "data": {
      "text/plain": [
       "Ttest_indResult(statistic=-12.044692892127703, pvalue=5.084895664253181e-13)"
      ]
     },
     "execution_count": 106,
     "metadata": {},
     "output_type": "execute_result"
    }
   ],
   "source": [
    "\n",
    "\n",
    "lsL, sL = getStreaks(l)\n",
    "print(len(sL))\n",
    "print(sL)\n",
    "print(l)\n",
    "\n",
    "realCount = countAafter2b(6,1,vte)\n",
    "print(realCount)\n",
    "\n",
    "counts = getPermutationCounts(6,1,vte,1000)\n",
    "plt.hist(counts)\n",
    "plt.show()\n",
    "\n",
    "a = [1,2,3,4,5,4,3,2,1,2,3,2,1,2,3,4]\n",
    "b = [9,8,7,8,7,6,7,8,7,6,7,8,7,6,6,7]\n",
    "stats.ttest_ind(a, b)\n",
    "\n",
    "stats.ttest_ind(a, b)"
   ]
  },
  {
   "cell_type": "code",
   "execution_count": 107,
   "metadata": {},
   "outputs": [
    {
     "name": "stdout",
     "output_type": "stream",
     "text": [
      "1969\n",
      "1969\n",
      "[1366, 4812, 10808, 12109]\n",
      "{'BYRD, Robert Carlyle'}\n",
      "{'INOUYE, Daniel Ken'}\n",
      "{'KENNEDY, Edward Moore (Ted)'}\n",
      "{'STEVENS, Theodore Fulton (Ted)'}\n"
     ]
    }
   ],
   "source": [
    "print(len(allMemVotes.keys()))\n",
    "vteLen = []\n",
    "bigMem = []\n",
    "for mem in allMemVotes.keys():\n",
    "    lV = len(allMemVotes[mem])\n",
    "    vteLen.append(lV)\n",
    "    if lV > 16000:\n",
    "        bigMem.append(mem)\n",
    "\n",
    "print(len(vteLen))\n",
    "#Counter(vteLen)\n",
    "\n",
    "print(bigMem)\n",
    "\n",
    "print(getName(1366))\n",
    "print(getName(4812))\n",
    "print(getName(10808))\n",
    "print(getName(12109))\n",
    "\n",
    "# https://www.senate.gov/senators/10000_or_more_votes.htm \n",
    "# These big lengths check out!!!\n",
    "\n"
   ]
  },
  {
   "cell_type": "code",
   "execution_count": 108,
   "metadata": {},
   "outputs": [
    {
     "data": {
      "image/png": "[encoded data removed]",
      "text/plain": [
       "<Figure size 432x288 with 1 Axes>"
      ]
     },
     "metadata": {},
     "output_type": "display_data"
    }
   ],
   "source": [
    "plt.hist(vteLen)\n",
    "plt.title('Number of senate votes per member')\n",
    "plt.show()"
   ]
  },
  {
   "cell_type": "code",
   "execution_count": null,
   "metadata": {},
   "outputs": [],
   "source": [
    "###### What about for all of the members? (SLOW)\n",
    "countsDict = {}\n",
    "start = time.time()\n",
    "numSen = len(allMemVotes.keys())\n",
    "c = 0\n",
    "for inc in range(len(allMemVotes.keys())):\n",
    "    member = list(allMemVotes.keys())[inc]\n",
    "    vte = allMemVotes[member]\n",
    "    n = 1000\n",
    "    \n",
    "    #a,b = 6,1\n",
    "    #realCount = countAafter2b(a,b,vte)\n",
    "    #print(realCount)\n",
    "    #permCounts = getPermutationCounts(a,b,vte,n)\n",
    "    lsL, sL = getStreaks(vte)\n",
    "    lensL = getPermutationStreaks(vte,n) # beware, tis slow\n",
    "    \n",
    "    countsDict[member] = {}\n",
    "    countsDict[member]['real'] = lsL\n",
    "    countsDict[member]['realStreaks'] = sL\n",
    "    countsDict[member]['perm'] = Counter(lensL)\n",
    "    countsDict[member]['meta'] = [n]\n",
    "    \n",
    "    c += 1\n",
    "    if c % 100 == 0: \n",
    "        print(c, 'of', numSen)\n",
    "print('Took %s'%(time.time() - start))\n",
    "\n",
    "# Lisa Goldberg's permutations\n",
    "#29s for 100; 4478s for 1969 (all) 661; 4461.9s for 116\n",
    "\n",
    "# way wolferwitz? run test\n",
    "#46.08s for 100; 7921.82s (all) TWO HOURS\n"
   ]
  },
  {
   "cell_type": "code",
   "execution_count": null,
   "metadata": {},
   "outputs": [],
   "source": []
  },
  {
   "cell_type": "code",
   "execution_count": null,
   "metadata": {},
   "outputs": [],
   "source": [
    "# save it\n",
    "fName = \"all_senate_member_streak_counts.p\"\n",
    "pthName = \"/home/wade/Documents/Datasets/congressDicts/\" + fName\n",
    "pickle.dump( countsDict, open( pthName, \"wb\" ) )\n",
    "print('Saved', str(fName))"
   ]
  },
  {
   "cell_type": "code",
   "execution_count": 111,
   "metadata": {},
   "outputs": [
    {
     "ename": "AttributeError",
     "evalue": "'list' object has no attribute 'keys'",
     "output_type": "error",
     "traceback": [
      "\u001b[0;31m---------------------------------------------------------------------------\u001b[0m",
      "\u001b[0;31mAttributeError\u001b[0m                            Traceback (most recent call last)",
      "\u001b[0;32m<ipython-input-111-1b518c14e5bb>\u001b[0m in \u001b[0;36m<module>\u001b[0;34m()\u001b[0m\n\u001b[1;32m      7\u001b[0m \u001b[0;31m# lets look at the data (permutations)\u001b[0m\u001b[0;34m\u001b[0m\u001b[0;34m\u001b[0m\u001b[0m\n\u001b[1;32m      8\u001b[0m \u001b[0;31m# Let's collect the counts\u001b[0m\u001b[0;34m\u001b[0m\u001b[0;34m\u001b[0m\u001b[0m\n\u001b[0;32m----> 9\u001b[0;31m \u001b[0mlenn\u001b[0m \u001b[0;34m=\u001b[0m \u001b[0mlen\u001b[0m\u001b[0;34m(\u001b[0m\u001b[0mcounts\u001b[0m\u001b[0;34m.\u001b[0m\u001b[0mkeys\u001b[0m\u001b[0;34m(\u001b[0m\u001b[0;34m)\u001b[0m\u001b[0;34m)\u001b[0m\u001b[0;34m\u001b[0m\u001b[0m\n\u001b[0m\u001b[1;32m     10\u001b[0m \u001b[0;31m#lenn = 200\u001b[0m\u001b[0;34m\u001b[0m\u001b[0;34m\u001b[0m\u001b[0m\n\u001b[1;32m     11\u001b[0m \u001b[0mrealList\u001b[0m \u001b[0;34m=\u001b[0m \u001b[0;34m[\u001b[0m\u001b[0;34m]\u001b[0m\u001b[0;34m\u001b[0m\u001b[0m\n",
      "\u001b[0;31mAttributeError\u001b[0m: 'list' object has no attribute 'keys'"
     ]
    }
   ],
   "source": [
    "\n",
    "# load it\n",
    "fName = \"all_senate_member_streak_counts.p\"\n",
    "pthName = \"/home/wade/Documents/Datasets/congressDicts/\" + fName\n",
    "countsDict = pickle.load(open( pthName, \"rb\" ))\n",
    "\n",
    "# lets look at the data (permutations)\n",
    "# Let's collect the counts \n",
    "lenn = len(counts.keys())\n",
    "#lenn = 200\n",
    "realList = []\n",
    "for inc in range(lenn):\n",
    "    #print(counts[list(counts.keys())[inc]])\n",
    "    realList.append(counts[list(counts.keys())[inc]]['real'])\n",
    "    \n",
    "Counter(realList)\n",
    "\n",
    "lenn = len(countsDict.keys())\n",
    "#lenn = 200\n",
    "realList = []\n",
    "for inc in range(lenn):\n",
    "    #print(counts[list(counts.keys())[inc]])\n",
    "    realList.append(countsDict[list(countsDict.keys())[inc]]['real'])\n",
    "    \n",
    "Counter(realList)\n",
    "\n",
    "# counts of the number of consectutive votes \n",
    "# Senate 661HH all members: Counter({0: 1831, 1: 123, None: 15})\n",
    "# Senate 116HH all members: Counter({0: 1825, 1: 129, None: 15})"
   ]
  },
  {
   "cell_type": "code",
   "execution_count": 117,
   "metadata": {
    "scrolled": true
   },
   "outputs": [
    {
     "name": "stdout",
     "output_type": "stream",
     "text": [
      "95\n"
     ]
    }
   ],
   "source": [
    "def meanCounter(counter): \n",
    "    sum_of_numbers = sum(number*counter[number] for number in counter)\n",
    "    count = sum(counter[n] for n in counter)\n",
    "    return sum_of_numbers / count\n"
   ]
  },
  {
   "cell_type": "code",
   "execution_count": 120,
   "metadata": {},
   "outputs": [
    {
     "name": "stdout",
     "output_type": "stream",
     "text": [
      "Counter({92: 67, 93: 62, 94: 62, 95: 62, 96: 60, 98: 58, 88: 52, 97: 47, 91: 47, 100: 42, 90: 41, 99: 41, 89: 40, 87: 29, 102: 28, 86: 28, 103: 28, 85: 25, 101: 23, 104: 21, 105: 18, 83: 18, 84: 17, 107: 13, 106: 12, 82: 9, 108: 7, 79: 7, 111: 4, 110: 4, 78: 4, 81: 4, 113: 4, 109: 3, 76: 3, 116: 2, 80: 2, 72: 2, 75: 1, 77: 1, 114: 1, 74: 1})\n",
      "Number of members: 1969\n",
      "mean Perm 1253.8871528694765\n",
      "mean Real 1253.9095987811072\n"
     ]
    },
    {
     "data": {
      "image/png": "[encoded data removed]",
      "text/plain": [
       "<Figure size 432x288 with 1 Axes>"
      ]
     },
     "metadata": {},
     "output_type": "display_data"
    },
    {
     "data": {
      "image/png": "[encoded data removed]",
      "text/plain": [
       "<Figure size 432x288 with 1 Axes>"
      ]
     },
     "metadata": {},
     "output_type": "display_data"
    },
    {
     "name": "stdout",
     "output_type": "stream",
     "text": [
      "F_onewayResult(statistic=2.4011509303351195e-07, pvalue=0.9996090490709834)\n"
     ]
    }
   ],
   "source": [
    "# What about the streaks? \n",
    "lenn = len(countsDict.keys())\n",
    "\n",
    "#lenn = 200\n",
    "realList = [] # A list of number of streaks\n",
    "for inc in range(lenn):\n",
    "    #print(counts[list(counts.keys())[inc]])\n",
    "    realList.append(countsDict[list(countsDict.keys())[inc]]['real'])\n",
    "\n",
    "    \n",
    "# mean and SD from counter objects\n",
    "# https://stackoverflow.com/questions/33695220/calculate-mean-on-values-in-python-collections-counter\n",
    "\n",
    "permAvgs = [] # a list of the permutation averages per member\n",
    "for inc in range(lenn):\n",
    "    counter = countsDict[list(countsDict.keys())[inc]]['perm']\n",
    "    permAvgs.append(meanCounter(counter))\n",
    "    \n",
    "\n",
    "# find the mean of the permuted streaks\n",
    "print(counter)\n",
    "print('Number of members:', lenn)\n",
    "print('mean Perm', sum(permAvgs)/len(permAvgs))\n",
    "print('mean Real', meanCounter(Counter(realList)))\n",
    "\n",
    "#Counter(realList)\n",
    "plt.hist(realList) # This is interesting? Naaa bc Number of votes. \n",
    "plt.title('raw streaks dist (All Senate)')\n",
    "plt.xlabel('Num streaks')\n",
    "plt.ylabel('Number of members')\n",
    "plt.show()\n",
    "\n",
    "plt.hist(permAvgs) # This is interesting? Naaa bc Number of votes. \n",
    "plt.title('Avg perm streaks dist (All Senate)')\n",
    "plt.xlabel('Avg num streaks')\n",
    "plt.ylabel('Number of permuted members')\n",
    "plt.show()\n",
    "\n",
    "# Counter([1,1,1,1,2,2,2,2,3,3,4])\n",
    "# Anova\n",
    "print(stats.f_oneway(realList, permAvgs))\n",
    "# F_onewayResult(statistic=2.4011509303351195e-07, pvalue=0.9996090490709834)"
   ]
  },
  {
   "cell_type": "code",
   "execution_count": null,
   "metadata": {},
   "outputs": [],
   "source": []
  },
  {
   "cell_type": "code",
   "execution_count": null,
   "metadata": {},
   "outputs": [],
   "source": []
  },
  {
   "cell_type": "code",
   "execution_count": null,
   "metadata": {},
   "outputs": [],
   "source": []
  },
  {
   "cell_type": "code",
   "execution_count": null,
   "metadata": {},
   "outputs": [],
   "source": []
  },
  {
   "cell_type": "code",
   "execution_count": null,
   "metadata": {},
   "outputs": [],
   "source": []
  },
  {
   "cell_type": "code",
   "execution_count": null,
   "metadata": {},
   "outputs": [],
   "source": []
  },
  {
   "cell_type": "code",
   "execution_count": null,
   "metadata": {},
   "outputs": [],
   "source": [
    "\n",
    " \n",
    "\n",
    " "
   ]
  },
  {
   "cell_type": "code",
   "execution_count": null,
   "metadata": {},
   "outputs": [],
   "source": []
  },
  {
   "cell_type": "markdown",
   "metadata": {},
   "source": [
    "# Compare individual vote to parties"
   ]
  },
  {
   "cell_type": "code",
   "execution_count": 18,
   "metadata": {
    "scrolled": true
   },
   "outputs": [
    {
     "name": "stdout",
     "output_type": "stream",
     "text": [
      "23766717    1\n",
      "Name: cast_code, dtype: int64\n",
      "Member MURRAY, Patty (49308) voted 1 and the party 100 voted 1 (0.4)\n",
      "23766718    1\n",
      "Name: cast_code, dtype: int64\n",
      "Member SESSIONS, Jefferson Beauregard III (Jeff) (49700) voted 1 and the party 200 voted 1 (0.52)\n",
      "23766719    1\n",
      "Name: cast_code, dtype: int64\n",
      "Member COLLINS, Susan Margaret (49703) voted 1 and the party 200 voted 1 (0.52)\n",
      "23128398    1\n",
      "Name: cast_code, dtype: int64\n",
      "Member MURRAY, Patty (49308) voted 1 and the party 100 voted 1 (0.53)\n",
      "23128399    6\n",
      "Name: cast_code, dtype: int64\n",
      "Member SESSIONS, Jefferson Beauregard III (Jeff) (49700) voted 6 and the party 200 voted 1 (0.32)\n",
      "23128401    1\n",
      "Name: cast_code, dtype: int64\n",
      "Member COLLINS, Susan Margaret (49703) voted 1 and the party 200 voted 1 (0.32)\n"
     ]
    },
    {
     "data": {
      "text/plain": [
       "'\\nTESTING\\nthis checks out with https://www.govtrack.us/congress/votes/114-2015/s1\\nfor congress = 114 and roll = 1\\n\\nmyOut: \\nMember MURRAY, Patty (49308) voted 1 and the party 100 voted 1 (0.3)\\nMember SESSIONS, Jefferson Beauregard III (Jeff) (49700) voted 6 and the party 200 voted 6 (0.53)\\nMember COLLINS, Susan Margaret (49703) voted 6 and the party 200 voted 6 (0.53)\\n\\n'"
      ]
     },
     "execution_count": 18,
     "metadata": {},
     "output_type": "execute_result"
    }
   ],
   "source": [
    "###########################################################\n",
    "# compare the vote for one member to the votes of the party\n",
    "\n",
    "def compareMemVotes(ICPSR, congress, roll,verbose=False):\n",
    "    \n",
    "    # Grab the data\n",
    "    cst, pty, mem = get_party_votes(congress, roll)\n",
    "    rollVotes = tabulateRollVotes(cst,pty,congress, roll)\n",
    "    \n",
    "    #print(len(rollVotes))\n",
    "    \n",
    "    memberParty = str(getParty(ICPSR)[0])\n",
    "    partyVotes = rollVotes[memberParty] # grab how the party voted for a roll and bill\n",
    "    memVoteRow = vteSen[(vteSen['congress']==congress) & (vteSen['rollnumber']==roll) & (vteSen['icpsr']==ICPSR)]\n",
    "    print(memVoteRow['cast_code'])\n",
    "    memVote = int(memVoteRow['cast_code'])\n",
    "    partyVote = max(partyVotes, key=partyVotes.get)\n",
    "    votePct = partyVotes[partyVote] / 100\n",
    "    \n",
    "    if verbose:\n",
    "        print('Member %s (%s) voted %s and the party %s voted %s (%s)' %(getName(ICPSR).pop(), ICPSR, memVote,memberParty,partyVote, votePct))\n",
    "    \n",
    "    (getName(ICPSR).pop(), ICPSR, memVote,memberParty,partyVote, votePct)\n",
    "    \n",
    "    withP = True\n",
    "    if memVote != partyVote:\n",
    "        withP = False\n",
    "    \n",
    "    # Pack it up\n",
    "    voteComp = {}\n",
    "    voteComp['congress'] = congress\n",
    "    voteComp['roll'] = roll\n",
    "    voteComp['icpsr'] = ICPSR\n",
    "    voteComp['withP'] = \n",
    "    \n",
    "    '''\n",
    "    voteComp[''] = \n",
    "    voteComp[''] = \n",
    "    voteComp[''] = \n",
    "    '''\n",
    "    # Boolean whether the member voted with party\n",
    "    return \n",
    "\n",
    "if 1:    \n",
    "    compareMemVotes(49308, 114, 2,verbose=True)\n",
    "    compareMemVotes(49700, 114, 2,verbose=True)\n",
    "    compareMemVotes(49703, 114, 2,verbose=True)\n",
    "    compareMemVotes(49308, 113, 2,verbose=True)\n",
    "    compareMemVotes(49700, 113, 2,verbose=True)\n",
    "    compareMemVotes(49703, 113, 2,verbose=True)\n",
    "\n",
    "'''\n",
    "TESTING\n",
    "this checks out with https://www.govtrack.us/congress/votes/114-2015/s1\n",
    "for congress = 114 and roll = 1\n",
    "\n",
    "myOut: \n",
    "Member MURRAY, Patty (49308) voted 1 and the party 100 voted 1 (0.3)\n",
    "Member SESSIONS, Jefferson Beauregard III (Jeff) (49700) voted 6 and the party 200 voted 6 (0.53)\n",
    "Member COLLINS, Susan Margaret (49703) voted 6 and the party 200 voted 6 (0.53)\n",
    "\n",
    "'''"
   ]
  },
  {
   "cell_type": "code",
   "execution_count": null,
   "metadata": {},
   "outputs": [],
   "source": [
    "\n",
    "for cong in [114]:\n",
    "    for roll in range(1, getNumRolls('Senate', cong)):\n",
    "        compareMemVotes(49308, cong, roll)\n"
   ]
  },
  {
   "cell_type": "code",
   "execution_count": null,
   "metadata": {},
   "outputs": [],
   "source": []
  },
  {
   "cell_type": "code",
   "execution_count": null,
   "metadata": {},
   "outputs": [],
   "source": []
  },
  {
   "cell_type": "code",
   "execution_count": null,
   "metadata": {},
   "outputs": [],
   "source": []
  },
  {
   "cell_type": "code",
   "execution_count": null,
   "metadata": {},
   "outputs": [],
   "source": []
  },
  {
   "cell_type": "code",
   "execution_count": null,
   "metadata": {},
   "outputs": [],
   "source": []
  },
  {
   "cell_type": "code",
   "execution_count": null,
   "metadata": {},
   "outputs": [],
   "source": []
  },
  {
   "cell_type": "code",
   "execution_count": null,
   "metadata": {},
   "outputs": [],
   "source": []
  },
  {
   "cell_type": "markdown",
   "metadata": {},
   "source": [
    "# Build Dicts"
   ]
  },
  {
   "cell_type": "code",
   "execution_count": null,
   "metadata": {},
   "outputs": [],
   "source": [
    "\n",
    "# Grab the first term for each congressman (Pretty Slow)\n",
    "# Saves to pickle \n",
    "chamber = \"Senate\"\n",
    "maxCong = 115\n",
    "for cong in range(114,maxCong):\n",
    "    print('Running',str(cong), 'of', maxCong)\n",
    "    memTermsDict = {}\n",
    "    c = 0\n",
    "    start = time.time()\n",
    "    \n",
    "    fName = \"memTermsDict_\" + chamber + \"_\" + str(cong) + \".p\"\n",
    "    memTermsDict['fName'] = fName\n",
    "    for mem in getMembers(chamber,cong):\n",
    "        terms = getTerms(mem, chamber)\n",
    "        memTermsDict[mem] = list(terms)\n",
    "        \n",
    "        c += 1\n",
    "        if c % 10 == 0:\n",
    "            print(c,end=\" \",flush=True)\n",
    "            \n",
    "    print('Took %s'%(time.time()-start))\n",
    "    \n",
    "    pthName = \"/home/wade/Documents/Datasets/congressDicts/\" + fName\n",
    "    pickle.dump( memTermsDict, open( pthName, \"wb\" ) )\n",
    "    print('Saved', str(cong))"
   ]
  },
  {
   "cell_type": "code",
   "execution_count": null,
   "metadata": {},
   "outputs": [],
   "source": [
    "# Load in the pickle memTermsDicts\n",
    "memTermsDicts = {}\n",
    "chamber = \"Senate\"\n",
    "for cong in range(105,115):\n",
    "    fName = \"memTermsDict_\" + chamber + \"_\" + str(cong) + \".p\"\n",
    "    pthName = \"/home/wade/Documents/Datasets/congressDicts/\" + fName\n",
    "    memTermsDicts[cong] = pickle.load( open( pthName, \"rb\" ) )\n",
    "\n",
    "# Testing\n",
    "for cong in range(105,115):\n",
    "    print(len(memTermsDicts[cong]), end=\" \")"
   ]
  },
  {
   "cell_type": "code",
   "execution_count": null,
   "metadata": {},
   "outputs": [],
   "source": []
  },
  {
   "cell_type": "code",
   "execution_count": null,
   "metadata": {},
   "outputs": [],
   "source": [
    "# Build roll dicts\n",
    "# Name "
   ]
  },
  {
   "cell_type": "code",
   "execution_count": null,
   "metadata": {},
   "outputs": [],
   "source": []
  },
  {
   "cell_type": "code",
   "execution_count": null,
   "metadata": {},
   "outputs": [],
   "source": []
  },
  {
   "cell_type": "code",
   "execution_count": null,
   "metadata": {},
   "outputs": [],
   "source": []
  },
  {
   "cell_type": "code",
   "execution_count": null,
   "metadata": {},
   "outputs": [],
   "source": []
  },
  {
   "cell_type": "code",
   "execution_count": null,
   "metadata": {},
   "outputs": [],
   "source": []
  },
  {
   "cell_type": "code",
   "execution_count": null,
   "metadata": {},
   "outputs": [],
   "source": []
  },
  {
   "cell_type": "code",
   "execution_count": null,
   "metadata": {},
   "outputs": [],
   "source": []
  },
  {
   "cell_type": "code",
   "execution_count": null,
   "metadata": {},
   "outputs": [],
   "source": []
  },
  {
   "cell_type": "markdown",
   "metadata": {},
   "source": [
    "# Some Data Analysis"
   ]
  },
  {
   "cell_type": "code",
   "execution_count": null,
   "metadata": {},
   "outputs": [],
   "source": [
    "# What is the dist for num votes per member? (Senate)\n",
    "\n",
    "print('Average Number of senate votes',(sum(memSen.number_of_votes.dropna())/len(memSen.number_of_votes.dropna())))\n",
    "memSen.number_of_votes.hist()"
   ]
  },
  {
   "cell_type": "code",
   "execution_count": null,
   "metadata": {},
   "outputs": [],
   "source": []
  },
  {
   "cell_type": "code",
   "execution_count": null,
   "metadata": {},
   "outputs": [],
   "source": []
  },
  {
   "cell_type": "code",
   "execution_count": null,
   "metadata": {},
   "outputs": [],
   "source": []
  },
  {
   "cell_type": "code",
   "execution_count": null,
   "metadata": {},
   "outputs": [],
   "source": []
  },
  {
   "cell_type": "markdown",
   "metadata": {},
   "source": [
    "# Networks!"
   ]
  },
  {
   "cell_type": "code",
   "execution_count": 20,
   "metadata": {},
   "outputs": [],
   "source": [
    "# takes a congress network and builds colormap of\n",
    "# the party affiliations\n",
    "def buildCMap(G):\n",
    "   \n",
    "    # 100 D, 200 R, 328 I\n",
    "    netPty = [getParty(n)[0] for n in G]\n",
    "\n",
    "    cm = []\n",
    "    for p in netPty:\n",
    "        if p == 100:\n",
    "            cm.append('blue')\n",
    "        elif p == 200:\n",
    "            cm.append('red')\n",
    "        elif p == 328:\n",
    "            cm.append('green')\n",
    "        else:\n",
    "            cm.append('yellow')\n",
    "    return cm"
   ]
  },
  {
   "cell_type": "code",
   "execution_count": null,
   "metadata": {},
   "outputs": [],
   "source": [
    "\n"
   ]
  },
  {
   "cell_type": "code",
   "execution_count": 21,
   "metadata": {},
   "outputs": [
    {
     "ename": "NameError",
     "evalue": "name 'G' is not defined",
     "output_type": "error",
     "traceback": [
      "\u001b[0;31m---------------------------------------------------------------------------\u001b[0m",
      "\u001b[0;31mNameError\u001b[0m                                 Traceback (most recent call last)",
      "\u001b[0;32m<ipython-input-21-768762872de4>\u001b[0m in \u001b[0;36m<module>\u001b[0;34m()\u001b[0m\n\u001b[1;32m      1\u001b[0m \u001b[0;31m# Let's look at the graph\u001b[0m\u001b[0;34m\u001b[0m\u001b[0;34m\u001b[0m\u001b[0m\n\u001b[0;32m----> 2\u001b[0;31m \u001b[0mnx\u001b[0m\u001b[0;34m.\u001b[0m\u001b[0mdraw\u001b[0m\u001b[0;34m(\u001b[0m\u001b[0mG\u001b[0m\u001b[0;34m,\u001b[0m\u001b[0mpos\u001b[0m\u001b[0;34m=\u001b[0m\u001b[0mnx\u001b[0m\u001b[0;34m.\u001b[0m\u001b[0mspring_layout\u001b[0m\u001b[0;34m(\u001b[0m\u001b[0mG\u001b[0m\u001b[0;34m)\u001b[0m\u001b[0;34m)\u001b[0m\u001b[0;34m\u001b[0m\u001b[0m\n\u001b[0m\u001b[1;32m      3\u001b[0m \u001b[0;31m#nx.draw_networkx_labels(G,pos=nx.spring_layout(G))\u001b[0m\u001b[0;34m\u001b[0m\u001b[0;34m\u001b[0m\u001b[0m\n",
      "\u001b[0;31mNameError\u001b[0m: name 'G' is not defined"
     ]
    }
   ],
   "source": [
    "# Let's look at the graph\n",
    "nx.draw(G,pos=nx.spring_layout(G))\n",
    "#nx.draw_networkx_labels(G,pos=nx.spring_layout(G))"
   ]
  },
  {
   "cell_type": "code",
   "execution_count": 22,
   "metadata": {},
   "outputs": [
    {
     "data": {
      "text/html": [
       "<div>\n",
       "<style scoped>\n",
       "    .dataframe tbody tr th:only-of-type {\n",
       "        vertical-align: middle;\n",
       "    }\n",
       "\n",
       "    .dataframe tbody tr th {\n",
       "        vertical-align: top;\n",
       "    }\n",
       "\n",
       "    .dataframe thead th {\n",
       "        text-align: right;\n",
       "    }\n",
       "</style>\n",
       "<table border=\"1\" class=\"dataframe\">\n",
       "  <thead>\n",
       "    <tr style=\"text-align: right;\">\n",
       "      <th></th>\n",
       "      <th>congress</th>\n",
       "      <th>chamber</th>\n",
       "      <th>rollnumber</th>\n",
       "      <th>icpsr</th>\n",
       "      <th>cast_code</th>\n",
       "    </tr>\n",
       "  </thead>\n",
       "  <tbody>\n",
       "    <tr>\n",
       "      <th>23766522</th>\n",
       "      <td>114</td>\n",
       "      <td>Senate</td>\n",
       "      <td>1</td>\n",
       "      <td>14009</td>\n",
       "      <td>6</td>\n",
       "    </tr>\n",
       "    <tr>\n",
       "      <th>23766523</th>\n",
       "      <td>114</td>\n",
       "      <td>Senate</td>\n",
       "      <td>1</td>\n",
       "      <td>14226</td>\n",
       "      <td>6</td>\n",
       "    </tr>\n",
       "    <tr>\n",
       "      <th>23766524</th>\n",
       "      <td>114</td>\n",
       "      <td>Senate</td>\n",
       "      <td>1</td>\n",
       "      <td>14307</td>\n",
       "      <td>1</td>\n",
       "    </tr>\n",
       "    <tr>\n",
       "      <th>23766525</th>\n",
       "      <td>114</td>\n",
       "      <td>Senate</td>\n",
       "      <td>1</td>\n",
       "      <td>14435</td>\n",
       "      <td>1</td>\n",
       "    </tr>\n",
       "    <tr>\n",
       "      <th>23766526</th>\n",
       "      <td>114</td>\n",
       "      <td>Senate</td>\n",
       "      <td>1</td>\n",
       "      <td>14440</td>\n",
       "      <td>1</td>\n",
       "    </tr>\n",
       "  </tbody>\n",
       "</table>\n",
       "</div>"
      ],
      "text/plain": [
       "          congress chamber  rollnumber  icpsr  cast_code\n",
       "23766522       114  Senate           1  14009          6\n",
       "23766523       114  Senate           1  14226          6\n",
       "23766524       114  Senate           1  14307          1\n",
       "23766525       114  Senate           1  14435          1\n",
       "23766526       114  Senate           1  14440          1"
      ]
     },
     "execution_count": 22,
     "metadata": {},
     "output_type": "execute_result"
    }
   ],
   "source": [
    "vteSenThresh.head()"
   ]
  },
  {
   "cell_type": "code",
   "execution_count": 42,
   "metadata": {},
   "outputs": [
    {
     "data": {
      "text/plain": [
       "Text(0.5,1,'114th Senate, roll 1, buddy vote graph')"
      ]
     },
     "execution_count": 42,
     "metadata": {},
     "output_type": "execute_result"
    },
    {
     "data": {
      "image/png": "[encoded data removed]",
      "text/plain": [
       "<Figure size 432x288 with 1 Axes>"
      ]
     },
     "metadata": {},
     "output_type": "display_data"
    }
   ],
   "source": [
    "# Let's make a voteing graph\n",
    "G = nx.Graph()\n",
    "\n",
    "# grab voting data for a roll\n",
    "cst, pty, mem = get_party_votes(114,1)\n",
    "\n",
    "# for a roll, see which members voted alike\n",
    "for i_m,i_c in zip(mem, cst):\n",
    "    for j_m,j_c in zip(mem, cst):\n",
    "        #print(i_m, i_c, j_m, j_c)\n",
    "        if i_c == j_c:\n",
    "            G.add_edge(i_m, j_m)\n",
    "\n",
    "cm = buildCMap(G)\n",
    "# Let's look at the graph\n",
    "nx.draw(G,pos=nx.circular_layout(G),node_color=cm,with_labels=False)\n",
    "#nx.draw_networkx_labels(G,pos=nx.spring_layout(G))\n",
    "plt.title('114th Senate, roll 1, buddy vote graph')"
   ]
  },
  {
   "cell_type": "code",
   "execution_count": 100,
   "metadata": {},
   "outputs": [
    {
     "name": "stdout",
     "output_type": "stream",
     "text": [
      "Saved\n"
     ]
    }
   ],
   "source": [
    "# init save struct (just run once! or overwrite!!!)\n",
    "if 1:\n",
    "    fNameD = \"buddyADJDict_v2.p\"\n",
    "    pPthName = \"/home/wade/Documents/Datasets/congressDicts/\" + fNameD\n",
    "    buddyADJDict = {}\n",
    "    pickle.dump(buddyADJDict, open( pPthName, \"wb\" ) )\n",
    "    print('Saved')"
   ]
  },
  {
   "cell_type": "code",
   "execution_count": 101,
   "metadata": {
    "scrolled": true
   },
   "outputs": [
    {
     "name": "stdout",
     "output_type": "stream",
     "text": [
      "\n",
      "\n",
      "Tabulating congress 103 | 724 rolls\n",
      "Building roll: 100 200 300 400 500 600 700 \n",
      "\n",
      "Tabulating congress 104 | 919 rolls\n",
      "Building roll: 100 200 300 400 500 600 700 800 900 \n",
      "\n",
      "Tabulating congress 105 | 612 rolls\n",
      "Building roll: 100 200 300 400 500 600 \n",
      "\n",
      "Tabulating congress 106 | 672 rolls\n",
      "Building roll: 100 200 300 400 500 600 \n",
      "\n",
      "Tabulating congress 107 | 633 rolls\n",
      "Building roll: 100 200 300 400 500 600 \n",
      "\n",
      "Tabulating congress 108 | 675 rolls\n",
      "Building roll: 100 200 300 400 500 600 \n",
      "\n",
      "Tabulating congress 109 | 645 rolls\n",
      "Building roll: 100 200 300 400 500 600 \n",
      "\n",
      "Tabulating congress 110 | 657 rolls\n",
      "Building roll: 100 200 300 400 500 600 \n",
      "\n",
      "Tabulating congress 111 | 696 rolls\n",
      "Building roll: 100 200 300 400 500 600 \n",
      "\n",
      "Tabulating congress 112 | 486 rolls\n",
      "Building roll: 100 200 300 400 \n",
      "\n",
      "Tabulating congress 113 | 657 rolls\n",
      "Building roll: 100 200 300 400 500 600 \n",
      "\n",
      "Tabulating congress 114 | 502 rolls\n",
      "Building roll: 100 200 300 400 500 \n",
      "\n",
      "Tabulating congress 115 | 187 rolls\n",
      "Building roll: 100 \n",
      "Took 3845.146264076233\n"
     ]
    },
    {
     "data": {
      "image/png": "[encoded data removed]",
      "text/plain": [
       "<Figure size 432x288 with 1 Axes>"
      ]
     },
     "metadata": {},
     "output_type": "display_data"
    }
   ],
   "source": [
    "# build voting adj mats for one jk all senate session(s) jk 20 most recent\n",
    "start = time.time()\n",
    "sve = True\n",
    "for congress in range(103,115+1):\n",
    "    # congress = 114\n",
    "    \n",
    "    #num_rolls = len(set(vteSenThresh['rollnumber'])) # 502 rolls\n",
    "    #num_sen = len(set(vteSenThresh['icpsr'])) # 100 \n",
    "    num_rolls = getNumRolls('Senate', congress)\n",
    "    num_sen = len(getMembers('Senate', congress))\n",
    "    # (100 * 100) * 502 = 5020000\n",
    "    # let's not use multiple matricies...\n",
    "    \n",
    "    print()\n",
    "    print('\\nTabulating congress', congress, '|', num_rolls, 'rolls')\n",
    "\n",
    "    # init mat\n",
    "    buddyTallyMat = np.zeros((num_sen,num_sen))\n",
    "    print('Building roll: ', end=\"\")\n",
    "    for roll in range(1, num_rolls+1):\n",
    "        if roll % 100 == 0:\n",
    "            print(roll,end=\" \")\n",
    "\n",
    "        # grab voting data for a roll\n",
    "        cst, pty, mem = get_party_votes(congress,roll)\n",
    "        #print(len(mem), num_sen)\n",
    "\n",
    "        # for a roll, see which members voted alike\n",
    "        i_btm = 0\n",
    "        for i_m,i_c in zip(mem, cst):\n",
    "            j_btm = 0\n",
    "            for j_m,j_c in zip(mem, cst):\n",
    "                #print(i_m, i_c, j_m, j_c)\n",
    "                if i_c == j_c:\n",
    "                    # increment if they share a connection\n",
    "                    buddyTallyMat[i_btm,j_btm] += 1\n",
    "                j_btm += 1\n",
    "            i_btm += 1  \n",
    "    if sve:\n",
    "        #save our hard work! + '_' +\n",
    "        path = '/home/wade/codingCoop/congress/figs/senate_buddyroll_adjMats/'\n",
    "        fname = path + str(congress) + '_r-all_ADJ-W_v2.png' \n",
    "        plt.imshow(buddyTallyMat)\n",
    "        tle = str(congress) + 'th Senate Voteing ADJ Mat (all votes)'\n",
    "        plt.title(tle)\n",
    "        plt.savefig(fname)\n",
    "\n",
    "        # grab the adj dict\n",
    "        fNameD = \"buddyADJDict_v2.p\"\n",
    "        pPthName = \"/home/wade/Documents/Datasets/congressDicts/\" + fNameD\n",
    "        buddyADJDict = pickle.load( open( pPthName, \"rb\" ) )\n",
    "\n",
    "        buddyADJDict[congress] = {}\n",
    "        buddyADJDict[congress]['cst'] = cst\n",
    "        buddyADJDict[congress]['pty'] = pty\n",
    "        buddyADJDict[congress]['mem'] = mem\n",
    "        buddyADJDict[congress]['vADJ'] = buddyTallyMat\n",
    "\n",
    "        # save it again\n",
    "        pickle.dump(buddyADJDict, open( pPthName, \"wb\" ) )\n",
    "    \n",
    "    \n",
    "print('\\nTook', (time.time() - start)) \n",
    "# Took 86.36s for 500 rolls, 1 congress\n",
    "# took 277s for 1\n",
    "# took 3846.7s for 12?\n",
    "#plt.imshow(buddyTallyMat)\n",
    "\n",
    "# these will need to be normalized somehow to account for the variable number of rolls?"
   ]
  },
  {
   "cell_type": "code",
   "execution_count": 58,
   "metadata": {},
   "outputs": [
    {
     "name": "stdout",
     "output_type": "stream",
     "text": [
      "101 | 103 101 | 103 101 | 103 101 | 103 101 | 103 101 | 103 101 | 103 101 | 103 101 | 103 101 | 103 101 | 103 101 | 103 101 | 103 101 | 103 101 | 103 101 | 103 101 | 103 101 | 103 101 | 103 101 | 103 101 | 103 101 | 103 101 | 103 101 | 103 101 | 103 101 | 103 101 | 103 101 | 103 101 | 103 101 | 103 101 | 103 101 | 103 101 | 103 101 | 103 101 | 103 101 | 103 101 | 103 101 | 103 101 | 103 101 | 103 101 | 103 101 | 103 101 | 103 101 | 103 101 | 103 101 | 103 101 | 103 101 | 103 101 | 103 101 | 103 101 | 103 101 | 103 101 | 103 101 | 103 101 | 103 101 | 103 101 | 103 101 | 103 101 | 103 101 | 103 101 | 103 101 | 103 101 | 103 101 | 103 101 | 103 101 | 103 101 | 103 101 | 103 101 | 103 101 | 103 101 | 103 101 | 103 101 | 103 101 | 103 101 | 103 101 | 103 101 | 103 101 | 103 101 | 103 101 | 103 101 | 103 101 | 103 101 | 103 101 | 103 101 | 103 101 | 103 101 | 103 101 | 103 101 | 103 101 | 103 101 | 103 101 | 103 101 | 103 101 | 103 101 | 103 101 | 103 101 | 103 101 | 103 101 | 103 "
     ]
    }
   ],
   "source": [
    "# testing: do calls return the same members? \n",
    "# seems so... a def TODO: build a lookup f(x) to validate icpsr-> edits to getPrtyvtes should fix this\n",
    "if 0:\n",
    "    cst1, pty1, mem1 = get_party_votes(114,1)\n",
    "    cst2, pty2, mem2 = get_party_votes(114,60)\n",
    "\n",
    "    print(mem1.head())\n",
    "    print(mem2.head())\n",
    "    print(list(mem1) == list(mem2))\n",
    "# validation pt 2\n",
    "if 1:\n",
    "    for i in range(1,100):\n",
    "        num_sen = len(getMembers('Senate', 104))\n",
    "        cst, pty, mem = get_party_votes(104,i)\n",
    "        print(len(mem),'|',num_sen,end=\" \")"
   ]
  },
  {
   "cell_type": "code",
   "execution_count": 44,
   "metadata": {
    "scrolled": true
   },
   "outputs": [
    {
     "data": {
      "text/plain": [
       "Text(0.5,1.05,'114th Senate Voteing ADJ Mat (all votes)')"
      ]
     },
     "execution_count": 44,
     "metadata": {},
     "output_type": "execute_result"
    },
    {
     "data": {
      "image/png": "[encoded data removed]",
      "text/plain": [
       "<Figure size 288x288 with 1 Axes>"
      ]
     },
     "metadata": {},
     "output_type": "display_data"
    }
   ],
   "source": [
    "# hey this is pretty cool\n",
    "plt.matshow(buddyTallyMat)\n",
    "plt.title('114th Senate Voteing ADJ Mat (all votes)')"
   ]
  },
  {
   "cell_type": "code",
   "execution_count": null,
   "metadata": {},
   "outputs": [],
   "source": []
  },
  {
   "cell_type": "code",
   "execution_count": null,
   "metadata": {},
   "outputs": [],
   "source": []
  },
  {
   "cell_type": "code",
   "execution_count": null,
   "metadata": {},
   "outputs": [],
   "source": [
    "# OLD STUFF"
   ]
  },
  {
   "cell_type": "code",
   "execution_count": null,
   "metadata": {},
   "outputs": [],
   "source": [
    "# how do the party affiliations change over time? (Senate)\n",
    "# very slow... \n",
    "\n",
    "thresh = 100 # select only a particular range of congress from 1 to 155. ie. 100 = 1988\n",
    "vteSenThresh = vteSen[vteSen['congress']>=thresh]\n",
    "\n",
    "\n",
    "ptyCnts = []\n",
    "ptyBuff = []\n",
    "currentCong = thresh\n",
    "start = time.time()\n",
    "print('Start...')\n",
    "for index, row in vteSenThresh.iterrows():\n",
    "    \n",
    "    if index % 100000 == 0:\n",
    "        print(int(row['congress']),currentCong)\n",
    "    \n",
    "    if int(row['congress']) != currentCong:\n",
    "        print(currentCong,end=\" \")\n",
    "        currentCong = int(row['congress'])\n",
    "        numPty = len(set(ptyBuff))\n",
    "        #print(numPty)\n",
    "        ptyCnts.append(numPty)\n",
    "        ptyBuff = []\n",
    "    \n",
    "    isp = int(row['icpsr'])\n",
    "    pty = getParty(isp)\n",
    "    ptyBuff.append(pty[0])\n",
    "\n",
    "    \n",
    "    \n",
    "    \n",
    "    \n"
   ]
  },
  {
   "cell_type": "code",
   "execution_count": null,
   "metadata": {},
   "outputs": [],
   "source": [
    "print(len(set(vteSen['congress'])))\n",
    "\n",
    "ptyCnts\n",
    "vteSenThresh = vteSen[vteSen['congress']>=thresh]\n",
    "\n",
    "len(vteSenThresh)\n"
   ]
  },
  {
   "cell_type": "code",
   "execution_count": null,
   "metadata": {},
   "outputs": [],
   "source": [
    "print('Num party Counts', ptyCnts)\n",
    "\n",
    "if 1:\n",
    "    plt.plot(ptyCnts)\n",
    "    plt.title('Number of parties over time')\n",
    "    plt.show()\n",
    "    "
   ]
  },
  {
   "cell_type": "code",
   "execution_count": null,
   "metadata": {},
   "outputs": [],
   "source": [
    "c1 = roll[roll['congress'] == 3]\n",
    "max(c1['rollnumber'])\n",
    "\n",
    "# collect max roll number for each congress\n",
    "maxRolls = {}\n",
    "for i in range(1, max(roll['congress'])):\n",
    "    c = roll[roll['congress'] == i]\n",
    "    maxRolls[i] = max(c['rollnumber'])\n",
    "\n",
    "        "
   ]
  },
  {
   "cell_type": "code",
   "execution_count": null,
   "metadata": {},
   "outputs": [],
   "source": [
    "x, y = zip(*maxRolls.items())\n",
    "if 1:\n",
    "    plt.plot(x,y)\n",
    "    plt.title('Number of rolls per congress')\n",
    "    plt.show()"
   ]
  },
  {
   "cell_type": "code",
   "execution_count": null,
   "metadata": {},
   "outputs": [],
   "source": [
    "import RollCodes\n",
    "rc = RollCodes.rollCodes # grab the data"
   ]
  },
  {
   "cell_type": "code",
   "execution_count": null,
   "metadata": {},
   "outputs": [],
   "source": [
    "# calculate the yay nay ratio for n congress\n",
    "import time\n",
    "\n",
    "thresh = 75\n",
    "df = roll[roll['congress'] > thresh]\n",
    "\n",
    "start = time.time()\n",
    "ynRat = []\n",
    "\n",
    "compMin = (((max(df['congress'])-thresh) / 10) * 99) / 60\n",
    "print('Thinking... (est time', compMin, ') minutes')\n",
    "for i in range(min(df['congress']),max(df['congress'])):\n",
    "    c = df[df['congress'] == i]\n",
    "\n",
    "    yay,nay = 0,0\n",
    "    for index, row in c.iterrows():\n",
    "        if row['cast_code'] == 1:\n",
    "            yay += 1\n",
    "        elif row['cast_code'] == 6:\n",
    "            nay += 1\n",
    "            \n",
    "    ynRat.append(yay/nay)\n",
    "    \n",
    "print('Took:', time.time()-start, 'seconds to run', max(df['congress']))\n",
    "# takes 99 seconds to run 10\n",
    "#       252               41 "
   ]
  },
  {
   "cell_type": "code",
   "execution_count": null,
   "metadata": {},
   "outputs": [],
   "source": [
    "if 1:\n",
    "    plt.plot(range(min(df['congress']),max(df['congress'])),ynRat)\n",
    "    plt.title('yay/nay ratio per congress')\n",
    "    plt.xlabel('Congress')\n",
    "    plt.ylabel('ratio')\n",
    "    plt.show()\n",
    "\n"
   ]
  },
  {
   "cell_type": "code",
   "execution_count": null,
   "metadata": {},
   "outputs": [],
   "source": [
    "# Let's grab the names and parties\n",
    "npty = pd.read_csv('data/ICPS.csv')\n",
    "print(npty.head())\n",
    "len(npty['icps'])"
   ]
  },
  {
   "cell_type": "code",
   "execution_count": null,
   "metadata": {},
   "outputs": [],
   "source": [
    "# let's build some useful functions\n",
    "\n",
    "def get_name(ipr):\n",
    "    idx = npty[npty['icps'] == ipr].index.tolist()\n",
    "    nms = [npty.loc[id_,'name'] for id_ in idx]\n",
    "    return nms \n",
    "\n",
    "def get_party(ipr):\n",
    "    idx = npty[npty['icps'] == str(ipr)].index.tolist()\n",
    "    ptys = [npty.loc[id_,'party'] for id_ in idx]\n",
    "    #ptys = [int(pt) for pt in ptys]\n",
    "    \n",
    "    ptys_ = []\n",
    "    for p in ptys:\n",
    "        if '*' in p: # deal with *\n",
    "            ptys_.append(int(p[2:len(p)]))\n",
    "        else:\n",
    "            ptys_.append(int(p))\n",
    "    return ptys_\n",
    "    \n",
    "# 1536\n",
    "\n",
    "npty.loc[4,'state']\n",
    "\n",
    "npty.loc[38,'name']\n",
    "print(get_party(99911))\n",
    "print(get_name(99911))\n",
    "\n",
    "npty['icps'] == 99911\n",
    "\n",
    "# 9094\n",
    "npty.loc[9093,'icps']\n",
    "\n",
    "len(npty[npty['icps'] == '99911'])\n",
    "print(get_party(21166))"
   ]
  },
  {
   "cell_type": "code",
   "execution_count": null,
   "metadata": {},
   "outputs": [],
   "source": [
    "# Let's find how one person votes over time\n",
    "\n",
    "thresh = 110 \n",
    "df = roll[roll['congress'] > thresh]\n",
    "df.head()\n",
    "\n",
    "# grab the votes for the member\n",
    "memb = 1366\n",
    "votes = [] #todo dict?\n",
    "start = time.time()\n",
    "for index, row in df.iterrows():\n",
    "    if row['icpsr'] == memb:\n",
    "        votes.append(row['cast_code'])\n",
    "\n",
    "print('Number of votes for %f: %f' %(memb, len(votes)))\n",
    "\n",
    "print('took', (time.time() - start))\n",
    "\n",
    "plt.plot(votes)\n",
    "plt.show()\n",
    "\n",
    "\n"
   ]
  },
  {
   "cell_type": "code",
   "execution_count": null,
   "metadata": {},
   "outputs": [],
   "source": [
    "tst = df.head()\n",
    "tst = tst.copy(deep=True)\n",
    "\n",
    "tst['party'] = [1,0,0,1,1]\n",
    "\n",
    "# add party to data\n",
    "\n",
    "# make the party column\n",
    "partys = []\n",
    "for index, row in tst.iterrows():\n",
    "    ptys = get_party(row['icpsr'])\n",
    "    print(row['icpsr'], ptys)\n",
    "    \n",
    "    # there isn't a party\n",
    "    if len(ptys) == 0:\n",
    "        ptys = [999]\n",
    "        \n",
    "    partys.append(ptys[0])"
   ]
  },
  {
   "cell_type": "code",
   "execution_count": null,
   "metadata": {},
   "outputs": [],
   "source": [
    "# how impoverished is my party data?\n",
    "thresh = 110 \n",
    "df = roll[roll['congress'] > thresh]\n",
    "\n",
    "# grab unique icpsr's\n",
    "members = df['icpsr'].unique()\n",
    "\n",
    "pty = []\n",
    "for mem in members:\n",
    "    ptys = get_party(mem)\n",
    "    \n",
    "    if len(ptys) > 0:\n",
    "        pty.append(ptys[0])\n",
    "    #else:\n",
    "        #print(mem)\n",
    "        \n",
    "print(len(pty),len(members))\n",
    "print('took', (time.time() - start))\n",
    " \n",
    "        \n",
    "        "
   ]
  },
  {
   "cell_type": "code",
   "execution_count": null,
   "metadata": {},
   "outputs": [],
   "source": []
  },
  {
   "cell_type": "code",
   "execution_count": null,
   "metadata": {},
   "outputs": [],
   "source": []
  },
  {
   "cell_type": "code",
   "execution_count": null,
   "metadata": {},
   "outputs": [],
   "source": []
  },
  {
   "cell_type": "code",
   "execution_count": null,
   "metadata": {},
   "outputs": [],
   "source": []
  },
  {
   "cell_type": "code",
   "execution_count": null,
   "metadata": {},
   "outputs": [],
   "source": [
    "npts = 300\n",
    "max_iter = 100\n",
    " \n",
    "X = np.linspace(-2, 1, 2 * npts)\n",
    "Y = np.linspace(-1, 1, npts)\n",
    " \n",
    "#broadcast X to a square array\n",
    "C = X[:, None] + 1J * Y\n",
    "#initial value is always zero\n",
    "Z = np.zeros_like(C)\n",
    " \n",
    "exit_times = max_iter * np.ones(C.shape, np.int32)\n",
    "mask = exit_times > 0\n",
    " \n",
    "for k in range(max_iter):\n",
    "    Z[mask] = Z[mask] * Z[mask] + C[mask]\n",
    "    mask, old_mask = abs(Z) < 2, mask\n",
    "    #use XOR to detect the area which has changed \n",
    "    exit_times[mask ^ old_mask] = k\n",
    " \n",
    "plt.imshow(exit_times.T,\n",
    "           cmap=plt.cm.prism,\n",
    "           extent=(X.min(), X.max(), Y.min(), Y.max()))"
   ]
  },
  {
   "cell_type": "code",
   "execution_count": null,
   "metadata": {},
   "outputs": [],
   "source": [
    "# \n",
    "\n",
    "\n",
    "\n",
    "# are you more likely to see a yay after seeing a nay? Vice versa"
   ]
  }
 ],
 "metadata": {
  "kernelspec": {
   "display_name": "Python 3",
   "language": "python",
   "name": "python3"
  },
  "language_info": {
   "codemirror_mode": {
    "name": "ipython",
    "version": 3
   },
   "file_extension": ".py",
   "mimetype": "text/x-python",
   "name": "python",
   "nbconvert_exporter": "python",
   "pygments_lexer": "ipython3",
   "version": "3.6.5"
  }
 },
 "nbformat": 4,
 "nbformat_minor": 2
}
