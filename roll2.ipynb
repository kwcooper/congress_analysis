{
 "cells": [
  {
   "cell_type": "code",
   "execution_count": 45,
   "metadata": {},
   "outputs": [],
   "source": [
    "import pandas as pd \n",
    "import matplotlib.pyplot as plt\n",
    "import numpy as np\n",
    "import networkx as nx\n",
    "from collections import Counter\n",
    "import time\n",
    "import pickle\n",
    "import itertools\n",
    "import random\n",
    "import copy \n",
    "from scipy import stats"
   ]
  },
  {
   "cell_type": "code",
   "execution_count": 5,
   "metadata": {},
   "outputs": [
    {
     "name": "stdout",
     "output_type": "stream",
     "text": [
      "importing data...\n",
      "done.\n"
     ]
    }
   ],
   "source": [
    "print('importing data...')\n",
    "if 1: # linux\n",
    "    allMem = pd.read_csv('/home/wade/Documents/Datasets/congressional-voting-records/HSall_members.csv')\n",
    "    allPty = pd.read_csv('/home/wade/Documents/Datasets/congressional-voting-records/HSall_parties.csv')\n",
    "    allRol = pd.read_csv('/home/wade/Documents/Datasets/congressional-voting-records/HSall_rollcalls.csv',low_memory=False)\n",
    "    allVte = pd.read_csv('/home/wade/Documents/Datasets/congressional-voting-records/HSall_votes.csv')\n",
    "    cast_codes = pd.read_csv('/home/wade/codingCoop/congress/data/cast_codes.csv')\n",
    "    \n",
    "if 0: # unix\n",
    "    allMem = pd.read_csv('/Volumes/NO NAME/congressional-voting-records/HSall_members.csv')\n",
    "    allPty = pd.read_csv('/Volumes/NO NAME/congressional-voting-records/HSall_parties.csv')\n",
    "    allRol = pd.read_csv('/Volumes/NO NAME/congressional-voting-records/HSall_rollcalls.csv',low_memory=False)\n",
    "    allVte = pd.read_csv('/Volumes/NO NAME/congressional-voting-records/HSall_votes.csv')\n",
    "\n",
    "\n",
    "\n",
    "#print(allMem.head())\n",
    "#print(allPty.head())\n",
    "print('done.')"
   ]
  },
  {
   "cell_type": "code",
   "execution_count": 42,
   "metadata": {},
   "outputs": [
    {
     "name": "stdout",
     "output_type": "stream",
     "text": [
      "number of members: 48804\n",
      "number of parties: 819\n",
      "number of Rolls: 105254\n",
      "number of Votes: 24023858\n",
      "   congress chamber  rollnumber  icpsr  cast_code\n",
      "0         1   House           1    154          6\n",
      "1         1   House           1    259          9\n",
      "2         1   House           1    379          1\n",
      "3         1   House           1    649          1\n",
      "4         1   House           1    786          1\n",
      "NXT:\n",
      "   congress    chamber  icpsr  state_icpsr  district_code state_abbrev  \\\n",
      "0         1  President  99869           99              0          USA   \n",
      "1         1      House   4766            1             98           CT   \n",
      "2         1      House   8457            1             98           CT   \n",
      "3         1      House   9062            1             98           CT   \n",
      "4         1      House   9489            1             98           CT   \n",
      "\n",
      "   party_code  occupancy  last_means                  bioname bioguide_id  \\\n",
      "0        5000        NaN         NaN       WASHINGTON, George         NaN   \n",
      "1        5000        0.0         1.0     HUNTINGTON, Benjamin     H000995   \n",
      "2        5000        0.0         1.0           SHERMAN, Roger     S000349   \n",
      "3        5000        0.0         1.0        STURGES, Jonathan     S001047   \n",
      "4        5000        0.0         1.0  TRUMBULL, Jonathan, Jr.     T000389   \n",
      "\n",
      "     born    died   dim1   dim2  log_likelihood  geo_mean_probability  \\\n",
      "0     NaN     NaN    NaN    NaN             NaN                   NaN   \n",
      "1  1736.0  1800.0  0.639  0.304       -29.04670                 0.708   \n",
      "2  1721.0  1793.0  0.589  0.307       -40.59580                 0.684   \n",
      "3  1740.0  1819.0  0.531  0.448       -25.87361                 0.724   \n",
      "4  1740.0  1809.0  0.692  0.246       -30.47113                 0.750   \n",
      "\n",
      "   number_of_votes  number_of_errors  conditional  \n",
      "0              NaN               NaN          NaN  \n",
      "1             84.0              12.0          NaN  \n",
      "2            107.0              18.0          NaN  \n",
      "3             80.0              13.0          NaN  \n",
      "4            106.0              11.0          NaN  \n",
      "NXT:\n",
      "   congress chamber  rollnumber        date  session  clerk_rollnumber  mid_1  \\\n",
      "0         1   House           1  1789-05-16      NaN               NaN  0.229   \n",
      "1         1   House           2  1789-05-22      NaN               NaN -0.090   \n",
      "2         1   House           3  1789-06-22      NaN               NaN -0.176   \n",
      "3         1   House           4  1789-06-22      NaN               NaN  0.081   \n",
      "4         1   House           5  1789-06-24      NaN               NaN -0.168   \n",
      "\n",
      "   mid_2  spread_1  spread_2  log_likelihood bill_number vote_result  \\\n",
      "0 -0.378     0.229    -0.378         -13.144         HR2         NaN   \n",
      "1  1.791    -0.090     1.791          -1.900         NaN         NaN   \n",
      "2  0.922    -0.176     0.922         -22.048         HR8         NaN   \n",
      "3 -0.327     0.081    -0.327         -30.355         HR8         NaN   \n",
      "4  0.984    -0.168     0.984         -22.221         HR8         NaN   \n",
      "\n",
      "  vote_desc vote_question                                           dtl_desc  \n",
      "0       NaN           NaN  TO AMEND H.R. 2, (1 STAT. 24, APP. 7-4-1789), ...  \n",
      "1       NaN           NaN  TO PASS THE RESOLUTION THAT IT APPEARS TO THIS...  \n",
      "2       NaN           NaN  TO AMEND H.R. 8, (1 STAT. 28, APP. 7-27-1789),...  \n",
      "3       NaN           NaN  TO AMEND H.R. 8, SO AS TO ELIMINATE THE PRESID...  \n",
      "4       NaN           NaN                                    TO PASS H.R. 8.  \n",
      "NXT:\n",
      "   cast_code                                              title\n",
      "0          0  Not a member of the chamber when this vote was...\n",
      "1          1                                                Yea\n",
      "2          2                                         Paired Yea\n",
      "3          3                                      Announced Yea\n",
      "4          4                                      Announced Nay\n"
     ]
    }
   ],
   "source": [
    "print('number of members:',len(allMem['congress']))\n",
    "print('number of parties:',len(allPty['congress']))\n",
    "print('number of Rolls:', len(allRol['congress']))\n",
    "print('number of Votes:', len(allVte['congress']))\n",
    "\n",
    "# Drop data\n",
    "allMem.drop(columns=['dim1','dim2','log_likelihood','geo_mean_probability', 'last_means', 'number_of_errors', 'conditional'])\n",
    "\n",
    "print(allVte.head())\n",
    "print('NXT:')\n",
    "print(allMem.head())\n",
    "print('NXT:')\n",
    "print(allRol.head())\n",
    "print('NXT:')\n",
    "print(cast_codes.head())"
   ]
  },
  {
   "cell_type": "code",
   "execution_count": null,
   "metadata": {},
   "outputs": [],
   "source": []
  },
  {
   "cell_type": "code",
   "execution_count": 6,
   "metadata": {},
   "outputs": [
    {
     "name": "stdout",
     "output_type": "stream",
     "text": [
      "4181474 24023858\n",
      "Number of senate members: 9583\n",
      "Number of ISPSR: 1972\n",
      "Number of ISPSR: 1969\n"
     ]
    },
    {
     "data": {
      "text/plain": [
       "'\\nSince the U.S. Congress convened on March 4, 1789, 12,343 individuals \\nhave served as Representatives, Senators, or in both capacities. There \\nhave been 10,360 Members who served only as Representatives, 1,305 \\nMembers who served only in the Senate, and 677 Members with service \\nin both chambers.\\n'"
      ]
     },
     "execution_count": 6,
     "metadata": {},
     "output_type": "execute_result"
    }
   ],
   "source": [
    "# just grab the senate\n",
    "vteSen = allVte[allVte['chamber']=='Senate']\n",
    "#print(vteSen.head())\n",
    "print(len(vteSen), len(allVte))\n",
    "\n",
    "memSen = allMem[allMem['chamber']=='Senate']\n",
    "print('Number of senate members:', len(memSen))\n",
    "#memSen = [print(m) for m in memSen]\n",
    "#print(len(np.unique(memSen)))\n",
    "#print(memSen.head())\n",
    "\n",
    "# grab their icpsr\n",
    "allIsp = set(vteSen['icpsr'])\n",
    "print('Number of ISPSR:',len(allIsp))\n",
    "\n",
    "\n",
    "# grab senate members\n",
    "memIsp = set(memSen['icpsr'])\n",
    "print('Number of ISPSR:', len(memIsp))\n",
    "\n",
    "# These seem about right...\n",
    "'''\n",
    "Since the U.S. Congress convened on March 4, 1789, 12,343 individuals \n",
    "have served as Representatives, Senators, or in both capacities. There \n",
    "have been 10,360 Members who served only as Representatives, 1,305 \n",
    "Members who served only in the Senate, and 677 Members with service \n",
    "in both chambers.\n",
    "'''\n"
   ]
  },
  {
   "cell_type": "code",
   "execution_count": null,
   "metadata": {},
   "outputs": [],
   "source": [
    "# Which people am I missing?\n",
    "missIsp = [i for i in allIsp if i not in memIsp]\n",
    "print(missIsp)\n",
    "a = 2307\n",
    "\n",
    "#df.loc[df['column_name'] == some_value]"
   ]
  },
  {
   "cell_type": "markdown",
   "metadata": {},
   "source": [
    "# Useful Functions"
   ]
  },
  {
   "cell_type": "code",
   "execution_count": 7,
   "metadata": {},
   "outputs": [
    {
     "name": "stdout",
     "output_type": "stream",
     "text": [
      "100\n",
      "        congress chamber  rollnumber        date  session  clerk_rollnumber  \\\n",
      "104130       114  Senate           3  2015-01-12      1.0               3.0   \n",
      "\n",
      "        mid_1  mid_2  spread_1  spread_2  log_likelihood bill_number  \\\n",
      "104130 -0.336 -0.459    -0.336    -0.459         -12.217          S1   \n",
      "\n",
      "                                       vote_result vote_desc vote_question  \\\n",
      "104130  Cloture on the Motion to Proceed Agreed to       NaN           NaN   \n",
      "\n",
      "       dtl_desc  \n",
      "104130      NaN  \n",
      "4    Announced Nay\n",
      "Name: title, dtype: object\n",
      "{'COCHRAN, William Thad'}\n",
      "Took: 2.5693857669830322\n",
      "{96, 97, 98, 99, 100, 101, 102, 103, 104, 105, 106, 107, 108, 109, 110, 111, 112, 113, 114, 115}\n"
     ]
    }
   ],
   "source": [
    "\n",
    "# grab the members of a congress session\n",
    "def grabMembers(cong, chamb):\n",
    "    \n",
    "    filtMem = allMem[(allMem['congress']==cong) & (allMem['chamber']==chamb)]\n",
    "    members = filtMem['icpsr']\n",
    "    \n",
    "    return list(members)\n",
    "\n",
    "print(len(grabMembers(114,'Senate')))\n",
    "\n",
    "\n",
    "\n",
    "\n",
    "\n",
    "# grab info for a vote\n",
    "# congress chamber  rollnumber\n",
    "# TODO: fix the output of this guy\n",
    "def getVoteInfo(cong, cham, rollNum):\n",
    "    q = \"congress == %s and chamber == %s and rollnumber == %s\" % (cong, cham, rollNum)\n",
    "    out = allRol.query(q)\n",
    "    return out\n",
    "\n",
    "print(getVoteInfo(114,\"'Senate'\",3))\n",
    "\n",
    "\n",
    "\n",
    "\n",
    "\n",
    "# get the text of the cast code\n",
    "def castTxt(cast):\n",
    "    q = \"cast_code == %s\" % (cast)\n",
    "    out = cast_codes.query(q)\n",
    "    return out['title']\n",
    "\n",
    "print(castTxt(4))\n",
    "\n",
    "\n",
    "\n",
    "\n",
    "\n",
    "# grab the name of a member\n",
    "def getName(icpsr):\n",
    "    names = list(memSen.loc[memSen['icpsr']==icpsr]['bioname'])\n",
    "    \n",
    "    if len(names) == 0:\n",
    "        return 'NaN'\n",
    "    return set(names)\n",
    "\n",
    "\n",
    "print(getName(14009)) # COCHRAN, William Thad | 14009\n",
    "\n",
    "\n",
    "\n",
    "\n",
    "# Grab the parties of a member\n",
    "def getParty(icpsr):\n",
    "    ptys = list(memSen.loc[memSen['icpsr']==icpsr]['party_code'])\n",
    "    \n",
    "    if len(ptys) == 0:\n",
    "        return 'NaN'\n",
    "    return ptys\n",
    "\n",
    "\n",
    "\n",
    "\n",
    "\n",
    "# Grab the terms that a congressman has served #SLOW!\n",
    "def getTerms(icpsr,chamber):\n",
    "    \n",
    "    terms = []\n",
    "    start = time.time()\n",
    "    # filter for member\n",
    "    rollRows = allVte[(allVte['icpsr'] == icpsr) & (allVte['chamber'] == chamber)]\n",
    "    terms = set(rollRows['congress'])\n",
    "    \n",
    "    '''\n",
    "    Testing\n",
    "    https://www.congress.gov/member/thad-cochran/C000567\n",
    "    Senate: 96th-115th (1979-2019); Senator Thad Cochran\n",
    "    \n",
    "    Function works!\n",
    "    \n",
    "    '''\n",
    "    print('Took: %s'%(time.time()-start))\n",
    "    return terms\n",
    "\n",
    "print(getTerms(14009, 'Senate'))"
   ]
  },
  {
   "cell_type": "code",
   "execution_count": 8,
   "metadata": {},
   "outputs": [
    {
     "name": "stdout",
     "output_type": "stream",
     "text": [
      "{96, 97, 98, 99, 100, 101, 102, 103, 104, 105, 106, 107, 108, 109, 110, 111, 112, 113, 114, 115}\n",
      "Took: 2.5888819694519043\n",
      "{96, 97, 98, 99, 100, 101, 102, 103, 104, 105, 106, 107, 108, 109, 110, 111, 112, 113, 114, 115}\n"
     ]
    }
   ],
   "source": [
    "# Grab the terms that a congressman has served #SLOW!\n",
    "def getTerms(icpsr,chamber):\n",
    "    \n",
    "    terms = []\n",
    "    start = time.time()\n",
    "    # filter for member\n",
    "    rollRows = allVte[(allVte['icpsr'] == icpsr) & (allVte['chamber'] == chamber)]\n",
    "    terms = set(rollRows['congress'])\n",
    "    \n",
    "    '''\n",
    "    Testing\n",
    "    https://www.congress.gov/member/thad-cochran/C000567\n",
    "    Senate: 96th-115th (1979-2019); Senator Thad Cochran\n",
    "    \n",
    "    Function works!\n",
    "    \n",
    "    '''\n",
    "    #print('Took: %s'%(time.time()-start))\n",
    "    return terms\n",
    "\n",
    "print(getTerms(14009, 'Senate'))\n",
    "\n",
    "# Grab the terms that a congressman has served #SLOW!\n",
    "def getTermsFaster(icpsr,chamber):\n",
    "    \n",
    "    terms = []\n",
    "    start = time.time()\n",
    "    # filter for member\n",
    "    rollRows = allVte[(allVte.icpsr == icpsr) & (allVte.chamber == chamber)]\n",
    "    terms = set(rollRows['congress'])\n",
    "    \n",
    "    '''\n",
    "    Testing\n",
    "    https://www.congress.gov/member/thad-cochran/C000567\n",
    "    Senate: 96th-115th (1979-2019); Senator Thad Cochran\n",
    "    \n",
    "    Function works!\n",
    "    \n",
    "    '''\n",
    "    print('Took: %s'%(time.time()-start))\n",
    "    return terms\n",
    "\n",
    "print(getTermsFaster(14009, 'Senate'))\n"
   ]
  },
  {
   "cell_type": "code",
   "execution_count": null,
   "metadata": {},
   "outputs": [],
   "source": []
  },
  {
   "cell_type": "code",
   "execution_count": 9,
   "metadata": {},
   "outputs": [
    {
     "name": "stdout",
     "output_type": "stream",
     "text": [
      "Number of rolls: 50200\n",
      "Number of votes: 502\n",
      "100.0\n"
     ]
    },
    {
     "data": {
      "text/html": [
       "<div>\n",
       "<style scoped>\n",
       "    .dataframe tbody tr th:only-of-type {\n",
       "        vertical-align: middle;\n",
       "    }\n",
       "\n",
       "    .dataframe tbody tr th {\n",
       "        vertical-align: top;\n",
       "    }\n",
       "\n",
       "    .dataframe thead th {\n",
       "        text-align: right;\n",
       "    }\n",
       "</style>\n",
       "<table border=\"1\" class=\"dataframe\">\n",
       "  <thead>\n",
       "    <tr style=\"text-align: right;\">\n",
       "      <th></th>\n",
       "      <th>congress</th>\n",
       "      <th>chamber</th>\n",
       "      <th>rollnumber</th>\n",
       "      <th>icpsr</th>\n",
       "      <th>cast_code</th>\n",
       "    </tr>\n",
       "  </thead>\n",
       "  <tbody>\n",
       "    <tr>\n",
       "      <th>23816717</th>\n",
       "      <td>114</td>\n",
       "      <td>Senate</td>\n",
       "      <td>502</td>\n",
       "      <td>49308</td>\n",
       "      <td>6</td>\n",
       "    </tr>\n",
       "    <tr>\n",
       "      <th>23816718</th>\n",
       "      <td>114</td>\n",
       "      <td>Senate</td>\n",
       "      <td>502</td>\n",
       "      <td>49700</td>\n",
       "      <td>6</td>\n",
       "    </tr>\n",
       "    <tr>\n",
       "      <th>23816719</th>\n",
       "      <td>114</td>\n",
       "      <td>Senate</td>\n",
       "      <td>502</td>\n",
       "      <td>49703</td>\n",
       "      <td>1</td>\n",
       "    </tr>\n",
       "    <tr>\n",
       "      <th>23816720</th>\n",
       "      <td>114</td>\n",
       "      <td>Senate</td>\n",
       "      <td>502</td>\n",
       "      <td>49706</td>\n",
       "      <td>1</td>\n",
       "    </tr>\n",
       "    <tr>\n",
       "      <th>23816721</th>\n",
       "      <td>114</td>\n",
       "      <td>Senate</td>\n",
       "      <td>502</td>\n",
       "      <td>94659</td>\n",
       "      <td>6</td>\n",
       "    </tr>\n",
       "  </tbody>\n",
       "</table>\n",
       "</div>"
      ],
      "text/plain": [
       "          congress chamber  rollnumber  icpsr  cast_code\n",
       "23816717       114  Senate         502  49308          6\n",
       "23816718       114  Senate         502  49700          6\n",
       "23816719       114  Senate         502  49703          1\n",
       "23816720       114  Senate         502  49706          1\n",
       "23816721       114  Senate         502  94659          6"
      ]
     },
     "execution_count": 9,
     "metadata": {},
     "output_type": "execute_result"
    }
   ],
   "source": [
    "thresh = 114 # select only a particular range of congress from 1 to 155. ie. 100 = 1988\n",
    "vteSenThresh = vteSen[vteSen['congress']==thresh]\n",
    "\n",
    "# some basic stats of the votes we're looking at\n",
    "print('Number of rolls:', len(vteSenThresh))\n",
    "print('Number of votes:', len(set(vteSenThresh['rollnumber'])))\n",
    "print(len(vteSenThresh) / len(set(vteSenThresh['rollnumber'])))\n",
    "\n",
    "if 0:\n",
    "    print(len(vteSenThresh[vteSenThresh['rollnumber'] == 4]))\n",
    "    print(set(vteSenThresh['rollnumber']))\n",
    "    #vteSenThresh.tail()\n",
    "\n",
    "vteSenThresh.tail()"
   ]
  },
  {
   "cell_type": "code",
   "execution_count": 5,
   "metadata": {},
   "outputs": [
    {
     "name": "stdout",
     "output_type": "stream",
     "text": [
      "100 100 100\n"
     ]
    }
   ],
   "source": [
    "# determine how parties voted for each roll\n",
    "\n",
    "def get_party_votes(congress,roll):\n",
    "    \n",
    "    # select congress (from 1 to 155. ie. 100 = 1988)\n",
    "    vteSenThresh = vteSen[vteSen['congress'] == congress]\n",
    "    vteSenThresh_roll = vteSenThresh[vteSenThresh['rollnumber'] == roll] # filter for the current roll\n",
    "\n",
    "    allCasts = vteSenThresh_roll['cast_code'] # grab the votes\n",
    "    allParties = [getParty(memnum)[0] for memnum in vteSenThresh_roll['icpsr']]\n",
    "    allMems = vteSenThresh_roll['icpsr']\n",
    "    \n",
    "    return allCasts, allParties, allMems\n",
    "\n",
    "cst, pty, mem = get_party_votes(114,1)\n",
    "\n",
    "print(len(cst),len(pty), len(mem))\n",
    "\n"
   ]
  },
  {
   "cell_type": "code",
   "execution_count": null,
   "metadata": {},
   "outputs": [],
   "source": [
    "# grab some basic info about the range of votes and parties returned\n",
    "print(len(cst),len(pty))\n",
    "print(type(list(cst)),type(pty))\n",
    "print(set(cst))\n",
    "print(set(pty))\n",
    "\n",
    "if 0: # some more exploration of the data\n",
    "    cst.hist() # lot's of 1's 6's and 9's\n",
    "\n",
    "    pty = [_ for _ in pty if _ != 'N']\n",
    "    print(len(pty))\n",
    "    ptyS = pd.Series(pty)\n",
    "    ptyS.hist(bins=len(set(ptyS))) # 100 D, 200 R, 328 I\n",
    "\n",
    "    \n",
    "    Counter(ptyS) # how many of each party?\n",
    "    Counter(pty)"
   ]
  },
  {
   "cell_type": "code",
   "execution_count": 6,
   "metadata": {},
   "outputs": [
    {
     "data": {
      "text/plain": [
       "Counter({1: 31, 9: 3, 6: 66})"
      ]
     },
     "execution_count": 6,
     "metadata": {},
     "output_type": "execute_result"
    }
   ],
   "source": [
    "# now let's grab the parties votes (Just R and D and I for now)\n",
    "# this should be used on one roll only\n",
    "# 100 D, 200 R, 328 I\n",
    "\n",
    "def tabulateRollVotes(cst,pty,congress,roll, verbose=False):\n",
    "    \n",
    "    D_vtes = []\n",
    "    R_vtes = []\n",
    "    I_vtes = []\n",
    "    for c,p in zip(list(cst), pty):\n",
    "        if p == 100:\n",
    "            D_vtes.append(c)\n",
    "        elif p == 200:\n",
    "            R_vtes.append(c)\n",
    "        elif p == 328:\n",
    "            I_vtes.append(c)\n",
    "    \n",
    "    totals = Counter(D_vtes) + Counter(R_vtes) + Counter(I_vtes)\n",
    "    \n",
    "    if verbose:\n",
    "        print('For Congress:',congress, ' and Roll:', roll)\n",
    "        print('lengths:',(len(R_vtes)+len(D_vtes)+len(I_vtes)),len(cst),'(should be equal)')\n",
    "        print('D', Counter(D_vtes))\n",
    "        print('R', Counter(R_vtes))\n",
    "        print('I', Counter(I_vtes))\n",
    "        print('Totals:', totals)\n",
    "        \n",
    "    \n",
    "    # package it up\n",
    "    tabedVotes = {}\n",
    "    tabedVotes['congress'] = congress\n",
    "    tabedVotes['roll'] = roll\n",
    "    tabedVotes['totals'] = totals\n",
    "    tabedVotes['100'] = Counter(D_vtes)\n",
    "    tabedVotes['200'] = Counter(R_vtes)\n",
    "    tabedVotes['328'] = Counter(I_vtes)\n",
    "    \n",
    "    \n",
    "    return tabedVotes \n",
    "\n",
    "        \n",
    "\n",
    "\"\"\"\n",
    "testing: for roll 1 of the 114 congress:\n",
    "https://www.govtrack.us/congress/votes/114-2015/s1\n",
    "They got 31 - 66 rejected\n",
    "I got 31 - 66 with 3 abstains\n",
    "\n",
    "D Counter({1: 30, 6: 12, 9: 2})\n",
    "R Counter({6: 53, 9: 1})\n",
    "I Counter({1: 1, 6: 1})\n",
    "\n",
    "Hey it works (and the data seems correct)\n",
    "\"\"\"\n",
    "rollVotes = tabulateRollVotes(cst,pty,114,1)\n",
    "rollVotes['totals']"
   ]
  },
  {
   "cell_type": "code",
   "execution_count": 7,
   "metadata": {},
   "outputs": [
    {
     "data": {
      "text/html": [
       "<div>\n",
       "<style scoped>\n",
       "    .dataframe tbody tr th:only-of-type {\n",
       "        vertical-align: middle;\n",
       "    }\n",
       "\n",
       "    .dataframe tbody tr th {\n",
       "        vertical-align: top;\n",
       "    }\n",
       "\n",
       "    .dataframe thead th {\n",
       "        text-align: right;\n",
       "    }\n",
       "</style>\n",
       "<table border=\"1\" class=\"dataframe\">\n",
       "  <thead>\n",
       "    <tr style=\"text-align: right;\">\n",
       "      <th></th>\n",
       "      <th>congress</th>\n",
       "      <th>chamber</th>\n",
       "      <th>rollnumber</th>\n",
       "      <th>icpsr</th>\n",
       "      <th>cast_code</th>\n",
       "    </tr>\n",
       "  </thead>\n",
       "  <tbody>\n",
       "    <tr>\n",
       "      <th>23816717</th>\n",
       "      <td>114</td>\n",
       "      <td>Senate</td>\n",
       "      <td>502</td>\n",
       "      <td>49308</td>\n",
       "      <td>6</td>\n",
       "    </tr>\n",
       "    <tr>\n",
       "      <th>23816718</th>\n",
       "      <td>114</td>\n",
       "      <td>Senate</td>\n",
       "      <td>502</td>\n",
       "      <td>49700</td>\n",
       "      <td>6</td>\n",
       "    </tr>\n",
       "    <tr>\n",
       "      <th>23816719</th>\n",
       "      <td>114</td>\n",
       "      <td>Senate</td>\n",
       "      <td>502</td>\n",
       "      <td>49703</td>\n",
       "      <td>1</td>\n",
       "    </tr>\n",
       "    <tr>\n",
       "      <th>23816720</th>\n",
       "      <td>114</td>\n",
       "      <td>Senate</td>\n",
       "      <td>502</td>\n",
       "      <td>49706</td>\n",
       "      <td>1</td>\n",
       "    </tr>\n",
       "    <tr>\n",
       "      <th>23816721</th>\n",
       "      <td>114</td>\n",
       "      <td>Senate</td>\n",
       "      <td>502</td>\n",
       "      <td>94659</td>\n",
       "      <td>6</td>\n",
       "    </tr>\n",
       "  </tbody>\n",
       "</table>\n",
       "</div>"
      ],
      "text/plain": [
       "          congress chamber  rollnumber  icpsr  cast_code\n",
       "23816717       114  Senate         502  49308          6\n",
       "23816718       114  Senate         502  49700          6\n",
       "23816719       114  Senate         502  49703          1\n",
       "23816720       114  Senate         502  49706          1\n",
       "23816721       114  Senate         502  94659          6"
      ]
     },
     "execution_count": 7,
     "metadata": {},
     "output_type": "execute_result"
    }
   ],
   "source": [
    "# does a member vote with their party or against their party for a roll?\n",
    "# is this easier for yes votes vs no votes? \n",
    "# what about new members? Does this change anything? \n",
    "# -> I need to calculate how many 'new' members there are\n",
    "\n",
    "# what is the break down of votes for each member? \n",
    "# -> ie. is one member more likley to vote yes or no in general? \n",
    "\n",
    "# probability each member votes with party? \n",
    "\n",
    "# Science and politics are mixed... Very mixed...\n",
    "\n",
    "# if you vote with another party, are you more likley to vote with your party? \n",
    "\n",
    "vteSenThresh.tail()"
   ]
  },
  {
   "cell_type": "code",
   "execution_count": 53,
   "metadata": {},
   "outputs": [
    {
     "data": {
      "text/plain": [
       "8065"
      ]
     },
     "execution_count": 53,
     "metadata": {},
     "output_type": "execute_result"
    }
   ],
   "source": [
    "# Grab all of the votes for one member\n",
    "def grabAllMemVotes(ICPSR, data):\n",
    "    vteSenMem = vteSen[vteSen['icpsr']==ICPSR]\n",
    "    \n",
    "    # finish this \n",
    "    \n",
    "    \n",
    "    return list(vteSenMem.cast_code)\n",
    "\n",
    "memVotes = grabAllMemVotes(49308, ' ')\n",
    "len(memVotes)"
   ]
  },
  {
   "cell_type": "code",
   "execution_count": 55,
   "metadata": {},
   "outputs": [
    {
     "name": "stdout",
     "output_type": "stream",
     "text": [
      "100 of 9583\n",
      "200 of 9583\n",
      "300 of 9583\n",
      "400 of 9583\n",
      "500 of 9583\n",
      "600 of 9583\n",
      "700 of 9583\n",
      "800 of 9583\n",
      "900 of 9583\n",
      "1000 of 9583\n",
      "1100 of 9583\n",
      "1200 of 9583\n",
      "1300 of 9583\n",
      "1400 of 9583\n",
      "1500 of 9583\n",
      "1600 of 9583\n",
      "1700 of 9583\n",
      "1800 of 9583\n",
      "1900 of 9583\n",
      "2000 of 9583\n",
      "2100 of 9583\n",
      "2200 of 9583\n",
      "2300 of 9583\n",
      "2400 of 9583\n",
      "2500 of 9583\n",
      "2600 of 9583\n",
      "2700 of 9583\n",
      "2800 of 9583\n",
      "2900 of 9583\n",
      "3000 of 9583\n",
      "3100 of 9583\n",
      "3200 of 9583\n",
      "3300 of 9583\n",
      "3400 of 9583\n",
      "3500 of 9583\n",
      "3600 of 9583\n",
      "3700 of 9583\n",
      "3800 of 9583\n",
      "3900 of 9583\n",
      "4000 of 9583\n",
      "4100 of 9583\n",
      "4200 of 9583\n",
      "4300 of 9583\n",
      "4400 of 9583\n",
      "4500 of 9583\n",
      "4600 of 9583\n",
      "4700 of 9583\n",
      "4800 of 9583\n",
      "4900 of 9583\n",
      "5000 of 9583\n",
      "5100 of 9583\n",
      "5200 of 9583\n",
      "5300 of 9583\n",
      "5400 of 9583\n",
      "5500 of 9583\n",
      "5600 of 9583\n",
      "5700 of 9583\n",
      "5800 of 9583\n",
      "5900 of 9583\n",
      "6000 of 9583\n",
      "6100 of 9583\n",
      "6200 of 9583\n",
      "6300 of 9583\n",
      "6400 of 9583\n",
      "6500 of 9583\n",
      "6600 of 9583\n",
      "6700 of 9583\n",
      "6800 of 9583\n",
      "6900 of 9583\n",
      "7000 of 9583\n",
      "7100 of 9583\n",
      "7200 of 9583\n",
      "7300 of 9583\n",
      "7400 of 9583\n",
      "7500 of 9583\n",
      "7600 of 9583\n",
      "7700 of 9583\n",
      "7800 of 9583\n",
      "7900 of 9583\n",
      "8000 of 9583\n",
      "8100 of 9583\n",
      "8200 of 9583\n",
      "8300 of 9583\n",
      "8400 of 9583\n",
      "8500 of 9583\n",
      "8600 of 9583\n",
      "8700 of 9583\n",
      "8800 of 9583\n",
      "8900 of 9583\n",
      "9000 of 9583\n",
      "9100 of 9583\n",
      "9200 of 9583\n",
      "9300 of 9583\n",
      "9400 of 9583\n",
      "9500 of 9583\n"
     ]
    }
   ],
   "source": [
    "allMemVotes = {}\n",
    "\n",
    "numSen = len(memSen.icpsr)\n",
    "c = 0\n",
    "for mem in list(memSen.icpsr):\n",
    "    allMemVotes[mem] = grabAllMemVotes(mem, ' ')\n",
    "    c += 1\n",
    "    if c % 1000 == 0:\n",
    "        print(c, 'of', numSen)\n",
    "\n"
   ]
  },
  {
   "cell_type": "code",
   "execution_count": 59,
   "metadata": {},
   "outputs": [
    {
     "name": "stdout",
     "output_type": "stream",
     "text": [
      "Saved senate_member_votes.p\n"
     ]
    }
   ],
   "source": [
    "len(allMemVotes)\n",
    "# save it\n",
    "fName = \"senate_member_votes.p\"\n",
    "pthName = \"/home/wade/Documents/Datasets/congressDicts/\" + fName\n",
    "pickle.dump( allMemVotes, open( pthName, \"wb\" ) )\n",
    "print('Saved', str(fName))"
   ]
  },
  {
   "cell_type": "code",
   "execution_count": 12,
   "metadata": {},
   "outputs": [],
   "source": [
    "# lode in the data\n",
    "fName = \"senate_member_votes.p\"\n",
    "pthName = \"/home/wade/Documents/Datasets/congressDicts/\" + fName\n",
    "allMemVotes = pickle.load( open( pthName, \"rb\" ) )\n",
    "vte = allMemVotes[list(allMemVotes.keys())[0]]"
   ]
  },
  {
   "cell_type": "markdown",
   "metadata": {},
   "source": [
    "# Voteing Hot Hand? "
   ]
  },
  {
   "cell_type": "code",
   "execution_count": null,
   "metadata": {},
   "outputs": [],
   "source": [
    "# probability of a 1 following a 6 or vice versa\n",
    "# scramble votes"
   ]
  },
  {
   "cell_type": "code",
   "execution_count": 13,
   "metadata": {},
   "outputs": [
    {
     "data": {
      "text/plain": [
       "[<matplotlib.lines.Line2D at 0x7fb12be11400>]"
      ]
     },
     "execution_count": 13,
     "metadata": {},
     "output_type": "execute_result"
    },
    {
     "data": {
      "image/png": "[encoded data removed]",
      "text/plain": [
       "<Figure size 432x288 with 1 Axes>"
      ]
     },
     "metadata": {},
     "output_type": "display_data"
    }
   ],
   "source": [
    "plt.plot(vte)"
   ]
  },
  {
   "cell_type": "code",
   "execution_count": 40,
   "metadata": {},
   "outputs": [],
   "source": [
    "# permute the list\n",
    "randomLists = []\n",
    "for i in range(1000):\n",
    "    a = copy.deepcopy(vte) \n",
    "    random.shuffle(a)\n",
    "    randomLists.append(a)"
   ]
  },
  {
   "cell_type": "code",
   "execution_count": 41,
   "metadata": {},
   "outputs": [
    {
     "name": "stdout",
     "output_type": "stream",
     "text": [
      "1000\n"
     ]
    }
   ],
   "source": [
    "print(len(randomLists))\n"
   ]
  },
  {
   "cell_type": "code",
   "execution_count": 129,
   "metadata": {},
   "outputs": [],
   "source": [
    "\n",
    "l = [1,1,1,0,1,1,1,0,0,1,1,0,0,1,1,1,0,1,1,0,0,0,1,0,1,0,0,1,0,0,1,1,1,0,0,0,1]\n",
    "\n",
    "# probability of a a following two b? \n",
    "def countAafter2b(a,b,l):\n",
    "    c = 0\n",
    "    for i in range(2,len(l)-1):\n",
    "        if l[i-2] == b and l[i-1] == b and l[i] == a:\n",
    "            c += 1\n",
    "        return c\n",
    "    \n",
    "    \n",
    "def getPermutationCounts(a,b,l,n):\n",
    "    counts = []\n",
    "    for i in range(n):\n",
    "        random.shuffle(l)\n",
    "        counts.append(countAafter2b(a,b,l))\n",
    "    return counts\n",
    "\n",
    "def getStreaks(l):\n",
    "    streakList = []\n",
    "    tmpList = []\n",
    "    for i in l:\n",
    "        #print('ltl:', len(tmpList), tmpList)\n",
    "        if len(tmpList) == 0:\n",
    "            tmpList.append(i)\n",
    "        elif i == tmpList[len(tmpList)-1]:\n",
    "            tmpList.append(i)\n",
    "        elif i != tmpList[len(tmpList)-1]:\n",
    "            streakList.append(tmpList)\n",
    "            tmpList = [i]\n",
    "    streakList.append(tmpList)\n",
    "    \n",
    "    return len(streakList), streakList\n",
    "\n",
    "\n",
    "def getPermutationStreaks(l,n):\n",
    "    lengths = []\n",
    "    for i in range(n):\n",
    "        random.shuffle(l)\n",
    "        lens, sL = getStreaks(l)\n",
    "        lengths.append(lens)\n",
    "    return lengths\n"
   ]
  },
  {
   "cell_type": "code",
   "execution_count": 124,
   "metadata": {},
   "outputs": [
    {
     "name": "stdout",
     "output_type": "stream",
     "text": [
      "19\n",
      "[[1, 1, 1], [0], [1, 1, 1], [0, 0], [1, 1], [0, 0], [1, 1, 1], [0], [1, 1], [0, 0, 0], [1], [0], [1], [0, 0], [1], [0, 0], [1, 1, 1], [0, 0, 0], [1]]\n",
      "[1, 1, 1, 0, 1, 1, 1, 0, 0, 1, 1, 0, 0, 1, 1, 1, 0, 1, 1, 0, 0, 0, 1, 0, 1, 0, 0, 1, 0, 0, 1, 1, 1, 0, 0, 0, 1]\n",
      "0\n"
     ]
    },
    {
     "data": {
      "image/png": "[encoded data removed]",
      "text/plain": [
       "<Figure size 432x288 with 1 Axes>"
      ]
     },
     "metadata": {},
     "output_type": "display_data"
    },
    {
     "data": {
      "text/plain": [
       "Ttest_indResult(statistic=-12.044692892127703, pvalue=5.084895664253181e-13)"
      ]
     },
     "execution_count": 124,
     "metadata": {},
     "output_type": "execute_result"
    }
   ],
   "source": [
    "\n",
    "\n",
    "lsL, sL = getStreaks(l)\n",
    "print(len(sL))\n",
    "print(sL)\n",
    "print(l)\n",
    "\n",
    "realCount = countAafter2b(6,1,vte)\n",
    "print(realCount)\n",
    "\n",
    "counts = getPermutationCounts(6,1,vte,1000)\n",
    "plt.hist(counts)\n",
    "plt.show()\n",
    "\n",
    "a = [1,2,3,4,5,4,3,2,1,2,3,2,1,2,3,4]\n",
    "b = [9,8,7,8,7,6,7,8,7,6,7,8,7,6,6,7]\n",
    "stats.ttest_ind(a, b)\n",
    "\n",
    "stats.ttest_ind(a, b)"
   ]
  },
  {
   "cell_type": "code",
   "execution_count": 89,
   "metadata": {},
   "outputs": [
    {
     "data": {
      "text/plain": [
       "20.0"
      ]
     },
     "execution_count": 89,
     "metadata": {},
     "output_type": "execute_result"
    }
   ],
   "source": []
  },
  {
   "cell_type": "code",
   "execution_count": 133,
   "metadata": {},
   "outputs": [
    {
     "name": "stdout",
     "output_type": "stream",
     "text": [
      "100 of 1969\n",
      "200 of 1969\n",
      "300 of 1969\n",
      "400 of 1969\n",
      "500 of 1969\n",
      "600 of 1969\n",
      "700 of 1969\n",
      "800 of 1969\n",
      "900 of 1969\n",
      "1000 of 1969\n",
      "1100 of 1969\n",
      "1200 of 1969\n",
      "1300 of 1969\n",
      "1400 of 1969\n",
      "1500 of 1969\n",
      "1600 of 1969\n",
      "1700 of 1969\n",
      "1800 of 1969\n",
      "1900 of 1969\n",
      "Took 7921.821528911591\n"
     ]
    }
   ],
   "source": [
    "###### What about for all of the members? (SLOW)\n",
    "countsDict = {}\n",
    "start = time.time()\n",
    "numSen = len(allMemVotes.keys())\n",
    "c = 0\n",
    "for inc in range(len(allMemVotes.keys())):\n",
    "    member = list(allMemVotes.keys())[inc]\n",
    "    vte = allMemVotes[member]\n",
    "    n = 1000\n",
    "    \n",
    "    #a,b = 6,1\n",
    "    #realCount = countAafter2b(a,b,vte)\n",
    "    #print(realCount)\n",
    "    #permCounts = getPermutationCounts(a,b,vte,n)\n",
    "    lsL, sL = getStreaks(vte)\n",
    "    lensL = getPermutationStreaks(vte,n) # beware, tis slow\n",
    "    \n",
    "    countsDict[member] = {}\n",
    "    countsDict[member]['real'] = lsL\n",
    "    countsDict[member]['realStreaks'] = sL\n",
    "    countsDict[member]['perm'] = Counter(lensL)\n",
    "    countsDict[member]['meta'] = [n]\n",
    "    \n",
    "    c += 1\n",
    "    if c % 100 == 0: \n",
    "        print(c, 'of', numSen)\n",
    "print('Took %s'%(time.time() - start))\n",
    "\n",
    "# Lisa Goldberg's permutations\n",
    "#29s for 100; 4478s for 1969 (all) 661; 4461.9s for 116\n",
    "\n",
    "# way wolferwitz? run test\n",
    "#46.08s for 100; 7921.82s (all) TWO HOURS\n"
   ]
  },
  {
   "cell_type": "code",
   "execution_count": 136,
   "metadata": {},
   "outputs": [
    {
     "data": {
      "text/plain": [
       "2.200277777777778"
      ]
     },
     "execution_count": 136,
     "metadata": {},
     "output_type": "execute_result"
    }
   ],
   "source": []
  },
  {
   "cell_type": "code",
   "execution_count": 134,
   "metadata": {},
   "outputs": [
    {
     "name": "stdout",
     "output_type": "stream",
     "text": [
      "Saved all_senate_member_streak_counts.p\n"
     ]
    }
   ],
   "source": [
    "# save it\n",
    "fName = \"all_senate_member_streak_counts.p\"\n",
    "pthName = \"/home/wade/Documents/Datasets/congressDicts/\" + fName\n",
    "pickle.dump( countsDict, open( pthName, \"wb\" ) )\n",
    "print('Saved', str(fName))"
   ]
  },
  {
   "cell_type": "code",
   "execution_count": 100,
   "metadata": {},
   "outputs": [
    {
     "data": {
      "text/plain": [
       "Counter({0: 1825, 1: 129, None: 15})"
      ]
     },
     "execution_count": 100,
     "metadata": {},
     "output_type": "execute_result"
    }
   ],
   "source": [
    "# lets look at the data (permutations)\n",
    "# Let's collect the counts \n",
    "lenn = len(counts.keys())\n",
    "#lenn = 200\n",
    "realList = []\n",
    "for inc in range(lenn):\n",
    "    #print(counts[list(counts.keys())[inc]])\n",
    "    realList.append(counts[list(counts.keys())[inc]]['real'])\n",
    "    \n",
    "Counter(realList)\n",
    "\n",
    "lenn = len(countsDict.keys())\n",
    "#lenn = 200\n",
    "realList = []\n",
    "for inc in range(lenn):\n",
    "    #print(counts[list(counts.keys())[inc]])\n",
    "    realList.append(countsDict[list(countsDict.keys())[inc]]['real'])\n",
    "    \n",
    "Counter(realList)\n",
    "\n",
    "# counts of the number of consectutive votes \n",
    "# Senate 661HH all members: Counter({0: 1831, 1: 123, None: 15})\n",
    "# Senate 116HH all members: Counter({0: 1825, 1: 129, None: 15})"
   ]
  },
  {
   "cell_type": "code",
   "execution_count": null,
   "metadata": {},
   "outputs": [],
   "source": []
  },
  {
   "cell_type": "code",
   "execution_count": 138,
   "metadata": {},
   "outputs": [
    {
     "data": {
      "image/png": "[encoded data removed]",
      "text/plain": [
       "<Figure size 432x288 with 1 Axes>"
      ]
     },
     "metadata": {},
     "output_type": "display_data"
    }
   ],
   "source": [
    "# What about the streaks? \n",
    "lenn = len(countsDict.keys())\n",
    "#lenn = 200\n",
    "realList = []\n",
    "for inc in range(lenn):\n",
    "    #print(counts[list(counts.keys())[inc]])\n",
    "    realList.append(countsDict[list(countsDict.keys())[inc]]['real'])\n",
    "\n",
    "    \n",
    "# mean and SD from counter objects\n",
    "# https://stackoverflow.com/questions/33695220/calculate-mean-on-values-in-python-collections-counter\n",
    "    \n",
    "#Counter(realList)\n",
    "plt.hist(realList) # This is interesting? Naaa bc Number of votes. \n",
    "plt.show()\n"
   ]
  },
  {
   "cell_type": "code",
   "execution_count": null,
   "metadata": {},
   "outputs": [],
   "source": []
  },
  {
   "cell_type": "code",
   "execution_count": null,
   "metadata": {},
   "outputs": [],
   "source": []
  },
  {
   "cell_type": "code",
   "execution_count": null,
   "metadata": {},
   "outputs": [],
   "source": []
  },
  {
   "cell_type": "code",
   "execution_count": null,
   "metadata": {},
   "outputs": [],
   "source": []
  },
  {
   "cell_type": "code",
   "execution_count": null,
   "metadata": {},
   "outputs": [],
   "source": []
  },
  {
   "cell_type": "code",
   "execution_count": null,
   "metadata": {},
   "outputs": [],
   "source": []
  },
  {
   "cell_type": "code",
   "execution_count": 143,
   "metadata": {},
   "outputs": [
    {
     "ename": "KeyboardInterrupt",
     "evalue": "",
     "output_type": "error",
     "traceback": [
      "\u001b[0;31m---------------------------------------------------------------------------\u001b[0m",
      "\u001b[0;31mKeyboardInterrupt\u001b[0m                         Traceback (most recent call last)",
      "\u001b[0;32m<ipython-input-143-c894d6905242>\u001b[0m in \u001b[0;36m<module>\u001b[0;34m()\u001b[0m\n\u001b[1;32m     16\u001b[0m \u001b[0;34m\u001b[0m\u001b[0m\n\u001b[1;32m     17\u001b[0m \u001b[0;32mfor\u001b[0m \u001b[0mk\u001b[0m \u001b[0;32min\u001b[0m \u001b[0mrange\u001b[0m\u001b[0;34m(\u001b[0m\u001b[0mmax_iter\u001b[0m\u001b[0;34m)\u001b[0m\u001b[0;34m:\u001b[0m\u001b[0;34m\u001b[0m\u001b[0m\n\u001b[0;32m---> 18\u001b[0;31m     \u001b[0mZ\u001b[0m\u001b[0;34m[\u001b[0m\u001b[0mmask\u001b[0m\u001b[0;34m]\u001b[0m \u001b[0;34m=\u001b[0m \u001b[0mZ\u001b[0m\u001b[0;34m[\u001b[0m\u001b[0mmask\u001b[0m\u001b[0;34m]\u001b[0m \u001b[0;34m*\u001b[0m \u001b[0mZ\u001b[0m\u001b[0;34m[\u001b[0m\u001b[0mmask\u001b[0m\u001b[0;34m]\u001b[0m \u001b[0;34m+\u001b[0m \u001b[0mC\u001b[0m\u001b[0;34m[\u001b[0m\u001b[0mmask\u001b[0m\u001b[0;34m]\u001b[0m\u001b[0;34m\u001b[0m\u001b[0m\n\u001b[0m\u001b[1;32m     19\u001b[0m     \u001b[0mmask\u001b[0m\u001b[0;34m,\u001b[0m \u001b[0mold_mask\u001b[0m \u001b[0;34m=\u001b[0m \u001b[0mabs\u001b[0m\u001b[0;34m(\u001b[0m\u001b[0mZ\u001b[0m\u001b[0;34m)\u001b[0m \u001b[0;34m<\u001b[0m \u001b[0;36m2\u001b[0m\u001b[0;34m,\u001b[0m \u001b[0mmask\u001b[0m\u001b[0;34m\u001b[0m\u001b[0m\n\u001b[1;32m     20\u001b[0m     \u001b[0;31m#use XOR to detect the area which has changed\u001b[0m\u001b[0;34m\u001b[0m\u001b[0;34m\u001b[0m\u001b[0m\n",
      "\u001b[0;31mKeyboardInterrupt\u001b[0m: "
     ]
    }
   ],
   "source": [
    "\n",
    " \n",
    "\n",
    " "
   ]
  },
  {
   "cell_type": "code",
   "execution_count": null,
   "metadata": {},
   "outputs": [],
   "source": []
  },
  {
   "cell_type": "code",
   "execution_count": null,
   "metadata": {},
   "outputs": [],
   "source": []
  },
  {
   "cell_type": "code",
   "execution_count": null,
   "metadata": {
    "scrolled": true
   },
   "outputs": [],
   "source": [
    "###########################################################\n",
    "# compare the vote for one member to the votes of the party\n",
    "\n",
    "def compareMemVotes(ICPSR, congress, roll,verbose=False):\n",
    "    \n",
    "    # Grab the data\n",
    "    cst, pty, mem = get_party_votes(congress, roll)\n",
    "    rollVotes = tabulateRollVotes(cst,pty,congress, roll)\n",
    "    \n",
    "    memberParty = str(getParty(ICPSR)[0])\n",
    "    partyVotes = rollVotes[memberParty] # grab how the party voted for a roll and bill\n",
    "    memVoteRow = vteSenThresh[(vteSenThresh['congress']==congress) & (vteSenThresh['rollnumber']==roll) & (vteSenThresh['icpsr']==ICPSR)]\n",
    "    print(memVoteRow['cast_code'])\n",
    "    memVote = int(memVoteRow['cast_code'])\n",
    "    partyVote = max(partyVotes, key=partyVotes.get)\n",
    "    votePct = partyVotes[partyVote] / 100\n",
    "    \n",
    "    if verbose:\n",
    "        print('Member %s (%s) voted %s and the party %s voted %s (%s)' %(getName(ICPSR).pop(), ICPSR, memVote,memberParty,partyVote, votePct))\n",
    "    \n",
    "    # Pack it up\n",
    "    voteComp = {}\n",
    "    voteComp['congress'] = congress\n",
    "    voteComp['roll'] = roll\n",
    "    voteComp['icpsr'] = ICPSR\n",
    "    \n",
    "    '''\n",
    "    voteComp[''] = \n",
    "    voteComp[''] = \n",
    "    voteComp[''] = \n",
    "    '''\n",
    "    \n",
    "    \n",
    "    \n",
    "compareMemVotes(49308, 114, 2,verbose=True)\n",
    "compareMemVotes(49700, 114, 2,verbose=True)\n",
    "compareMemVotes(49703, 114, 2,verbose=True)\n",
    "compareMemVotes(49308, 113, 2,verbose=True)\n",
    "compareMemVotes(49700, 113, 2,verbose=True)\n",
    "compareMemVotes(49703, 113, 2,verbose=True)\n",
    "\n",
    "'''\n",
    "TESTING\n",
    "this checks out with https://www.govtrack.us/congress/votes/114-2015/s1\n",
    "for congress = 114 and roll = 1\n",
    "\n",
    "myOut: \n",
    "Member MURRAY, Patty (49308) voted 1 and the party 100 voted 1 (0.3)\n",
    "Member SESSIONS, Jefferson Beauregard III (Jeff) (49700) voted 6 and the party 200 voted 6 (0.53)\n",
    "Member COLLINS, Susan Margaret (49703) voted 6 and the party 200 voted 6 (0.53)\n",
    "\n",
    "'''"
   ]
  },
  {
   "cell_type": "markdown",
   "metadata": {},
   "source": [
    "# Build Dicts"
   ]
  },
  {
   "cell_type": "code",
   "execution_count": 33,
   "metadata": {},
   "outputs": [
    {
     "name": "stdout",
     "output_type": "stream",
     "text": [
      "Running 114 of 115\n",
      "10 20 30 40 50 60 70 80 90 100 Took 262.28012108802795\n",
      "Saved 114\n"
     ]
    }
   ],
   "source": [
    "\n",
    "# Grab the first term for each congressman (Pretty Slow)\n",
    "# Saves to pickle \n",
    "chamber = \"Senate\"\n",
    "maxCong = 115\n",
    "for cong in range(114,maxCong):\n",
    "    print('Running',str(cong), 'of', maxCong)\n",
    "    memTermsDict = {}\n",
    "    c = 0\n",
    "    start = time.time()\n",
    "    \n",
    "    fName = \"memTermsDict_\" + chamber + \"_\" + str(cong) + \".p\"\n",
    "    memTermsDict['fName'] = fName\n",
    "    for mem in grabMembers(cong,chamber):\n",
    "        terms = getTerms(mem, chamber)\n",
    "        memTermsDict[mem] = list(terms)\n",
    "        \n",
    "        c += 1\n",
    "        if c % 10 == 0:\n",
    "            print(c,end=\" \",flush=True)\n",
    "            \n",
    "    print('Took %s'%(time.time()-start))\n",
    "    \n",
    "    pthName = \"/home/wade/Documents/Datasets/congressDicts/\" + fName\n",
    "    pickle.dump( memTermsDict, open( pthName, \"wb\" ) )\n",
    "    print('Saved', str(cong))"
   ]
  },
  {
   "cell_type": "code",
   "execution_count": 35,
   "metadata": {},
   "outputs": [],
   "source": [
    "# Load in the pickle memTermsDicts\n",
    "memTermsDicts = {}\n",
    "chamber = \"Senate\"\n",
    "for cong in range(105,115):\n",
    "    fName = \"memTermsDict_\" + chamber + \"_\" + str(cong) + \".p\"\n",
    "    pthName = \"/home/wade/Documents/Datasets/congressDicts/\" + fName\n",
    "    memTermsDicts[cong] = pickle.load( open( pthName, \"rb\" ) )\n",
    "\n",
    "# Testing\n",
    "for cong in range(105,115):\n",
    "    print(len(memTermsDicts[cong]), end=\" \")"
   ]
  },
  {
   "cell_type": "code",
   "execution_count": 38,
   "metadata": {},
   "outputs": [
    {
     "name": "stdout",
     "output_type": "stream",
     "text": [
      "101 103 103 101 102 103 112 103 106 101 "
     ]
    }
   ],
   "source": []
  },
  {
   "cell_type": "code",
   "execution_count": 25,
   "metadata": {},
   "outputs": [],
   "source": [
    "# Build roll dicts\n",
    "# Name "
   ]
  },
  {
   "cell_type": "code",
   "execution_count": null,
   "metadata": {},
   "outputs": [],
   "source": []
  },
  {
   "cell_type": "code",
   "execution_count": null,
   "metadata": {},
   "outputs": [],
   "source": []
  },
  {
   "cell_type": "code",
   "execution_count": null,
   "metadata": {},
   "outputs": [],
   "source": []
  },
  {
   "cell_type": "code",
   "execution_count": null,
   "metadata": {},
   "outputs": [],
   "source": []
  },
  {
   "cell_type": "code",
   "execution_count": null,
   "metadata": {},
   "outputs": [],
   "source": []
  },
  {
   "cell_type": "code",
   "execution_count": null,
   "metadata": {},
   "outputs": [],
   "source": []
  },
  {
   "cell_type": "code",
   "execution_count": null,
   "metadata": {},
   "outputs": [],
   "source": []
  },
  {
   "cell_type": "code",
   "execution_count": null,
   "metadata": {},
   "outputs": [],
   "source": []
  },
  {
   "cell_type": "markdown",
   "metadata": {},
   "source": [
    "# Some Data Analysis"
   ]
  },
  {
   "cell_type": "code",
   "execution_count": 48,
   "metadata": {},
   "outputs": [
    {
     "name": "stdout",
     "output_type": "stream",
     "text": [
      "Average Number of senate votes 342.7658414221834\n"
     ]
    },
    {
     "data": {
      "text/plain": [
       "<matplotlib.axes._subplots.AxesSubplot at 0x7ff745047dd8>"
      ]
     },
     "execution_count": 48,
     "metadata": {},
     "output_type": "execute_result"
    },
    {
     "data": {
      "image/png": "[encoded data removed]",
      "text/plain": [
       "<Figure size 432x288 with 1 Axes>"
      ]
     },
     "metadata": {},
     "output_type": "display_data"
    }
   ],
   "source": [
    "# What is the dist for num votes per member? (Senate)\n",
    "\n",
    "print('Average Number of senate votes',(sum(memSen.number_of_votes.dropna())/len(memSen.number_of_votes.dropna())))\n",
    "memSen.number_of_votes.hist()"
   ]
  },
  {
   "cell_type": "code",
   "execution_count": null,
   "metadata": {},
   "outputs": [],
   "source": []
  },
  {
   "cell_type": "code",
   "execution_count": null,
   "metadata": {},
   "outputs": [],
   "source": []
  },
  {
   "cell_type": "code",
   "execution_count": null,
   "metadata": {},
   "outputs": [],
   "source": []
  },
  {
   "cell_type": "code",
   "execution_count": null,
   "metadata": {},
   "outputs": [],
   "source": []
  },
  {
   "cell_type": "markdown",
   "metadata": {},
   "source": [
    "# Networks!"
   ]
  },
  {
   "cell_type": "code",
   "execution_count": null,
   "metadata": {},
   "outputs": [],
   "source": [
    "# takes a congress network and builds colormap of\n",
    "# the party affiliations\n",
    "def buildCMap(G):\n",
    "   \n",
    "    # 100 D, 200 R, 328 I\n",
    "    netPty = [getParty(n)[0] for n in G]\n",
    "\n",
    "    cm = []\n",
    "    for p in netPty:\n",
    "        if p == 100:\n",
    "            cm.append('blue')\n",
    "        elif p == 200:\n",
    "            cm.append('red')\n",
    "        elif p == 328:\n",
    "            cm.append('green')\n",
    "        else:\n",
    "            cm.append('yellow')\n",
    "    return cm"
   ]
  },
  {
   "cell_type": "code",
   "execution_count": null,
   "metadata": {},
   "outputs": [],
   "source": [
    "\n"
   ]
  },
  {
   "cell_type": "code",
   "execution_count": null,
   "metadata": {},
   "outputs": [],
   "source": [
    "# Let's look at the graph\n",
    "nx.draw(G,pos=nx.spring_layout(G))\n",
    "#nx.draw_networkx_labels(G,pos=nx.spring_layout(G))"
   ]
  },
  {
   "cell_type": "code",
   "execution_count": null,
   "metadata": {},
   "outputs": [],
   "source": [
    "vteSenThresh.head()"
   ]
  },
  {
   "cell_type": "code",
   "execution_count": null,
   "metadata": {},
   "outputs": [],
   "source": [
    "# Let's make a voteing graph\n",
    "G = nx.Graph()\n",
    "\n",
    "# grab voting data for a roll\n",
    "cst, pty, mem = get_party_votes(114,1)\n",
    "\n",
    "# for a roll, see which members voted alike\n",
    "for i_m,i_c in zip(mem, cst):\n",
    "    for j_m,j_c in zip(mem, cst):\n",
    "        #print(i_m, i_c, j_m, j_c)\n",
    "        if i_c == j_c:\n",
    "            G.add_edge(i_m, j_m)\n",
    "\n",
    "# Let's look at the graph\n",
    "nx.draw(G,pos=nx.circular_layout(G),node_color=cm,with_labels=False)\n",
    "#nx.draw_networkx_labels(G,pos=nx.spring_layout(G))"
   ]
  },
  {
   "cell_type": "code",
   "execution_count": null,
   "metadata": {},
   "outputs": [],
   "source": []
  },
  {
   "cell_type": "code",
   "execution_count": null,
   "metadata": {},
   "outputs": [],
   "source": []
  },
  {
   "cell_type": "code",
   "execution_count": null,
   "metadata": {},
   "outputs": [],
   "source": []
  },
  {
   "cell_type": "code",
   "execution_count": null,
   "metadata": {},
   "outputs": [],
   "source": []
  },
  {
   "cell_type": "code",
   "execution_count": null,
   "metadata": {},
   "outputs": [],
   "source": []
  },
  {
   "cell_type": "code",
   "execution_count": null,
   "metadata": {},
   "outputs": [],
   "source": [
    "# OLD STUFF"
   ]
  },
  {
   "cell_type": "code",
   "execution_count": null,
   "metadata": {},
   "outputs": [],
   "source": [
    "# how do the party affiliations change over time? (Senate)\n",
    "# very slow... \n",
    "\n",
    "thresh = 100 # select only a particular range of congress from 1 to 155. ie. 100 = 1988\n",
    "vteSenThresh = vteSen[vteSen['congress']>=thresh]\n",
    "\n",
    "\n",
    "ptyCnts = []\n",
    "ptyBuff = []\n",
    "currentCong = thresh\n",
    "start = time.time()\n",
    "print('Start...')\n",
    "for index, row in vteSenThresh.iterrows():\n",
    "    \n",
    "    if index % 100000 == 0:\n",
    "        print(int(row['congress']),currentCong)\n",
    "    \n",
    "    if int(row['congress']) != currentCong:\n",
    "        print(currentCong,end=\" \")\n",
    "        currentCong = int(row['congress'])\n",
    "        numPty = len(set(ptyBuff))\n",
    "        #print(numPty)\n",
    "        ptyCnts.append(numPty)\n",
    "        ptyBuff = []\n",
    "    \n",
    "    isp = int(row['icpsr'])\n",
    "    pty = getParty(isp)\n",
    "    ptyBuff.append(pty[0])\n",
    "\n",
    "    \n",
    "    \n",
    "    \n",
    "    \n"
   ]
  },
  {
   "cell_type": "code",
   "execution_count": null,
   "metadata": {},
   "outputs": [],
   "source": [
    "print(len(set(vteSen['congress'])))\n",
    "\n",
    "ptyCnts\n",
    "vteSenThresh = vteSen[vteSen['congress']>=thresh]\n",
    "\n",
    "len(vteSenThresh)\n"
   ]
  },
  {
   "cell_type": "code",
   "execution_count": null,
   "metadata": {},
   "outputs": [],
   "source": [
    "print('Num party Counts', ptyCnts)\n",
    "\n",
    "if 1:\n",
    "    plt.plot(ptyCnts)\n",
    "    plt.title('Number of parties over time')\n",
    "    plt.show()\n",
    "    "
   ]
  },
  {
   "cell_type": "code",
   "execution_count": null,
   "metadata": {},
   "outputs": [],
   "source": [
    "c1 = roll[roll['congress'] == 3]\n",
    "max(c1['rollnumber'])\n",
    "\n",
    "# collect max roll number for each congress\n",
    "maxRolls = {}\n",
    "for i in range(1, max(roll['congress'])):\n",
    "    c = roll[roll['congress'] == i]\n",
    "    maxRolls[i] = max(c['rollnumber'])\n",
    "\n",
    "        "
   ]
  },
  {
   "cell_type": "code",
   "execution_count": null,
   "metadata": {},
   "outputs": [],
   "source": [
    "x, y = zip(*maxRolls.items())\n",
    "if 1:\n",
    "    plt.plot(x,y)\n",
    "    plt.title('Number of rolls per congress')\n",
    "    plt.show()"
   ]
  },
  {
   "cell_type": "code",
   "execution_count": null,
   "metadata": {},
   "outputs": [],
   "source": [
    "import RollCodes\n",
    "rc = RollCodes.rollCodes # grab the data"
   ]
  },
  {
   "cell_type": "code",
   "execution_count": null,
   "metadata": {},
   "outputs": [],
   "source": [
    "# calculate the yay nay ratio for n congress\n",
    "import time\n",
    "\n",
    "thresh = 75\n",
    "df = roll[roll['congress'] > thresh]\n",
    "\n",
    "start = time.time()\n",
    "ynRat = []\n",
    "\n",
    "compMin = (((max(df['congress'])-thresh) / 10) * 99) / 60\n",
    "print('Thinking... (est time', compMin, ') minutes')\n",
    "for i in range(min(df['congress']),max(df['congress'])):\n",
    "    c = df[df['congress'] == i]\n",
    "\n",
    "    yay,nay = 0,0\n",
    "    for index, row in c.iterrows():\n",
    "        if row['cast_code'] == 1:\n",
    "            yay += 1\n",
    "        elif row['cast_code'] == 6:\n",
    "            nay += 1\n",
    "            \n",
    "    ynRat.append(yay/nay)\n",
    "    \n",
    "print('Took:', time.time()-start, 'seconds to run', max(df['congress']))\n",
    "# takes 99 seconds to run 10\n",
    "#       252               41 "
   ]
  },
  {
   "cell_type": "code",
   "execution_count": null,
   "metadata": {},
   "outputs": [],
   "source": [
    "if 1:\n",
    "    plt.plot(range(min(df['congress']),max(df['congress'])),ynRat)\n",
    "    plt.title('yay/nay ratio per congress')\n",
    "    plt.xlabel('Congress')\n",
    "    plt.ylabel('ratio')\n",
    "    plt.show()\n",
    "\n"
   ]
  },
  {
   "cell_type": "code",
   "execution_count": null,
   "metadata": {},
   "outputs": [],
   "source": [
    "# Let's grab the names and parties\n",
    "npty = pd.read_csv('data/ICPS.csv')\n",
    "print(npty.head())\n",
    "len(npty['icps'])"
   ]
  },
  {
   "cell_type": "code",
   "execution_count": null,
   "metadata": {},
   "outputs": [],
   "source": [
    "# let's build some useful functions\n",
    "\n",
    "def get_name(ipr):\n",
    "    idx = npty[npty['icps'] == ipr].index.tolist()\n",
    "    nms = [npty.loc[id_,'name'] for id_ in idx]\n",
    "    return nms \n",
    "\n",
    "def get_party(ipr):\n",
    "    idx = npty[npty['icps'] == str(ipr)].index.tolist()\n",
    "    ptys = [npty.loc[id_,'party'] for id_ in idx]\n",
    "    #ptys = [int(pt) for pt in ptys]\n",
    "    \n",
    "    ptys_ = []\n",
    "    for p in ptys:\n",
    "        if '*' in p: # deal with *\n",
    "            ptys_.append(int(p[2:len(p)]))\n",
    "        else:\n",
    "            ptys_.append(int(p))\n",
    "    return ptys_\n",
    "    \n",
    "# 1536\n",
    "\n",
    "npty.loc[4,'state']\n",
    "\n",
    "npty.loc[38,'name']\n",
    "print(get_party(99911))\n",
    "print(get_name(99911))\n",
    "\n",
    "npty['icps'] == 99911\n",
    "\n",
    "# 9094\n",
    "npty.loc[9093,'icps']\n",
    "\n",
    "len(npty[npty['icps'] == '99911'])\n",
    "print(get_party(21166))"
   ]
  },
  {
   "cell_type": "code",
   "execution_count": null,
   "metadata": {},
   "outputs": [],
   "source": [
    "# Let's find how one person votes over time\n",
    "\n",
    "thresh = 110 \n",
    "df = roll[roll['congress'] > thresh]\n",
    "df.head()\n",
    "\n",
    "# grab the votes for the member\n",
    "memb = 1366\n",
    "votes = [] #todo dict?\n",
    "start = time.time()\n",
    "for index, row in df.iterrows():\n",
    "    if row['icpsr'] == memb:\n",
    "        votes.append(row['cast_code'])\n",
    "\n",
    "print('Number of votes for %f: %f' %(memb, len(votes)))\n",
    "\n",
    "print('took', (time.time() - start))\n",
    "\n",
    "plt.plot(votes)\n",
    "plt.show()\n",
    "\n",
    "\n"
   ]
  },
  {
   "cell_type": "code",
   "execution_count": null,
   "metadata": {},
   "outputs": [],
   "source": [
    "tst = df.head()\n",
    "tst = tst.copy(deep=True)\n",
    "\n",
    "tst['party'] = [1,0,0,1,1]\n",
    "\n",
    "# add party to data\n",
    "\n",
    "# make the party column\n",
    "partys = []\n",
    "for index, row in tst.iterrows():\n",
    "    ptys = get_party(row['icpsr'])\n",
    "    print(row['icpsr'], ptys)\n",
    "    \n",
    "    # there isn't a party\n",
    "    if len(ptys) == 0:\n",
    "        ptys = [999]\n",
    "        \n",
    "    partys.append(ptys[0])"
   ]
  },
  {
   "cell_type": "code",
   "execution_count": null,
   "metadata": {},
   "outputs": [],
   "source": [
    "# how impoverished is my party data?\n",
    "thresh = 110 \n",
    "df = roll[roll['congress'] > thresh]\n",
    "\n",
    "# grab unique icpsr's\n",
    "members = df['icpsr'].unique()\n",
    "\n",
    "pty = []\n",
    "for mem in members:\n",
    "    ptys = get_party(mem)\n",
    "    \n",
    "    if len(ptys) > 0:\n",
    "        pty.append(ptys[0])\n",
    "    #else:\n",
    "        #print(mem)\n",
    "        \n",
    "print(len(pty),len(members))\n",
    "print('took', (time.time() - start))\n",
    " \n",
    "        \n",
    "        "
   ]
  },
  {
   "cell_type": "code",
   "execution_count": null,
   "metadata": {},
   "outputs": [],
   "source": []
  },
  {
   "cell_type": "code",
   "execution_count": null,
   "metadata": {},
   "outputs": [],
   "source": []
  },
  {
   "cell_type": "code",
   "execution_count": null,
   "metadata": {},
   "outputs": [],
   "source": []
  },
  {
   "cell_type": "code",
   "execution_count": null,
   "metadata": {},
   "outputs": [],
   "source": []
  },
  {
   "cell_type": "code",
   "execution_count": 144,
   "metadata": {},
   "outputs": [
    {
     "data": {
      "text/plain": [
       "<matplotlib.image.AxesImage at 0x7fb0b904b0b8>"
      ]
     },
     "execution_count": 144,
     "metadata": {},
     "output_type": "execute_result"
    },
    {
     "data": {
      "image/png": "[encoded data removed]",
      "text/plain": [
       "<Figure size 432x288 with 1 Axes>"
      ]
     },
     "metadata": {},
     "output_type": "display_data"
    }
   ],
   "source": [
    "npts = 300\n",
    "max_iter = 100\n",
    " \n",
    "X = np.linspace(-2, 1, 2 * npts)\n",
    "Y = np.linspace(-1, 1, npts)\n",
    " \n",
    "#broadcast X to a square array\n",
    "C = X[:, None] + 1J * Y\n",
    "#initial value is always zero\n",
    "Z = np.zeros_like(C)\n",
    " \n",
    "exit_times = max_iter * np.ones(C.shape, np.int32)\n",
    "mask = exit_times > 0\n",
    " \n",
    "for k in range(max_iter):\n",
    "    Z[mask] = Z[mask] * Z[mask] + C[mask]\n",
    "    mask, old_mask = abs(Z) < 2, mask\n",
    "    #use XOR to detect the area which has changed \n",
    "    exit_times[mask ^ old_mask] = k\n",
    " \n",
    "plt.imshow(exit_times.T,\n",
    "           cmap=plt.cm.prism,\n",
    "           extent=(X.min(), X.max(), Y.min(), Y.max()))"
   ]
  },
  {
   "cell_type": "code",
   "execution_count": null,
   "metadata": {},
   "outputs": [],
   "source": [
    "# \n",
    "\n",
    "\n",
    "\n",
    "# are you more likely to see a yay after seeing a nay? Vice versa"
   ]
  }
 ],
 "metadata": {
  "kernelspec": {
   "display_name": "Python 3",
   "language": "python",
   "name": "python3"
  },
  "language_info": {
   "codemirror_mode": {
    "name": "ipython",
    "version": 3
   },
   "file_extension": ".py",
   "mimetype": "text/x-python",
   "name": "python",
   "nbconvert_exporter": "python",
   "pygments_lexer": "ipython3",
   "version": "3.6.5"
  }
 },
 "nbformat": 4,
 "nbformat_minor": 2
}
