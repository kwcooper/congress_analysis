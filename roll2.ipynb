{
 "cells": [
  {
   "cell_type": "code",
   "execution_count": 79,
   "metadata": {},
   "outputs": [
    {
     "name": "stdout",
     "output_type": "stream",
     "text": [
      "finished importing data\n"
     ]
    }
   ],
   "source": [
    "import pandas as pd \n",
    "import matplotlib.pyplot as plt\n",
    "import numpy as np\n",
    "import networkx as nx\n",
    "from collections import Counter\n",
    "import time\n",
    "\n",
    "print('importing data...')\n",
    "if 1: # linux\n",
    "    allMem = pd.read_csv('/home/wade/Documents/Datasets/congressional-voting-records/HSall_members.csv')\n",
    "    allPty = pd.read_csv('/home/wade/Documents/Datasets/congressional-voting-records/HSall_parties.csv')\n",
    "    allRol = pd.read_csv('/home/wade/Documents/Datasets/congressional-voting-records/HSall_rollcalls.csv',low_memory=False)\n",
    "    allVte = pd.read_csv('/home/wade/Documents/Datasets/congressional-voting-records/HSall_votes.csv')\n",
    "    cast_codes = pd.read_csv('/home/wade/codingCoop/congress/data/cast_codes.csv')\n",
    "    \n",
    "if 0: # unix\n",
    "    allMem = pd.read_csv('/Volumes/NO NAME/congressional-voting-records/HSall_members.csv')\n",
    "    allPty = pd.read_csv('/Volumes/NO NAME/congressional-voting-records/HSall_parties.csv')\n",
    "    allRol = pd.read_csv('/Volumes/NO NAME/congressional-voting-records/HSall_rollcalls.csv',low_memory=False)\n",
    "    allVte = pd.read_csv('/Volumes/NO NAME/congressional-voting-records/HSall_votes.csv')\n",
    "\n",
    "\n",
    "\n",
    "#print(allMem.head())\n",
    "#print(allPty.head())\n",
    "print('done.')"
   ]
  },
  {
   "cell_type": "raw",
   "metadata": {},
   "source": []
  },
  {
   "cell_type": "code",
   "execution_count": 7,
   "metadata": {},
   "outputs": [
    {
     "name": "stdout",
     "output_type": "stream",
     "text": [
      "number of members: 48804\n",
      "number of parties: 819\n",
      "number of Rolls: 105254\n",
      "number of Votes: 24023858\n",
      "   congress chamber  rollnumber  icpsr  cast_code\n",
      "0         1   House           1    154          6\n",
      "1         1   House           1    259          9\n",
      "2         1   House           1    379          1\n",
      "3         1   House           1    649          1\n",
      "4         1   House           1    786          1\n",
      "NXT:\n",
      "   congress    chamber  icpsr  state_icpsr  district_code state_abbrev  \\\n",
      "0         1  President  99869           99              0          USA   \n",
      "1         1      House   4766            1             98           CT   \n",
      "2         1      House   8457            1             98           CT   \n",
      "3         1      House   9062            1             98           CT   \n",
      "4         1      House   9489            1             98           CT   \n",
      "\n",
      "   party_code  occupancy  last_means                  bioname bioguide_id  \\\n",
      "0        5000        NaN         NaN       WASHINGTON, George         NaN   \n",
      "1        5000        0.0         1.0     HUNTINGTON, Benjamin     H000995   \n",
      "2        5000        0.0         1.0           SHERMAN, Roger     S000349   \n",
      "3        5000        0.0         1.0        STURGES, Jonathan     S001047   \n",
      "4        5000        0.0         1.0  TRUMBULL, Jonathan, Jr.     T000389   \n",
      "\n",
      "     born    died   dim1   dim2  log_likelihood  geo_mean_probability  \\\n",
      "0     NaN     NaN    NaN    NaN             NaN                   NaN   \n",
      "1  1736.0  1800.0  0.639  0.304       -29.04670                 0.708   \n",
      "2  1721.0  1793.0  0.589  0.307       -40.59580                 0.684   \n",
      "3  1740.0  1819.0  0.531  0.448       -25.87361                 0.724   \n",
      "4  1740.0  1809.0  0.692  0.246       -30.47113                 0.750   \n",
      "\n",
      "   number_of_votes  number_of_errors  conditional  \n",
      "0              NaN               NaN          NaN  \n",
      "1             84.0              12.0          NaN  \n",
      "2            107.0              18.0          NaN  \n",
      "3             80.0              13.0          NaN  \n",
      "4            106.0              11.0          NaN  \n",
      "NXT:\n",
      "   congress chamber  rollnumber        date  session  clerk_rollnumber  mid_1  \\\n",
      "0         1   House           1  1789-05-16      NaN               NaN  0.229   \n",
      "1         1   House           2  1789-05-22      NaN               NaN -0.090   \n",
      "2         1   House           3  1789-06-22      NaN               NaN -0.176   \n",
      "3         1   House           4  1789-06-22      NaN               NaN  0.081   \n",
      "4         1   House           5  1789-06-24      NaN               NaN -0.168   \n",
      "\n",
      "   mid_2  spread_1  spread_2  log_likelihood bill_number vote_result  \\\n",
      "0 -0.378     0.229    -0.378         -13.144         HR2         NaN   \n",
      "1  1.791    -0.090     1.791          -1.900         NaN         NaN   \n",
      "2  0.922    -0.176     0.922         -22.048         HR8         NaN   \n",
      "3 -0.327     0.081    -0.327         -30.355         HR8         NaN   \n",
      "4  0.984    -0.168     0.984         -22.221         HR8         NaN   \n",
      "\n",
      "  vote_desc vote_question                                           dtl_desc  \n",
      "0       NaN           NaN  TO AMEND H.R. 2, (1 STAT. 24, APP. 7-4-1789), ...  \n",
      "1       NaN           NaN  TO PASS THE RESOLUTION THAT IT APPEARS TO THIS...  \n",
      "2       NaN           NaN  TO AMEND H.R. 8, (1 STAT. 28, APP. 7-27-1789),...  \n",
      "3       NaN           NaN  TO AMEND H.R. 8, SO AS TO ELIMINATE THE PRESID...  \n",
      "4       NaN           NaN                                    TO PASS H.R. 8.  \n",
      "NXT:\n",
      "   cast_code                                              title\n",
      "0          0  Not a member of the chamber when this vote was...\n",
      "1          1                                                Yea\n",
      "2          2                                         Paired Yea\n",
      "3          3                                      Announced Yea\n",
      "4          4                                      Announced Nay\n"
     ]
    }
   ],
   "source": [
    "print('number of members:',len(allMem['congress']))\n",
    "print('number of parties:',len(allPty['congress']))\n",
    "print('number of Rolls:', len(allRol['congress']))\n",
    "print('number of Votes:', len(allVte['congress']))\n",
    "\n",
    "print(allVte.head())\n",
    "print('NXT:')\n",
    "print(allMem.head())\n",
    "print('NXT:')\n",
    "print(allRol.head())\n",
    "print('NXT:')\n",
    "print(cast_codes.head())"
   ]
  },
  {
   "cell_type": "code",
   "execution_count": 8,
   "metadata": {},
   "outputs": [
    {
     "name": "stdout",
     "output_type": "stream",
     "text": [
      "4181474 24023858\n",
      "Number of senate members: 9583\n",
      "Number of ISPSR: 1972\n",
      "Number of ISPSR: 1969\n"
     ]
    },
    {
     "data": {
      "text/plain": [
       "'\\nSince the U.S. Congress convened on March 4, 1789, 12,343 individuals \\nhave served as Representatives, Senators, or in both capacities. There \\nhave been 10,360 Members who served only as Representatives, 1,305 \\nMembers who served only in the Senate, and 677 Members with service \\nin both chambers.\\n'"
      ]
     },
     "execution_count": 8,
     "metadata": {},
     "output_type": "execute_result"
    }
   ],
   "source": [
    "# just grab the senate\n",
    "vteSen = allVte[allVte['chamber']=='Senate']\n",
    "#print(vteSen.head())\n",
    "print(len(vteSen), len(allVte))\n",
    "\n",
    "memSen = allMem[allMem['chamber']=='Senate']\n",
    "print('Number of senate members:', len(memSen))\n",
    "#memSen = [print(m) for m in memSen]\n",
    "#print(len(np.unique(memSen)))\n",
    "#print(memSen.head())\n",
    "\n",
    "# grab their icpsr\n",
    "allIsp = set(vteSen['icpsr'])\n",
    "print('Number of ISPSR:',len(allIsp))\n",
    "\n",
    "\n",
    "# grab senate members\n",
    "memIsp = set(memSen['icpsr'])\n",
    "print('Number of ISPSR:', len(memIsp))\n",
    "\n",
    "# These seem about right...\n",
    "'''\n",
    "Since the U.S. Congress convened on March 4, 1789, 12,343 individuals \n",
    "have served as Representatives, Senators, or in both capacities. There \n",
    "have been 10,360 Members who served only as Representatives, 1,305 \n",
    "Members who served only in the Senate, and 677 Members with service \n",
    "in both chambers.\n",
    "'''\n"
   ]
  },
  {
   "cell_type": "code",
   "execution_count": 9,
   "metadata": {},
   "outputs": [
    {
     "name": "stdout",
     "output_type": "stream",
     "text": [
      "[99901, 99902, 99903, 99904, 99905, 99906, 99907, 99908, 99909, 99910, 99911]\n"
     ]
    }
   ],
   "source": [
    "# Which people am I missing?\n",
    "missIsp = [i for i in allIsp if i not in memIsp]\n",
    "print(missIsp)\n",
    "a = 2307\n",
    "\n",
    "#df.loc[df['column_name'] == some_value]"
   ]
  },
  {
   "cell_type": "code",
   "execution_count": 78,
   "metadata": {},
   "outputs": [
    {
     "name": "stdout",
     "output_type": "stream",
     "text": [
      "        congress chamber  rollnumber        date  session  clerk_rollnumber  \\\n",
      "104130       114  Senate           3  2015-01-12      1.0               3.0   \n",
      "\n",
      "        mid_1  mid_2  spread_1  spread_2  log_likelihood bill_number  \\\n",
      "104130 -0.336 -0.459    -0.336    -0.459         -12.217          S1   \n",
      "\n",
      "                                       vote_result vote_desc vote_question  \\\n",
      "104130  Cloture on the Motion to Proceed Agreed to       NaN           NaN   \n",
      "\n",
      "       dtl_desc  \n",
      "104130      NaN  \n",
      "4    Announced Nay\n",
      "Name: title, dtype: object\n",
      "{'COCHRAN, William Thad'}\n",
      "{96, 97, 98, 99, 100, 101, 102, 103, 104, 105, 106, 107, 108, 109, 110, 111, 112, 113, 114, 115}\n"
     ]
    }
   ],
   "source": [
    "\n",
    "# grab info for a vote\n",
    "# congress chamber  rollnumber\n",
    "# TODO: fix the output of this guy\n",
    "def getVoteInfo(cong, cham, rollNum):\n",
    "    q = \"congress == %s and chamber == %s and rollnumber == %s\" % (cong, cham, rollNum)\n",
    "    out = allRol.query(q)\n",
    "    return out\n",
    "\n",
    "print(getVoteInfo(114,\"'Senate'\",3))\n",
    "\n",
    "# get the text of the cast code\n",
    "def castTxt(cast):\n",
    "    q = \"cast_code == %s\" % (cast)\n",
    "    out = cast_codes.query(q)\n",
    "    return out['title']\n",
    "\n",
    "print(castTxt(4))\n",
    "\n",
    "# grab the name of a member\n",
    "def getName(icpsr):\n",
    "    names = list(memSen.loc[memSen['icpsr']==icpsr]['bioname'])\n",
    "    \n",
    "    if len(names) == 0:\n",
    "        return 'NaN'\n",
    "    return set(names)\n",
    "\n",
    "\n",
    "print(getName(14009)) # COCHRAN, William Thad | 14009\n",
    "\n",
    "\n",
    "\n",
    "# Grab the parties of a member\n",
    "def getParty(icpsr):\n",
    "    ptys = list(memSen.loc[memSen['icpsr']==icpsr]['party_code'])\n",
    "    \n",
    "    if len(ptys) == 0:\n",
    "        return 'NaN'\n",
    "    return ptys\n",
    "\n",
    "# Grab the terms that a congressman has served\n",
    "def getTerms(icpsr,chamber):\n",
    "    \n",
    "    terms = []\n",
    "    \n",
    "    # filter for member\n",
    "    rollRows = allVte[(allVte['icpsr'] == icpsr) & (allVte['chamber'] == chamber)]\n",
    "    terms = set(rollRows['congress'])\n",
    "    \n",
    "    '''\n",
    "    Testing\n",
    "    https://www.congress.gov/member/thad-cochran/C000567\n",
    "    Senate: 96th-115th (1979-2019); Senator Thad Cochran\n",
    "    \n",
    "    Function works!\n",
    "    \n",
    "    '''\n",
    "    \n",
    "    return terms\n",
    "\n",
    "print(getTerms(14009, 'Senate'))"
   ]
  },
  {
   "cell_type": "code",
   "execution_count": 23,
   "metadata": {},
   "outputs": [
    {
     "name": "stdout",
     "output_type": "stream",
     "text": [
      "Number of rolls: 50200\n",
      "Number of votes: 502\n",
      "100.0\n"
     ]
    },
    {
     "data": {
      "text/html": [
       "<div>\n",
       "<style scoped>\n",
       "    .dataframe tbody tr th:only-of-type {\n",
       "        vertical-align: middle;\n",
       "    }\n",
       "\n",
       "    .dataframe tbody tr th {\n",
       "        vertical-align: top;\n",
       "    }\n",
       "\n",
       "    .dataframe thead th {\n",
       "        text-align: right;\n",
       "    }\n",
       "</style>\n",
       "<table border=\"1\" class=\"dataframe\">\n",
       "  <thead>\n",
       "    <tr style=\"text-align: right;\">\n",
       "      <th></th>\n",
       "      <th>congress</th>\n",
       "      <th>chamber</th>\n",
       "      <th>rollnumber</th>\n",
       "      <th>icpsr</th>\n",
       "      <th>cast_code</th>\n",
       "    </tr>\n",
       "  </thead>\n",
       "  <tbody>\n",
       "    <tr>\n",
       "      <th>23816717</th>\n",
       "      <td>114</td>\n",
       "      <td>Senate</td>\n",
       "      <td>502</td>\n",
       "      <td>49308</td>\n",
       "      <td>6</td>\n",
       "    </tr>\n",
       "    <tr>\n",
       "      <th>23816718</th>\n",
       "      <td>114</td>\n",
       "      <td>Senate</td>\n",
       "      <td>502</td>\n",
       "      <td>49700</td>\n",
       "      <td>6</td>\n",
       "    </tr>\n",
       "    <tr>\n",
       "      <th>23816719</th>\n",
       "      <td>114</td>\n",
       "      <td>Senate</td>\n",
       "      <td>502</td>\n",
       "      <td>49703</td>\n",
       "      <td>1</td>\n",
       "    </tr>\n",
       "    <tr>\n",
       "      <th>23816720</th>\n",
       "      <td>114</td>\n",
       "      <td>Senate</td>\n",
       "      <td>502</td>\n",
       "      <td>49706</td>\n",
       "      <td>1</td>\n",
       "    </tr>\n",
       "    <tr>\n",
       "      <th>23816721</th>\n",
       "      <td>114</td>\n",
       "      <td>Senate</td>\n",
       "      <td>502</td>\n",
       "      <td>94659</td>\n",
       "      <td>6</td>\n",
       "    </tr>\n",
       "  </tbody>\n",
       "</table>\n",
       "</div>"
      ],
      "text/plain": [
       "          congress chamber  rollnumber  icpsr  cast_code\n",
       "23816717       114  Senate         502  49308          6\n",
       "23816718       114  Senate         502  49700          6\n",
       "23816719       114  Senate         502  49703          1\n",
       "23816720       114  Senate         502  49706          1\n",
       "23816721       114  Senate         502  94659          6"
      ]
     },
     "execution_count": 23,
     "metadata": {},
     "output_type": "execute_result"
    }
   ],
   "source": [
    "thresh = 114 # select only a particular range of congress from 1 to 155. ie. 100 = 1988\n",
    "vteSenThresh = vteSen[vteSen['congress']==thresh]\n",
    "\n",
    "# some basic stats of the votes we're looking at\n",
    "print('Number of rolls:', len(vteSenThresh))\n",
    "print('Number of votes:', len(set(vteSenThresh['rollnumber'])))\n",
    "print(len(vteSenThresh) / len(set(vteSenThresh['rollnumber'])))\n",
    "\n",
    "if 0:\n",
    "    print(len(vteSenThresh[vteSenThresh['rollnumber'] == 4]))\n",
    "    print(set(vteSenThresh['rollnumber']))\n",
    "    #vteSenThresh.tail()\n",
    "\n",
    "vteSenThresh.tail()"
   ]
  },
  {
   "cell_type": "code",
   "execution_count": 65,
   "metadata": {},
   "outputs": [
    {
     "name": "stdout",
     "output_type": "stream",
     "text": [
      "100 100 100\n"
     ]
    }
   ],
   "source": [
    "# determine how parties voted for each roll\n",
    "\n",
    "def get_party_votes(congress,roll):\n",
    "    \n",
    "    # select congress (from 1 to 155. ie. 100 = 1988)\n",
    "    vteSenThresh = vteSen[vteSen['congress'] == congress]\n",
    "    vteSenThresh_roll = vteSenThresh[vteSenThresh['rollnumber'] == roll] # filter for the current roll\n",
    "\n",
    "    allCasts = vteSenThresh_roll['cast_code'] # grab the votes\n",
    "    allParties = [getParty(memnum)[0] for memnum in vteSenThresh_roll['icpsr']]\n",
    "    allMems = vteSenThresh_roll['icpsr']\n",
    "    \n",
    "    return allCasts, allParties, allMems\n",
    "\n",
    "cst, pty, mem = get_party_votes(114,1)\n",
    "\n",
    "print(len(cst),len(pty), len(mem))\n",
    "\n"
   ]
  },
  {
   "cell_type": "code",
   "execution_count": 17,
   "metadata": {},
   "outputs": [
    {
     "name": "stdout",
     "output_type": "stream",
     "text": [
      "100 100\n",
      "<class 'list'> <class 'list'>\n",
      "{1, 6, 9}\n",
      "{200, 328, 100}\n"
     ]
    }
   ],
   "source": [
    "# grab some basic info about the range of votes and parties returned\n",
    "print(len(cst),len(pty))\n",
    "print(type(list(cst)),type(pty))\n",
    "print(set(cst))\n",
    "print(set(pty))\n",
    "\n",
    "if 0: # some more exploration of the data\n",
    "    cst.hist() # lot's of 1's 6's and 9's\n",
    "\n",
    "    pty = [_ for _ in pty if _ != 'N']\n",
    "    print(len(pty))\n",
    "    ptyS = pd.Series(pty)\n",
    "    ptyS.hist(bins=len(set(ptyS))) # 100 D, 200 R, 328 I\n",
    "\n",
    "    \n",
    "    Counter(ptyS) # how many of each party?\n",
    "    Counter(pty)"
   ]
  },
  {
   "cell_type": "code",
   "execution_count": 39,
   "metadata": {},
   "outputs": [
    {
     "data": {
      "text/plain": [
       "Counter({1: 31, 9: 3, 6: 66})"
      ]
     },
     "execution_count": 39,
     "metadata": {},
     "output_type": "execute_result"
    }
   ],
   "source": [
    "# now let's grab the parties votes (Just R and D and I for now)\n",
    "# this should be used on one roll only\n",
    "# 100 D, 200 R, 328 I\n",
    "\n",
    "def tabulateRollVotes(cst,pty,congress,roll, verbose=False):\n",
    "    \n",
    "    D_vtes = []\n",
    "    R_vtes = []\n",
    "    I_vtes = []\n",
    "    for c,p in zip(list(cst), pty):\n",
    "        if p == 100:\n",
    "            D_vtes.append(c)\n",
    "        elif p == 200:\n",
    "            R_vtes.append(c)\n",
    "        elif p == 328:\n",
    "            I_vtes.append(c)\n",
    "    \n",
    "    totals = Counter(D_vtes) + Counter(R_vtes) + Counter(I_vtes)\n",
    "    \n",
    "    if verbose:\n",
    "        print('For Congress:',congress, ' and Roll:', roll)\n",
    "        print('lengths:',(len(R_vtes)+len(D_vtes)+len(I_vtes)),len(cst),'(should be equal)')\n",
    "        print('D', Counter(D_vtes))\n",
    "        print('R', Counter(R_vtes))\n",
    "        print('I', Counter(I_vtes))\n",
    "        print('Totals:', totals)\n",
    "        \n",
    "    \n",
    "    # package it up\n",
    "    tabedVotes = {}\n",
    "    tabedVotes['congress'] = congress\n",
    "    tabedVotes['roll'] = roll\n",
    "    tabedVotes['totals'] = totals\n",
    "    tabedVotes['100'] = Counter(D_vtes)\n",
    "    tabedVotes['200'] = Counter(R_vtes)\n",
    "    tabedVotes['328'] = Counter(I_vtes)\n",
    "    \n",
    "    \n",
    "    return tabedVotes \n",
    "\n",
    "        \n",
    "\n",
    "\"\"\"\n",
    "testing: for roll 1 of the 114 congress:\n",
    "https://www.govtrack.us/congress/votes/114-2015/s1\n",
    "They got 31 - 66 rejected\n",
    "I got 31 - 66 with 3 abstains\n",
    "\n",
    "D Counter({1: 30, 6: 12, 9: 2})\n",
    "R Counter({6: 53, 9: 1})\n",
    "I Counter({1: 1, 6: 1})\n",
    "\n",
    "Hey it works (and the data seems correct)\n",
    "\"\"\"\n",
    "rollVotes = tabulateRollVotes(cst,pty,114,1)\n",
    "rollVotes['totals']"
   ]
  },
  {
   "cell_type": "code",
   "execution_count": 44,
   "metadata": {},
   "outputs": [
    {
     "data": {
      "text/html": [
       "<div>\n",
       "<style scoped>\n",
       "    .dataframe tbody tr th:only-of-type {\n",
       "        vertical-align: middle;\n",
       "    }\n",
       "\n",
       "    .dataframe tbody tr th {\n",
       "        vertical-align: top;\n",
       "    }\n",
       "\n",
       "    .dataframe thead th {\n",
       "        text-align: right;\n",
       "    }\n",
       "</style>\n",
       "<table border=\"1\" class=\"dataframe\">\n",
       "  <thead>\n",
       "    <tr style=\"text-align: right;\">\n",
       "      <th></th>\n",
       "      <th>congress</th>\n",
       "      <th>chamber</th>\n",
       "      <th>rollnumber</th>\n",
       "      <th>icpsr</th>\n",
       "      <th>cast_code</th>\n",
       "    </tr>\n",
       "  </thead>\n",
       "  <tbody>\n",
       "    <tr>\n",
       "      <th>23816717</th>\n",
       "      <td>114</td>\n",
       "      <td>Senate</td>\n",
       "      <td>502</td>\n",
       "      <td>49308</td>\n",
       "      <td>6</td>\n",
       "    </tr>\n",
       "    <tr>\n",
       "      <th>23816718</th>\n",
       "      <td>114</td>\n",
       "      <td>Senate</td>\n",
       "      <td>502</td>\n",
       "      <td>49700</td>\n",
       "      <td>6</td>\n",
       "    </tr>\n",
       "    <tr>\n",
       "      <th>23816719</th>\n",
       "      <td>114</td>\n",
       "      <td>Senate</td>\n",
       "      <td>502</td>\n",
       "      <td>49703</td>\n",
       "      <td>1</td>\n",
       "    </tr>\n",
       "    <tr>\n",
       "      <th>23816720</th>\n",
       "      <td>114</td>\n",
       "      <td>Senate</td>\n",
       "      <td>502</td>\n",
       "      <td>49706</td>\n",
       "      <td>1</td>\n",
       "    </tr>\n",
       "    <tr>\n",
       "      <th>23816721</th>\n",
       "      <td>114</td>\n",
       "      <td>Senate</td>\n",
       "      <td>502</td>\n",
       "      <td>94659</td>\n",
       "      <td>6</td>\n",
       "    </tr>\n",
       "  </tbody>\n",
       "</table>\n",
       "</div>"
      ],
      "text/plain": [
       "          congress chamber  rollnumber  icpsr  cast_code\n",
       "23816717       114  Senate         502  49308          6\n",
       "23816718       114  Senate         502  49700          6\n",
       "23816719       114  Senate         502  49703          1\n",
       "23816720       114  Senate         502  49706          1\n",
       "23816721       114  Senate         502  94659          6"
      ]
     },
     "execution_count": 44,
     "metadata": {},
     "output_type": "execute_result"
    }
   ],
   "source": [
    "# does a member vote with their party or against their party for a roll?\n",
    "# is this easier for yes votes vs no votes? \n",
    "# what about new members? Does this change anything? \n",
    "# -> I need to calculate how many 'new' members there are\n",
    "\n",
    "# what is the break down of votes for each member? \n",
    "# -> ie. is one member more likley to vote yes or no in general? \n",
    "\n",
    "vteSenThresh.tail()"
   ]
  },
  {
   "cell_type": "code",
   "execution_count": 45,
   "metadata": {},
   "outputs": [
    {
     "data": {
      "text/html": [
       "<div>\n",
       "<style scoped>\n",
       "    .dataframe tbody tr th:only-of-type {\n",
       "        vertical-align: middle;\n",
       "    }\n",
       "\n",
       "    .dataframe tbody tr th {\n",
       "        vertical-align: top;\n",
       "    }\n",
       "\n",
       "    .dataframe thead th {\n",
       "        text-align: right;\n",
       "    }\n",
       "</style>\n",
       "<table border=\"1\" class=\"dataframe\">\n",
       "  <thead>\n",
       "    <tr style=\"text-align: right;\">\n",
       "      <th></th>\n",
       "      <th>congress</th>\n",
       "      <th>chamber</th>\n",
       "      <th>rollnumber</th>\n",
       "      <th>icpsr</th>\n",
       "      <th>cast_code</th>\n",
       "    </tr>\n",
       "  </thead>\n",
       "  <tbody>\n",
       "    <tr>\n",
       "      <th>23766617</th>\n",
       "      <td>114</td>\n",
       "      <td>Senate</td>\n",
       "      <td>1</td>\n",
       "      <td>49308</td>\n",
       "      <td>1</td>\n",
       "    </tr>\n",
       "    <tr>\n",
       "      <th>23766717</th>\n",
       "      <td>114</td>\n",
       "      <td>Senate</td>\n",
       "      <td>2</td>\n",
       "      <td>49308</td>\n",
       "      <td>1</td>\n",
       "    </tr>\n",
       "    <tr>\n",
       "      <th>23766817</th>\n",
       "      <td>114</td>\n",
       "      <td>Senate</td>\n",
       "      <td>3</td>\n",
       "      <td>49308</td>\n",
       "      <td>6</td>\n",
       "    </tr>\n",
       "    <tr>\n",
       "      <th>23766917</th>\n",
       "      <td>114</td>\n",
       "      <td>Senate</td>\n",
       "      <td>4</td>\n",
       "      <td>49308</td>\n",
       "      <td>6</td>\n",
       "    </tr>\n",
       "    <tr>\n",
       "      <th>23767017</th>\n",
       "      <td>114</td>\n",
       "      <td>Senate</td>\n",
       "      <td>5</td>\n",
       "      <td>49308</td>\n",
       "      <td>6</td>\n",
       "    </tr>\n",
       "  </tbody>\n",
       "</table>\n",
       "</div>"
      ],
      "text/plain": [
       "          congress chamber  rollnumber  icpsr  cast_code\n",
       "23766617       114  Senate           1  49308          1\n",
       "23766717       114  Senate           2  49308          1\n",
       "23766817       114  Senate           3  49308          6\n",
       "23766917       114  Senate           4  49308          6\n",
       "23767017       114  Senate           5  49308          6"
      ]
     },
     "execution_count": 45,
     "metadata": {},
     "output_type": "execute_result"
    }
   ],
   "source": [
    "# Grab all of the votes for one member\n",
    "def grabAllMemVotes(ICPSR, data):\n",
    "    vteSenThreshMem = vteSenThresh[vteSenThresh['icpsr']==ICPSR]\n",
    "    \n",
    "    # finish this \n",
    "    \n",
    "    \n",
    "    return vteSenThreshMem\n",
    "\n",
    "memVotes = grabAllMemVotes(49308, ' ')\n",
    "memVotes.head()"
   ]
  },
  {
   "cell_type": "code",
   "execution_count": 43,
   "metadata": {},
   "outputs": [
    {
     "data": {
      "text/plain": [
       "Counter({1: 30, 9: 2, 6: 12})"
      ]
     },
     "execution_count": 43,
     "metadata": {},
     "output_type": "execute_result"
    }
   ],
   "source": [
    "\n",
    "\n"
   ]
  },
  {
   "cell_type": "code",
   "execution_count": 70,
   "metadata": {
    "scrolled": true
   },
   "outputs": [
    {
     "name": "stdout",
     "output_type": "stream",
     "text": [
      "23766717    1\n",
      "Name: cast_code, dtype: int64\n",
      "Member MURRAY, Patty (49308) voted 1 and the party 100 voted 1 (0.4)\n",
      "23766718    1\n",
      "Name: cast_code, dtype: int64\n",
      "Member SESSIONS, Jefferson Beauregard III (Jeff) (49700) voted 1 and the party 200 voted 1 (0.52)\n",
      "23766719    1\n",
      "Name: cast_code, dtype: int64\n",
      "Member COLLINS, Susan Margaret (49703) voted 1 and the party 200 voted 1 (0.52)\n",
      "Series([], Name: cast_code, dtype: int64)\n"
     ]
    },
    {
     "ename": "TypeError",
     "evalue": "cannot convert the series to <class 'int'>",
     "output_type": "error",
     "traceback": [
      "\u001b[0;31m---------------------------------------------------------------------------\u001b[0m",
      "\u001b[0;31mTypeError\u001b[0m                                 Traceback (most recent call last)",
      "\u001b[0;32m<ipython-input-70-dea2641aa90a>\u001b[0m in \u001b[0;36m<module>\u001b[0;34m()\u001b[0m\n\u001b[1;32m     35\u001b[0m \u001b[0mcompareMemVotes\u001b[0m\u001b[0;34m(\u001b[0m\u001b[0;36m49700\u001b[0m\u001b[0;34m,\u001b[0m \u001b[0;36m114\u001b[0m\u001b[0;34m,\u001b[0m \u001b[0;36m2\u001b[0m\u001b[0;34m,\u001b[0m\u001b[0mverbose\u001b[0m\u001b[0;34m=\u001b[0m\u001b[0;32mTrue\u001b[0m\u001b[0;34m)\u001b[0m\u001b[0;34m\u001b[0m\u001b[0m\n\u001b[1;32m     36\u001b[0m \u001b[0mcompareMemVotes\u001b[0m\u001b[0;34m(\u001b[0m\u001b[0;36m49703\u001b[0m\u001b[0;34m,\u001b[0m \u001b[0;36m114\u001b[0m\u001b[0;34m,\u001b[0m \u001b[0;36m2\u001b[0m\u001b[0;34m,\u001b[0m\u001b[0mverbose\u001b[0m\u001b[0;34m=\u001b[0m\u001b[0;32mTrue\u001b[0m\u001b[0;34m)\u001b[0m\u001b[0;34m\u001b[0m\u001b[0m\n\u001b[0;32m---> 37\u001b[0;31m \u001b[0mcompareMemVotes\u001b[0m\u001b[0;34m(\u001b[0m\u001b[0;36m49308\u001b[0m\u001b[0;34m,\u001b[0m \u001b[0;36m113\u001b[0m\u001b[0;34m,\u001b[0m \u001b[0;36m2\u001b[0m\u001b[0;34m,\u001b[0m\u001b[0mverbose\u001b[0m\u001b[0;34m=\u001b[0m\u001b[0;32mTrue\u001b[0m\u001b[0;34m)\u001b[0m\u001b[0;34m\u001b[0m\u001b[0m\n\u001b[0m\u001b[1;32m     38\u001b[0m \u001b[0mcompareMemVotes\u001b[0m\u001b[0;34m(\u001b[0m\u001b[0;36m49700\u001b[0m\u001b[0;34m,\u001b[0m \u001b[0;36m113\u001b[0m\u001b[0;34m,\u001b[0m \u001b[0;36m2\u001b[0m\u001b[0;34m,\u001b[0m\u001b[0mverbose\u001b[0m\u001b[0;34m=\u001b[0m\u001b[0;32mTrue\u001b[0m\u001b[0;34m)\u001b[0m\u001b[0;34m\u001b[0m\u001b[0m\n\u001b[1;32m     39\u001b[0m \u001b[0mcompareMemVotes\u001b[0m\u001b[0;34m(\u001b[0m\u001b[0;36m49703\u001b[0m\u001b[0;34m,\u001b[0m \u001b[0;36m113\u001b[0m\u001b[0;34m,\u001b[0m \u001b[0;36m2\u001b[0m\u001b[0;34m,\u001b[0m\u001b[0mverbose\u001b[0m\u001b[0;34m=\u001b[0m\u001b[0;32mTrue\u001b[0m\u001b[0;34m)\u001b[0m\u001b[0;34m\u001b[0m\u001b[0m\n",
      "\u001b[0;32m<ipython-input-70-dea2641aa90a>\u001b[0m in \u001b[0;36mcompareMemVotes\u001b[0;34m(ICPSR, congress, roll, verbose)\u001b[0m\n\u001b[1;32m     12\u001b[0m     \u001b[0mmemVoteRow\u001b[0m \u001b[0;34m=\u001b[0m \u001b[0mvteSenThresh\u001b[0m\u001b[0;34m[\u001b[0m\u001b[0;34m(\u001b[0m\u001b[0mvteSenThresh\u001b[0m\u001b[0;34m[\u001b[0m\u001b[0;34m'congress'\u001b[0m\u001b[0;34m]\u001b[0m\u001b[0;34m==\u001b[0m\u001b[0mcongress\u001b[0m\u001b[0;34m)\u001b[0m \u001b[0;34m&\u001b[0m \u001b[0;34m(\u001b[0m\u001b[0mvteSenThresh\u001b[0m\u001b[0;34m[\u001b[0m\u001b[0;34m'rollnumber'\u001b[0m\u001b[0;34m]\u001b[0m\u001b[0;34m==\u001b[0m\u001b[0mroll\u001b[0m\u001b[0;34m)\u001b[0m \u001b[0;34m&\u001b[0m \u001b[0;34m(\u001b[0m\u001b[0mvteSenThresh\u001b[0m\u001b[0;34m[\u001b[0m\u001b[0;34m'icpsr'\u001b[0m\u001b[0;34m]\u001b[0m\u001b[0;34m==\u001b[0m\u001b[0mICPSR\u001b[0m\u001b[0;34m)\u001b[0m\u001b[0;34m]\u001b[0m\u001b[0;34m\u001b[0m\u001b[0m\n\u001b[1;32m     13\u001b[0m     \u001b[0mprint\u001b[0m\u001b[0;34m(\u001b[0m\u001b[0mmemVoteRow\u001b[0m\u001b[0;34m[\u001b[0m\u001b[0;34m'cast_code'\u001b[0m\u001b[0;34m]\u001b[0m\u001b[0;34m)\u001b[0m\u001b[0;34m\u001b[0m\u001b[0m\n\u001b[0;32m---> 14\u001b[0;31m     \u001b[0mmemVote\u001b[0m \u001b[0;34m=\u001b[0m \u001b[0mint\u001b[0m\u001b[0;34m(\u001b[0m\u001b[0mmemVoteRow\u001b[0m\u001b[0;34m[\u001b[0m\u001b[0;34m'cast_code'\u001b[0m\u001b[0;34m]\u001b[0m\u001b[0;34m)\u001b[0m\u001b[0;34m\u001b[0m\u001b[0m\n\u001b[0m\u001b[1;32m     15\u001b[0m     \u001b[0mpartyVote\u001b[0m \u001b[0;34m=\u001b[0m \u001b[0mmax\u001b[0m\u001b[0;34m(\u001b[0m\u001b[0mpartyVotes\u001b[0m\u001b[0;34m,\u001b[0m \u001b[0mkey\u001b[0m\u001b[0;34m=\u001b[0m\u001b[0mpartyVotes\u001b[0m\u001b[0;34m.\u001b[0m\u001b[0mget\u001b[0m\u001b[0;34m)\u001b[0m\u001b[0;34m\u001b[0m\u001b[0m\n\u001b[1;32m     16\u001b[0m     \u001b[0mvotePct\u001b[0m \u001b[0;34m=\u001b[0m \u001b[0mpartyVotes\u001b[0m\u001b[0;34m[\u001b[0m\u001b[0mpartyVote\u001b[0m\u001b[0;34m]\u001b[0m \u001b[0;34m/\u001b[0m \u001b[0;36m100\u001b[0m\u001b[0;34m\u001b[0m\u001b[0m\n",
      "\u001b[0;32m~/.local/lib/python3.6/site-packages/pandas/core/series.py\u001b[0m in \u001b[0;36mwrapper\u001b[0;34m(self)\u001b[0m\n\u001b[1;32m    116\u001b[0m             \u001b[0;32mreturn\u001b[0m \u001b[0mconverter\u001b[0m\u001b[0;34m(\u001b[0m\u001b[0mself\u001b[0m\u001b[0;34m.\u001b[0m\u001b[0miloc\u001b[0m\u001b[0;34m[\u001b[0m\u001b[0;36m0\u001b[0m\u001b[0;34m]\u001b[0m\u001b[0;34m)\u001b[0m\u001b[0;34m\u001b[0m\u001b[0m\n\u001b[1;32m    117\u001b[0m         raise TypeError(\"cannot convert the series to \"\n\u001b[0;32m--> 118\u001b[0;31m                         \"{0}\".format(str(converter)))\n\u001b[0m\u001b[1;32m    119\u001b[0m \u001b[0;34m\u001b[0m\u001b[0m\n\u001b[1;32m    120\u001b[0m     \u001b[0;32mreturn\u001b[0m \u001b[0mwrapper\u001b[0m\u001b[0;34m\u001b[0m\u001b[0m\n",
      "\u001b[0;31mTypeError\u001b[0m: cannot convert the series to <class 'int'>"
     ]
    }
   ],
   "source": [
    "###########################################################\n",
    "# compare the vote for one member to the votes of the party\n",
    "\n",
    "def compareMemVotes(ICPSR, congress, roll,verbose=False):\n",
    "    \n",
    "    # Grab the data\n",
    "    cst, pty, mem = get_party_votes(congress, roll)\n",
    "    rollVotes = tabulateRollVotes(cst,pty,congress, roll)\n",
    "    \n",
    "    memberParty = str(getParty(ICPSR)[0])\n",
    "    partyVotes = rollVotes[memberParty] # grab how the party voted for a roll and bill\n",
    "    memVoteRow = vteSenThresh[(vteSenThresh['congress']==congress) & (vteSenThresh['rollnumber']==roll) & (vteSenThresh['icpsr']==ICPSR)]\n",
    "    print(memVoteRow['cast_code'])\n",
    "    memVote = int(memVoteRow['cast_code'])\n",
    "    partyVote = max(partyVotes, key=partyVotes.get)\n",
    "    votePct = partyVotes[partyVote] / 100\n",
    "    \n",
    "    if verbose:\n",
    "        print('Member %s (%s) voted %s and the party %s voted %s (%s)' %(getName(ICPSR).pop(), ICPSR, memVote,memberParty,partyVote, votePct))\n",
    "    \n",
    "    # Pack it up\n",
    "    voteComp = {}\n",
    "    voteComp['congress'] = congress\n",
    "    voteComp['roll'] = roll\n",
    "    voteComp['icpsr'] = ICPSR\n",
    "    '''\n",
    "    voteComp[''] = \n",
    "    voteComp[''] = \n",
    "    voteComp[''] = \n",
    "    '''\n",
    "    \n",
    "    \n",
    "    \n",
    "compareMemVotes(49308, 114, 2,verbose=True)\n",
    "compareMemVotes(49700, 114, 2,verbose=True)\n",
    "compareMemVotes(49703, 114, 2,verbose=True)\n",
    "compareMemVotes(49308, 113, 2,verbose=True)\n",
    "compareMemVotes(49700, 113, 2,verbose=True)\n",
    "compareMemVotes(49703, 113, 2,verbose=True)\n",
    "\n",
    "'''\n",
    "TESTING\n",
    "this checks out with https://www.govtrack.us/congress/votes/114-2015/s1\n",
    "for congress = 114 and roll = 1\n",
    "\n",
    "myOut: \n",
    "Member MURRAY, Patty (49308) voted 1 and the party 100 voted 1 (0.3)\n",
    "Member SESSIONS, Jefferson Beauregard III (Jeff) (49700) voted 6 and the party 200 voted 6 (0.53)\n",
    "Member COLLINS, Susan Margaret (49703) voted 6 and the party 200 voted 6 (0.53)\n",
    "\n",
    "'''"
   ]
  },
  {
   "cell_type": "code",
   "execution_count": null,
   "metadata": {},
   "outputs": [],
   "source": []
  },
  {
   "cell_type": "code",
   "execution_count": null,
   "metadata": {},
   "outputs": [],
   "source": []
  },
  {
   "cell_type": "code",
   "execution_count": null,
   "metadata": {},
   "outputs": [],
   "source": []
  },
  {
   "cell_type": "code",
   "execution_count": null,
   "metadata": {},
   "outputs": [],
   "source": []
  },
  {
   "cell_type": "code",
   "execution_count": null,
   "metadata": {},
   "outputs": [],
   "source": []
  },
  {
   "cell_type": "code",
   "execution_count": null,
   "metadata": {},
   "outputs": [],
   "source": []
  },
  {
   "cell_type": "code",
   "execution_count": null,
   "metadata": {},
   "outputs": [],
   "source": []
  },
  {
   "cell_type": "code",
   "execution_count": null,
   "metadata": {},
   "outputs": [],
   "source": []
  },
  {
   "cell_type": "code",
   "execution_count": 109,
   "metadata": {},
   "outputs": [],
   "source": [
    "# takes a congress network and builds colormap of\n",
    "# the party affiliations\n",
    "def buildCMap(G):\n",
    "   \n",
    "    # 100 D, 200 R, 328 I\n",
    "    netPty = [getParty(n)[0] for n in G]\n",
    "\n",
    "    cm = []\n",
    "    for p in netPty:\n",
    "        if p == 100:\n",
    "            cm.append('blue')\n",
    "        elif p == 200:\n",
    "            cm.append('red')\n",
    "        elif p == 328:\n",
    "            cm.append('green')\n",
    "        else:\n",
    "            cm.append('yellow')\n",
    "    return cm"
   ]
  },
  {
   "cell_type": "code",
   "execution_count": 99,
   "metadata": {},
   "outputs": [],
   "source": [
    "\n"
   ]
  },
  {
   "cell_type": "code",
   "execution_count": 91,
   "metadata": {},
   "outputs": [
    {
     "data": {
      "image/png": "[encoded data removed]",
      "text/plain": [
       "<Figure size 432x288 with 1 Axes>"
      ]
     },
     "metadata": {},
     "output_type": "display_data"
    }
   ],
   "source": [
    "# Let's look at the graph\n",
    "nx.draw(G,pos=nx.spring_layout(G))\n",
    "#nx.draw_networkx_labels(G,pos=nx.spring_layout(G))"
   ]
  },
  {
   "cell_type": "code",
   "execution_count": 93,
   "metadata": {},
   "outputs": [
    {
     "data": {
      "text/html": [
       "<div>\n",
       "<style scoped>\n",
       "    .dataframe tbody tr th:only-of-type {\n",
       "        vertical-align: middle;\n",
       "    }\n",
       "\n",
       "    .dataframe tbody tr th {\n",
       "        vertical-align: top;\n",
       "    }\n",
       "\n",
       "    .dataframe thead th {\n",
       "        text-align: right;\n",
       "    }\n",
       "</style>\n",
       "<table border=\"1\" class=\"dataframe\">\n",
       "  <thead>\n",
       "    <tr style=\"text-align: right;\">\n",
       "      <th></th>\n",
       "      <th>congress</th>\n",
       "      <th>chamber</th>\n",
       "      <th>rollnumber</th>\n",
       "      <th>icpsr</th>\n",
       "      <th>cast_code</th>\n",
       "    </tr>\n",
       "  </thead>\n",
       "  <tbody>\n",
       "    <tr>\n",
       "      <th>23766522</th>\n",
       "      <td>114</td>\n",
       "      <td>Senate</td>\n",
       "      <td>1</td>\n",
       "      <td>14009</td>\n",
       "      <td>6</td>\n",
       "    </tr>\n",
       "    <tr>\n",
       "      <th>23766523</th>\n",
       "      <td>114</td>\n",
       "      <td>Senate</td>\n",
       "      <td>1</td>\n",
       "      <td>14226</td>\n",
       "      <td>6</td>\n",
       "    </tr>\n",
       "    <tr>\n",
       "      <th>23766524</th>\n",
       "      <td>114</td>\n",
       "      <td>Senate</td>\n",
       "      <td>1</td>\n",
       "      <td>14307</td>\n",
       "      <td>1</td>\n",
       "    </tr>\n",
       "    <tr>\n",
       "      <th>23766525</th>\n",
       "      <td>114</td>\n",
       "      <td>Senate</td>\n",
       "      <td>1</td>\n",
       "      <td>14435</td>\n",
       "      <td>1</td>\n",
       "    </tr>\n",
       "    <tr>\n",
       "      <th>23766526</th>\n",
       "      <td>114</td>\n",
       "      <td>Senate</td>\n",
       "      <td>1</td>\n",
       "      <td>14440</td>\n",
       "      <td>1</td>\n",
       "    </tr>\n",
       "  </tbody>\n",
       "</table>\n",
       "</div>"
      ],
      "text/plain": [
       "          congress chamber  rollnumber  icpsr  cast_code\n",
       "23766522       114  Senate           1  14009          6\n",
       "23766523       114  Senate           1  14226          6\n",
       "23766524       114  Senate           1  14307          1\n",
       "23766525       114  Senate           1  14435          1\n",
       "23766526       114  Senate           1  14440          1"
      ]
     },
     "execution_count": 93,
     "metadata": {},
     "output_type": "execute_result"
    }
   ],
   "source": [
    "vteSenThresh.head()"
   ]
  },
  {
   "cell_type": "code",
   "execution_count": 111,
   "metadata": {},
   "outputs": [
    {
     "data": {
      "image/png": "[encoded data removed]",
      "text/plain": [
       "<Figure size 432x288 with 1 Axes>"
      ]
     },
     "metadata": {},
     "output_type": "display_data"
    }
   ],
   "source": [
    "# Let's make a voteing graph\n",
    "G = nx.Graph()\n",
    "\n",
    "# grab voting data for a roll\n",
    "cst, pty, mem = get_party_votes(114,1)\n",
    "\n",
    "# for a roll, see which members voted alike\n",
    "for i_m,i_c in zip(mem, cst):\n",
    "    for j_m,j_c in zip(mem, cst):\n",
    "        #print(i_m, i_c, j_m, j_c)\n",
    "        if i_c == j_c:\n",
    "            G.add_edge(i_m, j_m)\n",
    "\n",
    "# Let's look at the graph\n",
    "nx.draw(G,pos=nx.circular_layout(G),node_color=cm,with_labels=False)\n",
    "#nx.draw_networkx_labels(G,pos=nx.spring_layout(G))"
   ]
  },
  {
   "cell_type": "code",
   "execution_count": 114,
   "metadata": {},
   "outputs": [
    {
     "ename": "SyntaxError",
     "evalue": "invalid syntax (<ipython-input-114-ff720aa9f7d9>, line 1)",
     "output_type": "error",
     "traceback": [
      "\u001b[0;36m  File \u001b[0;32m\"<ipython-input-114-ff720aa9f7d9>\"\u001b[0;36m, line \u001b[0;32m1\u001b[0m\n\u001b[0;31m    nx.generate_edgelist(G[, delimiter, data])\u001b[0m\n\u001b[0m                           ^\u001b[0m\n\u001b[0;31mSyntaxError\u001b[0m\u001b[0;31m:\u001b[0m invalid syntax\n"
     ]
    }
   ],
   "source": []
  },
  {
   "cell_type": "code",
   "execution_count": null,
   "metadata": {},
   "outputs": [],
   "source": []
  },
  {
   "cell_type": "code",
   "execution_count": null,
   "metadata": {},
   "outputs": [],
   "source": []
  },
  {
   "cell_type": "code",
   "execution_count": null,
   "metadata": {},
   "outputs": [],
   "source": []
  },
  {
   "cell_type": "code",
   "execution_count": null,
   "metadata": {},
   "outputs": [],
   "source": []
  },
  {
   "cell_type": "code",
   "execution_count": null,
   "metadata": {},
   "outputs": [],
   "source": [
    "# OLD STUFF"
   ]
  },
  {
   "cell_type": "code",
   "execution_count": 61,
   "metadata": {},
   "outputs": [
    {
     "name": "stdout",
     "output_type": "stream",
     "text": [
      "Start...\n",
      "100 100\n",
      "100 101 101\n",
      "101 102 102\n",
      "102 103 104 104\n",
      "104 105 105\n",
      "105 "
     ]
    },
    {
     "ename": "KeyboardInterrupt",
     "evalue": "",
     "output_type": "error",
     "traceback": [
      "\u001b[0;31m---------------------------------------------------------------------------\u001b[0m",
      "\u001b[0;31mKeyboardInterrupt\u001b[0m                         Traceback (most recent call last)",
      "\u001b[0;32m<ipython-input-61-6394715111e8>\u001b[0m in \u001b[0;36m<module>\u001b[0;34m()\u001b[0m\n\u001b[1;32m     25\u001b[0m \u001b[0;34m\u001b[0m\u001b[0m\n\u001b[1;32m     26\u001b[0m     \u001b[0misp\u001b[0m \u001b[0;34m=\u001b[0m \u001b[0mint\u001b[0m\u001b[0;34m(\u001b[0m\u001b[0mrow\u001b[0m\u001b[0;34m[\u001b[0m\u001b[0;34m'icpsr'\u001b[0m\u001b[0;34m]\u001b[0m\u001b[0;34m)\u001b[0m\u001b[0;34m\u001b[0m\u001b[0m\n\u001b[0;32m---> 27\u001b[0;31m     \u001b[0mpty\u001b[0m \u001b[0;34m=\u001b[0m \u001b[0mgetParty\u001b[0m\u001b[0;34m(\u001b[0m\u001b[0misp\u001b[0m\u001b[0;34m)\u001b[0m\u001b[0;34m\u001b[0m\u001b[0m\n\u001b[0m\u001b[1;32m     28\u001b[0m     \u001b[0mptyBuff\u001b[0m\u001b[0;34m.\u001b[0m\u001b[0mappend\u001b[0m\u001b[0;34m(\u001b[0m\u001b[0mpty\u001b[0m\u001b[0;34m[\u001b[0m\u001b[0;36m0\u001b[0m\u001b[0;34m]\u001b[0m\u001b[0;34m)\u001b[0m\u001b[0;34m\u001b[0m\u001b[0m\n\u001b[1;32m     29\u001b[0m \u001b[0;34m\u001b[0m\u001b[0m\n",
      "\u001b[0;32m<ipython-input-49-b0418cd7a8b3>\u001b[0m in \u001b[0;36mgetParty\u001b[0;34m(icpsr)\u001b[0m\n\u001b[1;32m      1\u001b[0m \u001b[0;34m\u001b[0m\u001b[0m\n\u001b[1;32m      2\u001b[0m \u001b[0;32mdef\u001b[0m \u001b[0mgetParty\u001b[0m\u001b[0;34m(\u001b[0m\u001b[0micpsr\u001b[0m\u001b[0;34m)\u001b[0m\u001b[0;34m:\u001b[0m\u001b[0;34m\u001b[0m\u001b[0m\n\u001b[0;32m----> 3\u001b[0;31m     \u001b[0mptys\u001b[0m \u001b[0;34m=\u001b[0m \u001b[0mlist\u001b[0m\u001b[0;34m(\u001b[0m\u001b[0mmemSen\u001b[0m\u001b[0;34m.\u001b[0m\u001b[0mloc\u001b[0m\u001b[0;34m[\u001b[0m\u001b[0mmemSen\u001b[0m\u001b[0;34m[\u001b[0m\u001b[0;34m'icpsr'\u001b[0m\u001b[0;34m]\u001b[0m\u001b[0;34m==\u001b[0m\u001b[0micpsr\u001b[0m\u001b[0;34m]\u001b[0m\u001b[0;34m[\u001b[0m\u001b[0;34m'party_code'\u001b[0m\u001b[0;34m]\u001b[0m\u001b[0;34m)\u001b[0m\u001b[0;34m\u001b[0m\u001b[0m\n\u001b[0m\u001b[1;32m      4\u001b[0m \u001b[0;34m\u001b[0m\u001b[0m\n\u001b[1;32m      5\u001b[0m     \u001b[0;32mif\u001b[0m \u001b[0mlen\u001b[0m\u001b[0;34m(\u001b[0m\u001b[0mptys\u001b[0m\u001b[0;34m)\u001b[0m \u001b[0;34m==\u001b[0m \u001b[0;36m0\u001b[0m\u001b[0;34m:\u001b[0m\u001b[0;34m\u001b[0m\u001b[0m\n",
      "\u001b[0;32m~/.local/lib/python3.6/site-packages/pandas/core/indexing.py\u001b[0m in \u001b[0;36m__getitem__\u001b[0;34m(self, key)\u001b[0m\n\u001b[1;32m   1476\u001b[0m \u001b[0;34m\u001b[0m\u001b[0m\n\u001b[1;32m   1477\u001b[0m             \u001b[0mmaybe_callable\u001b[0m \u001b[0;34m=\u001b[0m \u001b[0mcom\u001b[0m\u001b[0;34m.\u001b[0m\u001b[0m_apply_if_callable\u001b[0m\u001b[0;34m(\u001b[0m\u001b[0mkey\u001b[0m\u001b[0;34m,\u001b[0m \u001b[0mself\u001b[0m\u001b[0;34m.\u001b[0m\u001b[0mobj\u001b[0m\u001b[0;34m)\u001b[0m\u001b[0;34m\u001b[0m\u001b[0m\n\u001b[0;32m-> 1478\u001b[0;31m             \u001b[0;32mreturn\u001b[0m \u001b[0mself\u001b[0m\u001b[0;34m.\u001b[0m\u001b[0m_getitem_axis\u001b[0m\u001b[0;34m(\u001b[0m\u001b[0mmaybe_callable\u001b[0m\u001b[0;34m,\u001b[0m \u001b[0maxis\u001b[0m\u001b[0;34m=\u001b[0m\u001b[0maxis\u001b[0m\u001b[0;34m)\u001b[0m\u001b[0;34m\u001b[0m\u001b[0m\n\u001b[0m\u001b[1;32m   1479\u001b[0m \u001b[0;34m\u001b[0m\u001b[0m\n\u001b[1;32m   1480\u001b[0m     \u001b[0;32mdef\u001b[0m \u001b[0m_is_scalar_access\u001b[0m\u001b[0;34m(\u001b[0m\u001b[0mself\u001b[0m\u001b[0;34m,\u001b[0m \u001b[0mkey\u001b[0m\u001b[0;34m)\u001b[0m\u001b[0;34m:\u001b[0m\u001b[0;34m\u001b[0m\u001b[0m\n",
      "\u001b[0;32m~/.local/lib/python3.6/site-packages/pandas/core/indexing.py\u001b[0m in \u001b[0;36m_getitem_axis\u001b[0;34m(self, key, axis)\u001b[0m\n\u001b[1;32m   1866\u001b[0m             \u001b[0;32mreturn\u001b[0m \u001b[0mself\u001b[0m\u001b[0;34m.\u001b[0m\u001b[0m_get_slice_axis\u001b[0m\u001b[0;34m(\u001b[0m\u001b[0mkey\u001b[0m\u001b[0;34m,\u001b[0m \u001b[0maxis\u001b[0m\u001b[0;34m=\u001b[0m\u001b[0maxis\u001b[0m\u001b[0;34m)\u001b[0m\u001b[0;34m\u001b[0m\u001b[0m\n\u001b[1;32m   1867\u001b[0m         \u001b[0;32melif\u001b[0m \u001b[0mcom\u001b[0m\u001b[0;34m.\u001b[0m\u001b[0mis_bool_indexer\u001b[0m\u001b[0;34m(\u001b[0m\u001b[0mkey\u001b[0m\u001b[0;34m)\u001b[0m\u001b[0;34m:\u001b[0m\u001b[0;34m\u001b[0m\u001b[0m\n\u001b[0;32m-> 1868\u001b[0;31m             \u001b[0;32mreturn\u001b[0m \u001b[0mself\u001b[0m\u001b[0;34m.\u001b[0m\u001b[0m_getbool_axis\u001b[0m\u001b[0;34m(\u001b[0m\u001b[0mkey\u001b[0m\u001b[0;34m,\u001b[0m \u001b[0maxis\u001b[0m\u001b[0;34m=\u001b[0m\u001b[0maxis\u001b[0m\u001b[0;34m)\u001b[0m\u001b[0;34m\u001b[0m\u001b[0m\n\u001b[0m\u001b[1;32m   1869\u001b[0m         \u001b[0;32melif\u001b[0m \u001b[0mis_list_like_indexer\u001b[0m\u001b[0;34m(\u001b[0m\u001b[0mkey\u001b[0m\u001b[0;34m)\u001b[0m\u001b[0;34m:\u001b[0m\u001b[0;34m\u001b[0m\u001b[0m\n\u001b[1;32m   1870\u001b[0m \u001b[0;34m\u001b[0m\u001b[0m\n",
      "\u001b[0;32m~/.local/lib/python3.6/site-packages/pandas/core/indexing.py\u001b[0m in \u001b[0;36m_getbool_axis\u001b[0;34m(self, key, axis)\u001b[0m\n\u001b[1;32m   1494\u001b[0m         \u001b[0minds\u001b[0m\u001b[0;34m,\u001b[0m \u001b[0;34m=\u001b[0m \u001b[0mkey\u001b[0m\u001b[0;34m.\u001b[0m\u001b[0mnonzero\u001b[0m\u001b[0;34m(\u001b[0m\u001b[0;34m)\u001b[0m\u001b[0;34m\u001b[0m\u001b[0m\n\u001b[1;32m   1495\u001b[0m         \u001b[0;32mtry\u001b[0m\u001b[0;34m:\u001b[0m\u001b[0;34m\u001b[0m\u001b[0m\n\u001b[0;32m-> 1496\u001b[0;31m             \u001b[0;32mreturn\u001b[0m \u001b[0mself\u001b[0m\u001b[0;34m.\u001b[0m\u001b[0mobj\u001b[0m\u001b[0;34m.\u001b[0m\u001b[0m_take\u001b[0m\u001b[0;34m(\u001b[0m\u001b[0minds\u001b[0m\u001b[0;34m,\u001b[0m \u001b[0maxis\u001b[0m\u001b[0;34m=\u001b[0m\u001b[0maxis\u001b[0m\u001b[0;34m)\u001b[0m\u001b[0;34m\u001b[0m\u001b[0m\n\u001b[0m\u001b[1;32m   1497\u001b[0m         \u001b[0;32mexcept\u001b[0m \u001b[0mException\u001b[0m \u001b[0;32mas\u001b[0m \u001b[0mdetail\u001b[0m\u001b[0;34m:\u001b[0m\u001b[0;34m\u001b[0m\u001b[0m\n\u001b[1;32m   1498\u001b[0m             \u001b[0;32mraise\u001b[0m \u001b[0mself\u001b[0m\u001b[0;34m.\u001b[0m\u001b[0m_exception\u001b[0m\u001b[0;34m(\u001b[0m\u001b[0mdetail\u001b[0m\u001b[0;34m)\u001b[0m\u001b[0;34m\u001b[0m\u001b[0m\n",
      "\u001b[0;32m~/.local/lib/python3.6/site-packages/pandas/core/generic.py\u001b[0m in \u001b[0;36m_take\u001b[0;34m(self, indices, axis, is_copy)\u001b[0m\n\u001b[1;32m   2784\u001b[0m         new_data = self._data.take(indices,\n\u001b[1;32m   2785\u001b[0m                                    \u001b[0maxis\u001b[0m\u001b[0;34m=\u001b[0m\u001b[0mself\u001b[0m\u001b[0;34m.\u001b[0m\u001b[0m_get_block_manager_axis\u001b[0m\u001b[0;34m(\u001b[0m\u001b[0maxis\u001b[0m\u001b[0;34m)\u001b[0m\u001b[0;34m,\u001b[0m\u001b[0;34m\u001b[0m\u001b[0m\n\u001b[0;32m-> 2786\u001b[0;31m                                    verify=True)\n\u001b[0m\u001b[1;32m   2787\u001b[0m         \u001b[0mresult\u001b[0m \u001b[0;34m=\u001b[0m \u001b[0mself\u001b[0m\u001b[0;34m.\u001b[0m\u001b[0m_constructor\u001b[0m\u001b[0;34m(\u001b[0m\u001b[0mnew_data\u001b[0m\u001b[0;34m)\u001b[0m\u001b[0;34m.\u001b[0m\u001b[0m__finalize__\u001b[0m\u001b[0;34m(\u001b[0m\u001b[0mself\u001b[0m\u001b[0;34m)\u001b[0m\u001b[0;34m\u001b[0m\u001b[0m\n\u001b[1;32m   2788\u001b[0m \u001b[0;34m\u001b[0m\u001b[0m\n",
      "\u001b[0;32m~/.local/lib/python3.6/site-packages/pandas/core/internals.py\u001b[0m in \u001b[0;36mtake\u001b[0;34m(self, indexer, axis, verify, convert)\u001b[0m\n\u001b[1;32m   4537\u001b[0m         \u001b[0mnew_labels\u001b[0m \u001b[0;34m=\u001b[0m \u001b[0mself\u001b[0m\u001b[0;34m.\u001b[0m\u001b[0maxes\u001b[0m\u001b[0;34m[\u001b[0m\u001b[0maxis\u001b[0m\u001b[0;34m]\u001b[0m\u001b[0;34m.\u001b[0m\u001b[0mtake\u001b[0m\u001b[0;34m(\u001b[0m\u001b[0mindexer\u001b[0m\u001b[0;34m)\u001b[0m\u001b[0;34m\u001b[0m\u001b[0m\n\u001b[1;32m   4538\u001b[0m         return self.reindex_indexer(new_axis=new_labels, indexer=indexer,\n\u001b[0;32m-> 4539\u001b[0;31m                                     axis=axis, allow_dups=True)\n\u001b[0m\u001b[1;32m   4540\u001b[0m \u001b[0;34m\u001b[0m\u001b[0m\n\u001b[1;32m   4541\u001b[0m     \u001b[0;32mdef\u001b[0m \u001b[0mmerge\u001b[0m\u001b[0;34m(\u001b[0m\u001b[0mself\u001b[0m\u001b[0;34m,\u001b[0m \u001b[0mother\u001b[0m\u001b[0;34m,\u001b[0m \u001b[0mlsuffix\u001b[0m\u001b[0;34m=\u001b[0m\u001b[0;34m''\u001b[0m\u001b[0;34m,\u001b[0m \u001b[0mrsuffix\u001b[0m\u001b[0;34m=\u001b[0m\u001b[0;34m''\u001b[0m\u001b[0;34m)\u001b[0m\u001b[0;34m:\u001b[0m\u001b[0;34m\u001b[0m\u001b[0m\n",
      "\u001b[0;32m~/.local/lib/python3.6/site-packages/pandas/core/internals.py\u001b[0m in \u001b[0;36mreindex_indexer\u001b[0;34m(self, new_axis, indexer, axis, fill_value, allow_dups, copy)\u001b[0m\n\u001b[1;32m   4423\u001b[0m             new_blocks = [blk.take_nd(indexer, axis=axis, fill_tuple=(\n\u001b[1;32m   4424\u001b[0m                 fill_value if fill_value is not None else blk.fill_value,))\n\u001b[0;32m-> 4425\u001b[0;31m                 for blk in self.blocks]\n\u001b[0m\u001b[1;32m   4426\u001b[0m \u001b[0;34m\u001b[0m\u001b[0m\n\u001b[1;32m   4427\u001b[0m         \u001b[0mnew_axes\u001b[0m \u001b[0;34m=\u001b[0m \u001b[0mlist\u001b[0m\u001b[0;34m(\u001b[0m\u001b[0mself\u001b[0m\u001b[0;34m.\u001b[0m\u001b[0maxes\u001b[0m\u001b[0;34m)\u001b[0m\u001b[0;34m\u001b[0m\u001b[0m\n",
      "\u001b[0;32m~/.local/lib/python3.6/site-packages/pandas/core/internals.py\u001b[0m in \u001b[0;36m<listcomp>\u001b[0;34m(.0)\u001b[0m\n\u001b[1;32m   4423\u001b[0m             new_blocks = [blk.take_nd(indexer, axis=axis, fill_tuple=(\n\u001b[1;32m   4424\u001b[0m                 fill_value if fill_value is not None else blk.fill_value,))\n\u001b[0;32m-> 4425\u001b[0;31m                 for blk in self.blocks]\n\u001b[0m\u001b[1;32m   4426\u001b[0m \u001b[0;34m\u001b[0m\u001b[0m\n\u001b[1;32m   4427\u001b[0m         \u001b[0mnew_axes\u001b[0m \u001b[0;34m=\u001b[0m \u001b[0mlist\u001b[0m\u001b[0;34m(\u001b[0m\u001b[0mself\u001b[0m\u001b[0;34m.\u001b[0m\u001b[0maxes\u001b[0m\u001b[0;34m)\u001b[0m\u001b[0;34m\u001b[0m\u001b[0m\n",
      "\u001b[0;32m~/.local/lib/python3.6/site-packages/pandas/core/internals.py\u001b[0m in \u001b[0;36mtake_nd\u001b[0;34m(self, indexer, axis, new_mgr_locs, fill_tuple)\u001b[0m\n\u001b[1;32m   1256\u001b[0m             \u001b[0mfill_value\u001b[0m \u001b[0;34m=\u001b[0m \u001b[0mfill_tuple\u001b[0m\u001b[0;34m[\u001b[0m\u001b[0;36m0\u001b[0m\u001b[0;34m]\u001b[0m\u001b[0;34m\u001b[0m\u001b[0m\n\u001b[1;32m   1257\u001b[0m             new_values = algos.take_nd(values, indexer, axis=axis,\n\u001b[0;32m-> 1258\u001b[0;31m                                        allow_fill=True, fill_value=fill_value)\n\u001b[0m\u001b[1;32m   1259\u001b[0m \u001b[0;34m\u001b[0m\u001b[0m\n\u001b[1;32m   1260\u001b[0m         \u001b[0;32mif\u001b[0m \u001b[0mnew_mgr_locs\u001b[0m \u001b[0;32mis\u001b[0m \u001b[0;32mNone\u001b[0m\u001b[0;34m:\u001b[0m\u001b[0;34m\u001b[0m\u001b[0m\n",
      "\u001b[0;32m~/.local/lib/python3.6/site-packages/pandas/core/algorithms.py\u001b[0m in \u001b[0;36mtake_nd\u001b[0;34m(arr, indexer, axis, out, fill_value, mask_info, allow_fill)\u001b[0m\n\u001b[1;32m   1592\u001b[0m     \u001b[0;32mif\u001b[0m \u001b[0mis_sparse\u001b[0m\u001b[0;34m(\u001b[0m\u001b[0marr\u001b[0m\u001b[0;34m)\u001b[0m\u001b[0;34m:\u001b[0m\u001b[0;34m\u001b[0m\u001b[0m\n\u001b[1;32m   1593\u001b[0m         \u001b[0marr\u001b[0m \u001b[0;34m=\u001b[0m \u001b[0marr\u001b[0m\u001b[0;34m.\u001b[0m\u001b[0mget_values\u001b[0m\u001b[0;34m(\u001b[0m\u001b[0;34m)\u001b[0m\u001b[0;34m\u001b[0m\u001b[0m\n\u001b[0;32m-> 1594\u001b[0;31m     \u001b[0;32melif\u001b[0m \u001b[0misinstance\u001b[0m\u001b[0;34m(\u001b[0m\u001b[0marr\u001b[0m\u001b[0;34m,\u001b[0m \u001b[0;34m(\u001b[0m\u001b[0mABCIndexClass\u001b[0m\u001b[0;34m,\u001b[0m \u001b[0mABCSeries\u001b[0m\u001b[0;34m)\u001b[0m\u001b[0;34m)\u001b[0m\u001b[0;34m:\u001b[0m\u001b[0;34m\u001b[0m\u001b[0m\n\u001b[0m\u001b[1;32m   1595\u001b[0m         \u001b[0marr\u001b[0m \u001b[0;34m=\u001b[0m \u001b[0marr\u001b[0m\u001b[0;34m.\u001b[0m\u001b[0mvalues\u001b[0m\u001b[0;34m\u001b[0m\u001b[0m\n\u001b[1;32m   1596\u001b[0m \u001b[0;34m\u001b[0m\u001b[0m\n",
      "\u001b[0;32m~/.local/lib/python3.6/site-packages/pandas/core/dtypes/generic.py\u001b[0m in \u001b[0;36m_check\u001b[0;34m(cls, inst)\u001b[0m\n\u001b[1;32m      7\u001b[0m     \u001b[0;34m@\u001b[0m\u001b[0mclassmethod\u001b[0m\u001b[0;34m\u001b[0m\u001b[0m\n\u001b[1;32m      8\u001b[0m     \u001b[0;32mdef\u001b[0m \u001b[0m_check\u001b[0m\u001b[0;34m(\u001b[0m\u001b[0mcls\u001b[0m\u001b[0;34m,\u001b[0m \u001b[0minst\u001b[0m\u001b[0;34m)\u001b[0m\u001b[0;34m:\u001b[0m\u001b[0;34m\u001b[0m\u001b[0m\n\u001b[0;32m----> 9\u001b[0;31m         \u001b[0;32mreturn\u001b[0m \u001b[0mgetattr\u001b[0m\u001b[0;34m(\u001b[0m\u001b[0minst\u001b[0m\u001b[0;34m,\u001b[0m \u001b[0mattr\u001b[0m\u001b[0;34m,\u001b[0m \u001b[0;34m'_typ'\u001b[0m\u001b[0;34m)\u001b[0m \u001b[0;32min\u001b[0m \u001b[0mcomp\u001b[0m\u001b[0;34m\u001b[0m\u001b[0m\n\u001b[0m\u001b[1;32m     10\u001b[0m \u001b[0;34m\u001b[0m\u001b[0m\n\u001b[1;32m     11\u001b[0m     \u001b[0mdct\u001b[0m \u001b[0;34m=\u001b[0m \u001b[0mdict\u001b[0m\u001b[0;34m(\u001b[0m\u001b[0m__instancecheck__\u001b[0m\u001b[0;34m=\u001b[0m\u001b[0m_check\u001b[0m\u001b[0;34m,\u001b[0m \u001b[0m__subclasscheck__\u001b[0m\u001b[0;34m=\u001b[0m\u001b[0m_check\u001b[0m\u001b[0;34m)\u001b[0m\u001b[0;34m\u001b[0m\u001b[0m\n",
      "\u001b[0;31mKeyboardInterrupt\u001b[0m: "
     ]
    }
   ],
   "source": [
    "# how do the party affiliations change over time? (Senate)\n",
    "# very slow... \n",
    "\n",
    "thresh = 100 # select only a particular range of congress from 1 to 155. ie. 100 = 1988\n",
    "vteSenThresh = vteSen[vteSen['congress']>=thresh]\n",
    "\n",
    "\n",
    "ptyCnts = []\n",
    "ptyBuff = []\n",
    "currentCong = thresh\n",
    "start = time.time()\n",
    "print('Start...')\n",
    "for index, row in vteSenThresh.iterrows():\n",
    "    \n",
    "    if index % 100000 == 0:\n",
    "        print(int(row['congress']),currentCong)\n",
    "    \n",
    "    if int(row['congress']) != currentCong:\n",
    "        print(currentCong,end=\" \")\n",
    "        currentCong = int(row['congress'])\n",
    "        numPty = len(set(ptyBuff))\n",
    "        #print(numPty)\n",
    "        ptyCnts.append(numPty)\n",
    "        ptyBuff = []\n",
    "    \n",
    "    isp = int(row['icpsr'])\n",
    "    pty = getParty(isp)\n",
    "    ptyBuff.append(pty[0])\n",
    "\n",
    "    \n",
    "    \n",
    "    \n",
    "    \n"
   ]
  },
  {
   "cell_type": "code",
   "execution_count": 60,
   "metadata": {},
   "outputs": [
    {
     "name": "stdout",
     "output_type": "stream",
     "text": [
      "115\n"
     ]
    },
    {
     "data": {
      "text/plain": [
       "1013961"
      ]
     },
     "execution_count": 60,
     "metadata": {},
     "output_type": "execute_result"
    }
   ],
   "source": [
    "print(len(set(vteSen['congress'])))\n",
    "\n",
    "ptyCnts\n",
    "vteSenThresh = vteSen[vteSen['congress']>=thresh]\n",
    "\n",
    "len(vteSenThresh)\n"
   ]
  },
  {
   "cell_type": "code",
   "execution_count": 54,
   "metadata": {},
   "outputs": [
    {
     "name": "stdout",
     "output_type": "stream",
     "text": [
      "Num party Counts []\n"
     ]
    },
    {
     "data": {
      "image/png": "[encoded data removed]",
      "text/plain": [
       "<Figure size 432x288 with 1 Axes>"
      ]
     },
     "metadata": {},
     "output_type": "display_data"
    }
   ],
   "source": [
    "print('Num party Counts', ptyCnts)\n",
    "\n",
    "if 1:\n",
    "    plt.plot(ptyCnts)\n",
    "    plt.title('Number of parties over time')\n",
    "    plt.show()\n",
    "    "
   ]
  },
  {
   "cell_type": "code",
   "execution_count": 3,
   "metadata": {},
   "outputs": [],
   "source": [
    "c1 = roll[roll['congress'] == 3]\n",
    "max(c1['rollnumber'])\n",
    "\n",
    "# collect max roll number for each congress\n",
    "maxRolls = {}\n",
    "for i in range(1, max(roll['congress'])):\n",
    "    c = roll[roll['congress'] == i]\n",
    "    maxRolls[i] = max(c['rollnumber'])\n",
    "\n",
    "        "
   ]
  },
  {
   "cell_type": "code",
   "execution_count": 51,
   "metadata": {},
   "outputs": [
    {
     "data": {
      "image/png": "[encoded data removed]",
      "text/plain": [
       "<Figure size 432x288 with 1 Axes>"
      ]
     },
     "metadata": {},
     "output_type": "display_data"
    }
   ],
   "source": [
    "x, y = zip(*maxRolls.items())\n",
    "if 1:\n",
    "    plt.plot(x,y)\n",
    "    plt.title('Number of rolls per congress')\n",
    "    plt.show()"
   ]
  },
  {
   "cell_type": "code",
   "execution_count": 17,
   "metadata": {},
   "outputs": [],
   "source": [
    "import RollCodes\n",
    "rc = RollCodes.rollCodes # grab the data"
   ]
  },
  {
   "cell_type": "code",
   "execution_count": 48,
   "metadata": {},
   "outputs": [
    {
     "name": "stdout",
     "output_type": "stream",
     "text": [
      "Took: 252.9785554409027 seconds to run 116\n"
     ]
    }
   ],
   "source": [
    "# calculate the yay nay ratio for n congress\n",
    "import time\n",
    "\n",
    "thresh = 75\n",
    "df = roll[roll['congress'] > thresh]\n",
    "\n",
    "start = time.time()\n",
    "ynRat = []\n",
    "\n",
    "compMin = (((max(df['congress'])-thresh) / 10) * 99) / 60\n",
    "print('Thinking... (est time', compMin, ') minutes')\n",
    "for i in range(min(df['congress']),max(df['congress'])):\n",
    "    c = df[df['congress'] == i]\n",
    "\n",
    "    yay,nay = 0,0\n",
    "    for index, row in c.iterrows():\n",
    "        if row['cast_code'] == 1:\n",
    "            yay += 1\n",
    "        elif row['cast_code'] == 6:\n",
    "            nay += 1\n",
    "            \n",
    "    ynRat.append(yay/nay)\n",
    "    \n",
    "print('Took:', time.time()-start, 'seconds to run', max(df['congress']))\n",
    "# takes 99 seconds to run 10\n",
    "#       252               41 "
   ]
  },
  {
   "cell_type": "code",
   "execution_count": 49,
   "metadata": {},
   "outputs": [
    {
     "data": {
      "image/png": "[encoded data removed]",
      "text/plain": [
       "<Figure size 432x288 with 1 Axes>"
      ]
     },
     "metadata": {},
     "output_type": "display_data"
    },
    {
     "data": {
      "text/plain": [
       "[1.1241386735572783,\n",
       " 1.3017911456573166,\n",
       " 1.1941489361702127,\n",
       " 0.991407574901074,\n",
       " 1.0621604680317593,\n",
       " 0.9405786638529461,\n",
       " 0.946649210375583,\n",
       " 1.1219934577640946,\n",
       " 1.2871213065702531,\n",
       " 1.3157318741450068]"
      ]
     },
     "execution_count": 49,
     "metadata": {},
     "output_type": "execute_result"
    }
   ],
   "source": [
    "if 1:\n",
    "    plt.plot(range(min(df['congress']),max(df['congress'])),ynRat)\n",
    "    plt.title('yay/nay ratio per congress')\n",
    "    plt.xlabel('Congress')\n",
    "    plt.ylabel('ratio')\n",
    "    plt.show()\n",
    "\n"
   ]
  },
  {
   "cell_type": "code",
   "execution_count": 114,
   "metadata": {},
   "outputs": [
    {
     "name": "stdout",
     "output_type": "stream",
     "text": [
      "   congress  icps  state  dist stateName party        name  \\\n",
      "0         1  4998      1     0   CONNECT  5000     JOHNSON   \n",
      "1         1  2936      1     0   CONNECT  5000   ELLSWORTH   \n",
      "2         1   507     11     0   DELAWAR  4000     BASSETT   \n",
      "3         1  7762     11     0   DELAWAR  5000        READ   \n",
      "4         1  3128     44     0   GEORGIA  4000         FEW   \n",
      "\n",
      "                    nameLong  \n",
      "0    JOHNSON, WILLIAM SAMUEL  \n",
      "1          ELLSWORTH, OLIVER  \n",
      "2           BASSETT, RICHARD  \n",
      "3               READ, GEORGE  \n",
      "4               FEW, WILLIAM  \n"
     ]
    },
    {
     "data": {
      "text/plain": [
       "9414"
      ]
     },
     "execution_count": 114,
     "metadata": {},
     "output_type": "execute_result"
    }
   ],
   "source": [
    "# Let's grab the names and parties\n",
    "npty = pd.read_csv('data/ICPS.csv')\n",
    "print(npty.head())\n",
    "len(npty['icps'])"
   ]
  },
  {
   "cell_type": "code",
   "execution_count": 132,
   "metadata": {},
   "outputs": [
    {
     "name": "stdout",
     "output_type": "stream",
     "text": [
      "[100, 100, 100]\n",
      "[]\n",
      "[]\n"
     ]
    }
   ],
   "source": [
    "# let's build some useful functions\n",
    "\n",
    "def get_name(ipr):\n",
    "    idx = npty[npty['icps'] == ipr].index.tolist()\n",
    "    nms = [npty.loc[id_,'name'] for id_ in idx]\n",
    "    return nms \n",
    "\n",
    "def get_party(ipr):\n",
    "    idx = npty[npty['icps'] == str(ipr)].index.tolist()\n",
    "    ptys = [npty.loc[id_,'party'] for id_ in idx]\n",
    "    #ptys = [int(pt) for pt in ptys]\n",
    "    \n",
    "    ptys_ = []\n",
    "    for p in ptys:\n",
    "        if '*' in p: # deal with *\n",
    "            ptys_.append(int(p[2:len(p)]))\n",
    "        else:\n",
    "            ptys_.append(int(p))\n",
    "    return ptys_\n",
    "    \n",
    "# 1536\n",
    "\n",
    "npty.loc[4,'state']\n",
    "\n",
    "npty.loc[38,'name']\n",
    "print(get_party(99911))\n",
    "print(get_name(99911))\n",
    "\n",
    "npty['icps'] == 99911\n",
    "\n",
    "# 9094\n",
    "npty.loc[9093,'icps']\n",
    "\n",
    "len(npty[npty['icps'] == '99911'])\n",
    "print(get_party(21166))"
   ]
  },
  {
   "cell_type": "code",
   "execution_count": 106,
   "metadata": {},
   "outputs": [
    {
     "name": "stdout",
     "output_type": "stream",
     "text": [
      "Number of votes for 1366.000000: 597.000000\n",
      "took 29.209765672683716\n"
     ]
    },
    {
     "data": {
      "image/png": "[encoded data removed]",
      "text/plain": [
       "<Figure size 432x288 with 1 Axes>"
      ]
     },
     "metadata": {},
     "output_type": "display_data"
    }
   ],
   "source": [
    "# Let's find how one person votes over time\n",
    "\n",
    "thresh = 110 \n",
    "df = roll[roll['congress'] > thresh]\n",
    "df.head()\n",
    "\n",
    "# grab the votes for the member\n",
    "memb = 1366\n",
    "votes = [] #todo dict?\n",
    "start = time.time()\n",
    "for index, row in df.iterrows():\n",
    "    if row['icpsr'] == memb:\n",
    "        votes.append(row['cast_code'])\n",
    "\n",
    "print('Number of votes for %f: %f' %(memb, len(votes)))\n",
    "\n",
    "print('took', (time.time() - start))\n",
    "\n",
    "plt.plot(votes)\n",
    "plt.show()\n",
    "\n",
    "\n"
   ]
  },
  {
   "cell_type": "code",
   "execution_count": 85,
   "metadata": {},
   "outputs": [
    {
     "name": "stdout",
     "output_type": "stream",
     "text": [
      "1366 ['10', '10', '10', '10', '10', '10', '10', '10', '10', '10', '10', '10', '10', '10', '10', '10', '10', '10', '10', '10', '10', '10', '10', '10', '10', '10']\n",
      "4812 ['10', '10', '10', '10', '10', '10', '10', '10', '10', '10', '10', '10', '10', '10', '10', '10', '10', '10', '10', '10', '10', '10', '10', '10', '10', '10', '10', '10', '10', '10', '10', '10', '10', '10']\n",
      "10808 []\n",
      "14009 []\n",
      "14101 []\n"
     ]
    }
   ],
   "source": [
    "tst = df.head()\n",
    "tst = tst.copy(deep=True)\n",
    "\n",
    "tst['party'] = [1,0,0,1,1]\n",
    "\n",
    "# add party to data\n",
    "\n",
    "# make the party column\n",
    "partys = []\n",
    "for index, row in tst.iterrows():\n",
    "    ptys = get_party(row['icpsr'])\n",
    "    print(row['icpsr'], ptys)\n",
    "    \n",
    "    # there isn't a party\n",
    "    if len(ptys) == 0:\n",
    "        ptys = [999]\n",
    "        \n",
    "    partys.append(ptys[0])"
   ]
  },
  {
   "cell_type": "code",
   "execution_count": 133,
   "metadata": {},
   "outputs": [
    {
     "name": "stdout",
     "output_type": "stream",
     "text": [
      "145 178\n",
      "took 1430.2501866817474\n"
     ]
    }
   ],
   "source": [
    "# how impoverished is my party data?\n",
    "thresh = 110 \n",
    "df = roll[roll['congress'] > thresh]\n",
    "\n",
    "# grab unique icpsr's\n",
    "members = df['icpsr'].unique()\n",
    "\n",
    "pty = []\n",
    "for mem in members:\n",
    "    ptys = get_party(mem)\n",
    "    \n",
    "    if len(ptys) > 0:\n",
    "        pty.append(ptys[0])\n",
    "    #else:\n",
    "        #print(mem)\n",
    "        \n",
    "print(len(pty),len(members))\n",
    "print('took', (time.time() - start))\n",
    " \n",
    "        \n",
    "        "
   ]
  },
  {
   "cell_type": "code",
   "execution_count": null,
   "metadata": {},
   "outputs": [],
   "source": []
  },
  {
   "cell_type": "code",
   "execution_count": null,
   "metadata": {},
   "outputs": [],
   "source": []
  },
  {
   "cell_type": "code",
   "execution_count": null,
   "metadata": {},
   "outputs": [],
   "source": []
  },
  {
   "cell_type": "code",
   "execution_count": null,
   "metadata": {},
   "outputs": [],
   "source": []
  },
  {
   "cell_type": "code",
   "execution_count": null,
   "metadata": {},
   "outputs": [],
   "source": []
  },
  {
   "cell_type": "code",
   "execution_count": null,
   "metadata": {},
   "outputs": [],
   "source": [
    "# \n",
    "\n",
    "\n",
    "\n",
    "# are you more likely to see a yay after seeing a nay? Vice versa"
   ]
  }
 ],
 "metadata": {
  "kernelspec": {
   "display_name": "Python 3",
   "language": "python",
   "name": "python3"
  },
  "language_info": {
   "codemirror_mode": {
    "name": "ipython",
    "version": 3
   },
   "file_extension": ".py",
   "mimetype": "text/x-python",
   "name": "python",
   "nbconvert_exporter": "python",
   "pygments_lexer": "ipython3",
   "version": "3.6.5"
  }
 },
 "nbformat": 4,
 "nbformat_minor": 2
}
